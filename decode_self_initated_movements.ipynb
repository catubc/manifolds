{
 "cells": [
  {
   "cell_type": "code",
   "execution_count": 33,
   "id": "6668f038",
   "metadata": {},
   "outputs": [
    {
     "data": {
      "application/javascript": [
       "IPython.notebook.set_autosave_interval(180000)"
      ]
     },
     "metadata": {},
     "output_type": "display_data"
    },
    {
     "name": "stdout",
     "output_type": "stream",
     "text": [
      "Autosaving every 180 seconds\n",
      "The autoreload extension is already loaded. To reload it, use:\n",
      "  %reload_ext autoreload\n"
     ]
    },
    {
     "data": {
      "text/html": [
       "<style>.container { width:100% !important; }</style>"
      ],
      "text/plain": [
       "<IPython.core.display.HTML object>"
      ]
     },
     "metadata": {},
     "output_type": "display_data"
    }
   ],
   "source": [
    "import matplotlib\n",
    "%matplotlib tk\n",
    "%autosave 180\n",
    "%load_ext autoreload\n",
    "%autoreload 2\n",
    "\n",
    "import nest_asyncio\n",
    "%config Completer.use_jedi = False\n",
    "\n",
    "#\n",
    "import matplotlib.pyplot as plt\n",
    "from IPython.core.display import display, HTML\n",
    "display(HTML(\"<style>.container { width:100% !important; }</style>\"))\n",
    "\n",
    "import scipy\n",
    "import numpy as np\n",
    "import pandas as pd\n",
    "import os\n",
    "\n",
    "from calcium import calcium\n",
    "from wheel import wheel\n",
    "from visualize import visualize\n",
    "from tqdm import trange\n",
    "\n",
    "\n",
    "from scipy.io import loadmat\n",
    "\n",
    "import umap\n",
    "\n",
    "from sklearn.decomposition import PCA\n",
    "import plotly.express as px\n",
    "from plotly.subplots import make_subplots\n",
    "import plotly.graph_objects as go\n",
    "\n",
    "\n",
    "#\n",
    "from tsnecuda import TSNE\n",
    "\n",
    "# \n",
    "np.set_printoptions(suppress=True)\n"
   ]
  },
  {
   "cell_type": "code",
   "execution_count": 106,
   "id": "a0ef1999",
   "metadata": {},
   "outputs": [],
   "source": [
    "###############################\n",
    "####### LOAD WHEEL DATA #######\n",
    "###############################\n",
    "root_dir = '/media/cat/256GB/donato/DON-003343/'\n",
    "\n",
    "sessions = np.sort(os.listdir('/media/cat/256GB/donato/DON-003343/'))\n",
    "session = 'DON-003343_20210303'\n",
    "\n",
    "sessions = [session]\n",
    "\n",
    "cmap = plt.get_cmap(\"viridis\", 20)\n",
    "\n",
    "\n",
    "for ctr,session in enumerate(sessions): \n",
    "\n",
    "    # \n",
    "    w = wheel.Wheel()\n",
    "\n",
    "    #\n",
    "    w.root_dir = os.path.join(root_dir, \n",
    "                              session, \n",
    "                              'TRD-2P')\n",
    "    try:\n",
    "        w.load_track()\n",
    "    except:\n",
    "        print (\"session: \", session, \" Missing wheel data\")\n",
    "        continue\n",
    "        \n",
    "    # print (session, np.max(w.track.distances.values), w.track.distances.values.shape[0])\n",
    "        \n",
    "    # \n",
    "    w.compute_velocity()\n",
    "\n",
    "    #\n",
    "    plt.plot(w.track.distances.values[::10000], \n",
    "             color=cmap(ctr),\n",
    "             linewidth=3,\n",
    "             label=session)\n",
    "    \n",
    "plt.legend()\n",
    "plt.xlim(0,w.track.distances.values[::10000].shape[0])\n",
    "plt.ylim(bottom=0)\n",
    "plt.xlabel(\"Time (sec)\", fontsize=20)\n",
    "plt.ylabel(\"Distance (metres)\", fontsize=20)\n",
    "plt.show()\n"
   ]
  },
  {
   "cell_type": "code",
   "execution_count": 71,
   "id": "92eb4d54",
   "metadata": {},
   "outputs": [],
   "source": [
    "# # np.save('/home/cat/galvo_times.npy', w.track.galvo_triggers.times)\n",
    "# # np.save('/home/cat/velocity_times.npy', w.track.velocity.times)\n",
    "# # np.save('/home/cat/velocity_values.npy', w.track.velocity.values)\n",
    "\n",
    "# print (w.track.velocity.times.shape)\n",
    "# print (w.track.galvo_triggers.times.shape)\n",
    "\n",
    "# w.plot_track(w.track.velocity)\n",
    "\n",
    "# w.plot_track(w.track.galvo_triggers)\n",
    "# plt.show()\n",
    "\n",
    "# d = np.load('/media/cat/256GB/donato/DON-003343/DON-003343_20210223/TRD-2P/chb.npy')\n",
    "# print (d.shape)\n",
    "\n",
    "# plt.plot(d)\n",
    "# plt.show()"
   ]
  },
  {
   "cell_type": "code",
   "execution_count": 3,
   "id": "c7d05550",
   "metadata": {},
   "outputs": [
    {
     "name": "stdout",
     "output_type": "stream",
     "text": [
      "self.F (fluorescence):  (1043, 55740)\n",
      "self.Fneu (neuropile):  (1043, 55740)\n",
      "self.iscell (cell classifier output):  (1043, 2)\n",
      "self.ops:  ()\n",
      "self.spks (deconnvoved spikes):  (1043, 55740)\n",
      "self.stat (footprints?):  (1043,)\n"
     ]
    },
    {
     "name": "stderr",
     "output_type": "stream",
     "text": [
      "100%|███████████████████████████████████████████████████████████████████████████████████████████████████████████| 1043/1043 [00:00<00:00, 1467.13it/s]\n",
      "100%|████████████████████████████████████████████████████████████████████████████████████████████████████████████████| 10/10 [00:00<00:00, 114.11it/s]\n"
     ]
    }
   ],
   "source": [
    "#####################################\n",
    "######### LOAD CALCIUM DATA #########\n",
    "#####################################\n",
    "#root_dir = '/media/cat/256GB/donato/DON-003343/'\n",
    "#session = 'DON-003343_20210303'\n",
    "\n",
    "#\n",
    "session_dir = os.path.join(root_dir, session, 'suite2p','plane0')\n",
    "\n",
    "c = calcium.Calcium()\n",
    "c.root_dir = session_dir\n",
    "c.load_suite2p()\n",
    "\n",
    "#\n",
    "c.F = c.standardize(c.F)\n",
    "\n",
    "#\n",
    "c.plot_traces(c.F, 10)\n"
   ]
  },
  {
   "cell_type": "code",
   "execution_count": 4,
   "id": "9634fc06",
   "metadata": {},
   "outputs": [
    {
     "name": "stderr",
     "output_type": "stream",
     "text": [
      "100%|███████████████████████████████████████████████████████████████████████████████████████████████████████████████████| 1/1 [00:00<00:00, 16.97it/s]\n",
      "100%|████████████████████████████████████████████████████████████████████████████████████████████████████████████| 1043/1043 [00:01<00:00, 710.06it/s]\n",
      "100%|██████████████████████████████████████████████████████████████████████████████████████████████████████████████████| 1/1 [00:00<00:00, 185.51it/s]\n",
      "100%|████████████████████████████████████████████████████████████████████████████████████████████████████████████| 1043/1043 [00:03<00:00, 317.19it/s]\n",
      "100%|██████████████████████████████████████████████████████████████████████████████████████████████████████████████████| 1/1 [00:00<00:00, 356.75it/s]\n"
     ]
    }
   ],
   "source": [
    "####################################\n",
    "######### BINARIZE DATA ############\n",
    "####################################\n",
    "c.keep_plot = True\n",
    "\n",
    "#\n",
    "c.plot_traces(c.F, 1)\n",
    "\n",
    "#\n",
    "c.low_cutoff = .01\n",
    "c.high_cutoff = 1\n",
    "#F_lp = c.band_pass_filter(c.F)\n",
    "c.F_lp = c.low_pass_filter(c.F)\n",
    "c.plot_traces(c.F_lp,1)\n",
    "\n",
    "#\n",
    "thresh_std = 3 # number of time std \n",
    "c.F_bn, c.F_bn_aliased = c.binarize(c.F_lp, thresh_std)\n",
    "c.plot_traces(c.F_bn/2.,1)\n",
    "\n",
    "\n"
   ]
  },
  {
   "cell_type": "code",
   "execution_count": 5,
   "id": "2204a57a",
   "metadata": {},
   "outputs": [
    {
     "name": "stdout",
     "output_type": "stream",
     "text": [
      "front padding:  3.9194 sec 117  in frame times\n",
      "end padding:  25.592100000000073 sec 767  in frame times\n"
     ]
    }
   ],
   "source": [
    "#############################################\n",
    "######### VISUALIZE [CA] and WHEEL ##########\n",
    "#############################################\n",
    "import matplotlib.gridspec as gridspec\n",
    "\n",
    "\n",
    "fig = plt.figure()\n",
    "spec = gridspec.GridSpec(ncols=1, nrows=5, figure=fig)\n",
    "\n",
    "ax1 = fig.add_subplot(spec[0:4, 0])\n",
    "ax2 = fig.add_subplot(spec[4, 0])\n",
    "\n",
    "#\n",
    "c.plot_raster(ax1, \n",
    "              c.F_bn_aliased, \n",
    "              w.track.galvo_triggers.times, \n",
    "              w.track.positions.times)\n",
    "\n",
    "# plot track\n",
    "w.plot_track(w.track.velocity, ax2, 'blue', 'velocity')\n",
    "\n",
    "# plot histogram of mua\n",
    "c.mua = wheel.empty()\n",
    "c.mua.values = np.sum(c.F_bn,\n",
    "                      axis=0)/100.\n",
    "c.mua.times = w.track.galvo_triggers.times/10000.\n",
    "w.plot_track(c.mua, ax2, 'red', 'mua')\n",
    "\n",
    "ax2.set_xlim(w.track.distances.times[0], \n",
    "             w.track.distances.times[-1])\n",
    "\n",
    "#\n",
    "plt.show()"
   ]
  },
  {
   "cell_type": "code",
   "execution_count": 35,
   "id": "c28f060e",
   "metadata": {},
   "outputs": [],
   "source": [
    "# plot track\n",
    "ax2=plt.subplot(111)\n",
    "w.plot_track(w.track.velocity, ax2, 'blue', 'velocity')\n",
    "\n",
    "# plot histogram of mua\n",
    "c.mua = wheel.empty()\n",
    "c.mua.values = np.sum(c.F_bn,axis=0)/100.\n",
    "c.mua.times = w.track.galvo_triggers.times/10000.\n",
    "w.plot_track(c.mua, ax2, 'red', 'mua')\n",
    "\n",
    "#\n",
    "plt.show()"
   ]
  },
  {
   "cell_type": "code",
   "execution_count": 123,
   "id": "e31ffba0",
   "metadata": {
    "scrolled": true
   },
   "outputs": [
    {
     "ename": "ValueError",
     "evalue": "all the input array dimensions for the concatenation axis must match exactly, but along dimension 1, the array at index 0 has size 436 and the array at index 1 has size 435",
     "output_type": "error",
     "traceback": [
      "\u001b[0;31m---------------------------------------------------------------------------\u001b[0m",
      "\u001b[0;31mValueError\u001b[0m                                Traceback (most recent call last)",
      "\u001b[0;32m/tmp/ipykernel_176190/4081653376.py\u001b[0m in \u001b[0;36m<module>\u001b[0;34m\u001b[0m\n\u001b[1;32m     92\u001b[0m \u001b[0mmin_run_duration\u001b[0m \u001b[0;34m=\u001b[0m \u001b[0;36m0.25\u001b[0m\u001b[0;34m\u001b[0m\u001b[0;34m\u001b[0m\u001b[0m\n\u001b[1;32m     93\u001b[0m \u001b[0mmin_stationary_time\u001b[0m \u001b[0;34m=\u001b[0m \u001b[0;36m1.0\u001b[0m\u001b[0;34m\u001b[0m\u001b[0;34m\u001b[0m\u001b[0m\n\u001b[0;32m---> 94\u001b[0;31m durs = get_run_segments(vel, \n\u001b[0m\u001b[1;32m     95\u001b[0m                         \u001b[0mtimes\u001b[0m\u001b[0;34m,\u001b[0m\u001b[0;34m\u001b[0m\u001b[0;34m\u001b[0m\u001b[0m\n\u001b[1;32m     96\u001b[0m                         \u001b[0mmin_vel\u001b[0m\u001b[0;34m,\u001b[0m\u001b[0;34m\u001b[0m\u001b[0;34m\u001b[0m\u001b[0m\n",
      "\u001b[0;32m/tmp/ipykernel_176190/4081653376.py\u001b[0m in \u001b[0;36mget_run_segments\u001b[0;34m(vel, times, min_vel, min_run_duration, min_stationary_time)\u001b[0m\n\u001b[1;32m     31\u001b[0m     \u001b[0mend_times\u001b[0m \u001b[0;34m=\u001b[0m \u001b[0mtimes\u001b[0m\u001b[0;34m[\u001b[0m\u001b[0midx3\u001b[0m\u001b[0;34m]\u001b[0m\u001b[0;34m\u001b[0m\u001b[0;34m\u001b[0m\u001b[0m\n\u001b[1;32m     32\u001b[0m \u001b[0;34m\u001b[0m\u001b[0m\n\u001b[0;32m---> 33\u001b[0;31m     durs = np.vstack((init_times[:-1],\n\u001b[0m\u001b[1;32m     34\u001b[0m                       end_times[1:])).T\n\u001b[1;32m     35\u001b[0m \u001b[0;34m\u001b[0m\u001b[0m\n",
      "\u001b[0;32m<__array_function__ internals>\u001b[0m in \u001b[0;36mvstack\u001b[0;34m(*args, **kwargs)\u001b[0m\n",
      "\u001b[0;32m~/anaconda3/envs/manifolds/lib/python3.8/site-packages/numpy/core/shape_base.py\u001b[0m in \u001b[0;36mvstack\u001b[0;34m(tup)\u001b[0m\n\u001b[1;32m    281\u001b[0m     \u001b[0;32mif\u001b[0m \u001b[0;32mnot\u001b[0m \u001b[0misinstance\u001b[0m\u001b[0;34m(\u001b[0m\u001b[0marrs\u001b[0m\u001b[0;34m,\u001b[0m \u001b[0mlist\u001b[0m\u001b[0;34m)\u001b[0m\u001b[0;34m:\u001b[0m\u001b[0;34m\u001b[0m\u001b[0;34m\u001b[0m\u001b[0m\n\u001b[1;32m    282\u001b[0m         \u001b[0marrs\u001b[0m \u001b[0;34m=\u001b[0m \u001b[0;34m[\u001b[0m\u001b[0marrs\u001b[0m\u001b[0;34m]\u001b[0m\u001b[0;34m\u001b[0m\u001b[0;34m\u001b[0m\u001b[0m\n\u001b[0;32m--> 283\u001b[0;31m     \u001b[0;32mreturn\u001b[0m \u001b[0m_nx\u001b[0m\u001b[0;34m.\u001b[0m\u001b[0mconcatenate\u001b[0m\u001b[0;34m(\u001b[0m\u001b[0marrs\u001b[0m\u001b[0;34m,\u001b[0m \u001b[0;36m0\u001b[0m\u001b[0;34m)\u001b[0m\u001b[0;34m\u001b[0m\u001b[0;34m\u001b[0m\u001b[0m\n\u001b[0m\u001b[1;32m    284\u001b[0m \u001b[0;34m\u001b[0m\u001b[0m\n\u001b[1;32m    285\u001b[0m \u001b[0;34m\u001b[0m\u001b[0m\n",
      "\u001b[0;32m<__array_function__ internals>\u001b[0m in \u001b[0;36mconcatenate\u001b[0;34m(*args, **kwargs)\u001b[0m\n",
      "\u001b[0;31mValueError\u001b[0m: all the input array dimensions for the concatenation axis must match exactly, but along dimension 1, the array at index 0 has size 436 and the array at index 1 has size 435"
     ]
    }
   ],
   "source": [
    "#############################################################\n",
    "#############################################################\n",
    "#############################################################\n",
    "#\n",
    "\n",
    "def get_run_segments(vel,\n",
    "                     times, \n",
    "                     min_vel,\n",
    "                     min_run_duration,\n",
    "                     min_stationary_time):\n",
    "    \n",
    "    # \n",
    "    vel = w.track.velocity.values.copy()\n",
    "    times = w.track.velocity.times.copy()\n",
    "\n",
    "    #\n",
    "    idx = np.where(vel<min_vel)[0]\n",
    "    vel[idx]=0\n",
    "\n",
    "    # detect onsets\n",
    "    diffs = vel[1:]-vel[:-1]\n",
    "    idx = np.where(diffs>0)[0]\n",
    "    idx2 = np.where(vel[idx+1-1]==0)\n",
    "    idx3 = idx[idx2]\n",
    "    init_times = times[idx3]\n",
    "\n",
    "    diffs = vel[:-1]-vel[1:]\n",
    "    idx = np.where(diffs>0)[0]\n",
    "    idx2 = np.where(vel[idx+1]==0)\n",
    "    idx3 = idx[idx2]\n",
    "    end_times = times[idx3]\n",
    "\n",
    "    durs = np.vstack((init_times[:-1],\n",
    "                      end_times[1:])).T\n",
    "\n",
    "    #############################################\n",
    "    ####### CHECK STATIONARY TIME ###############\n",
    "    #############################################\n",
    "    durs2 = []\n",
    "    for k in range(1, durs.shape[0], 1):\n",
    "        #print (durs[k][0]-durs[k-1][1])\n",
    "        if (durs[k][0]-durs[k-1][1])>=min_stationary_time:\n",
    "            durs2.append(durs[k])\n",
    "            #print (durs[k][0]-durs[k-1][1])\n",
    "        #print ()\n",
    "    #\n",
    "    durs = np.array(durs2)\n",
    "    \n",
    "    #########################################################\n",
    "    ######## CHECK MIN DURATION OF RUN ######################\n",
    "    #########################################################\n",
    "    durs2 = []\n",
    "    for k in range(durs.shape[0]):\n",
    "        #print (durs[k][1]-durs[k][0])\n",
    "        if (durs[k][1]-durs[k][0])>=min_run_duration:\n",
    "            durs2.append(durs[k])\n",
    "            #print (durs[k][1]-durs[k][0])\n",
    "            \n",
    "        #print ('')\n",
    "\n",
    "    #\n",
    "    durs = np.array(durs2)\n",
    "\n",
    "    ##############################################\n",
    "    ################### PLOT #####################\n",
    "    ##############################################\n",
    "    fig = plt.figure()\n",
    "    ax=plt.subplot(111)\n",
    "    for k in range(init_times.shape[0]):\n",
    "        plt.plot([init_times[k],\n",
    "                  init_times[k]],\n",
    "                  [0,0.3],\n",
    "                  '--',\n",
    "                  c='black')\n",
    "\n",
    "    # \n",
    "    for k in range(durs.shape[0]):\n",
    "        ax.axvspan(durs[k][0], \n",
    "                   durs[k][1], alpha=0.2, color='red')    \n",
    "\n",
    "    #\n",
    "    plt.plot(times, vel)\n",
    "    plt.xlim(0,times[-1])\n",
    "    plt.ylim(bottom=0)\n",
    "    plt.show()\n",
    "\n",
    "    return durs\n",
    "    \n",
    "    \n",
    "#\n",
    "min_vel = 0.1\n",
    "min_run_duration = 0.25\n",
    "min_stationary_time = 1.0\n",
    "durs = get_run_segments(vel, \n",
    "                        times, \n",
    "                        min_vel,\n",
    "                        min_run_duration,\n",
    "                        min_stationary_time)\n",
    "\n",
    "print (\"# segements: \", durs.shape)\n",
    "#print (durs)\n",
    "#"
   ]
  },
  {
   "cell_type": "code",
   "execution_count": null,
   "id": "7ba5ccda",
   "metadata": {},
   "outputs": [],
   "source": [
    "\n",
    "\n",
    "\n",
    "\n"
   ]
  },
  {
   "cell_type": "code",
   "execution_count": null,
   "id": "9b234a6c",
   "metadata": {},
   "outputs": [],
   "source": []
  },
  {
   "cell_type": "code",
   "execution_count": null,
   "id": "1400ee25",
   "metadata": {},
   "outputs": [],
   "source": []
  },
  {
   "cell_type": "code",
   "execution_count": null,
   "id": "6f765490",
   "metadata": {},
   "outputs": [],
   "source": []
  },
  {
   "cell_type": "code",
   "execution_count": null,
   "id": "9e586bd7",
   "metadata": {},
   "outputs": [],
   "source": []
  },
  {
   "cell_type": "code",
   "execution_count": null,
   "id": "3fa479fd",
   "metadata": {},
   "outputs": [],
   "source": []
  },
  {
   "cell_type": "code",
   "execution_count": null,
   "id": "149c2de6",
   "metadata": {},
   "outputs": [],
   "source": []
  },
  {
   "cell_type": "code",
   "execution_count": null,
   "id": "198fe5ba",
   "metadata": {},
   "outputs": [],
   "source": []
  },
  {
   "cell_type": "code",
   "execution_count": null,
   "id": "6547319d",
   "metadata": {},
   "outputs": [],
   "source": []
  },
  {
   "cell_type": "code",
   "execution_count": null,
   "id": "ae840ec0",
   "metadata": {},
   "outputs": [],
   "source": []
  },
  {
   "cell_type": "code",
   "execution_count": null,
   "id": "77b2d6ae",
   "metadata": {},
   "outputs": [],
   "source": []
  },
  {
   "cell_type": "code",
   "execution_count": null,
   "id": "2c27937d",
   "metadata": {},
   "outputs": [],
   "source": []
  },
  {
   "cell_type": "code",
   "execution_count": null,
   "id": "3ff2530e",
   "metadata": {},
   "outputs": [],
   "source": []
  },
  {
   "cell_type": "code",
   "execution_count": null,
   "id": "760c05b2",
   "metadata": {},
   "outputs": [],
   "source": []
  },
  {
   "cell_type": "code",
   "execution_count": null,
   "id": "f7080cd6",
   "metadata": {},
   "outputs": [],
   "source": []
  }
 ],
 "metadata": {
  "kernelspec": {
   "display_name": "Python 3 (ipykernel)",
   "language": "python",
   "name": "python3"
  },
  "language_info": {
   "codemirror_mode": {
    "name": "ipython",
    "version": 3
   },
   "file_extension": ".py",
   "mimetype": "text/x-python",
   "name": "python",
   "nbconvert_exporter": "python",
   "pygments_lexer": "ipython3",
   "version": "3.8.12"
  }
 },
 "nbformat": 4,
 "nbformat_minor": 5
}
