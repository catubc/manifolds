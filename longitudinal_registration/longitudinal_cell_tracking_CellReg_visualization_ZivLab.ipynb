{
 "cells": [
  {
   "cell_type": "code",
   "execution_count": 1,
   "id": "6484554c",
   "metadata": {},
   "outputs": [
    {
     "data": {
      "application/javascript": [
       "IPython.notebook.set_autosave_interval(180000)"
      ]
     },
     "metadata": {},
     "output_type": "display_data"
    },
    {
     "name": "stdout",
     "output_type": "stream",
     "text": [
      "Autosaving every 180 seconds\n"
     ]
    },
    {
     "data": {
      "text/html": [
       "<style>.container { width:100% !important; }</style>"
      ],
      "text/plain": [
       "<IPython.core.display.HTML object>"
      ]
     },
     "metadata": {},
     "output_type": "display_data"
    },
    {
     "name": "stderr",
     "output_type": "stream",
     "text": [
      "/home/cat/code/manifolds/animal_database/animal_database.py:11: FutureWarning: Passing a negative integer is deprecated in version 1.0 and will not be supported in future version. Instead, use None to not limit the column width.\n",
      "  pd.set_option('display.max_colwidth', -1)\n"
     ]
    }
   ],
   "source": [
    "import matplotlib\n",
    "%matplotlib tk\n",
    "%autosave 180\n",
    "%load_ext autoreload\n",
    "%autoreload 2\n",
    "\n",
    "import nest_asyncio\n",
    "%config Completer.use_jedi = False\n",
    "\n",
    "import os\n",
    "os.chdir('/home/cat/code/manifolds/')\n",
    "\n",
    "#\n",
    "import matplotlib.pyplot as plt\n",
    "from IPython.core.display import display, HTML\n",
    "display(HTML(\"<style>.container { width:100% !important; }</style>\"))\n",
    "\n",
    "import scipy\n",
    "import numpy as np\n",
    "import pandas as pd\n",
    "\n",
    "from calcium import calcium\n",
    "from wheel import wheel\n",
    "from visualize import visualize\n",
    "from tqdm import trange\n",
    "from longitudinal_registration import longitudinal\n",
    "from animal_database import animal_database\n",
    "\n",
    "from scipy.io import loadmat\n",
    "import matplotlib.patches as mpatches\n",
    "\n",
    "import plotly.express as px\n",
    "from plotly.subplots import make_subplots\n",
    "import plotly.graph_objects as go\n",
    "from scipy.spatial import ConvexHull, convex_hull_plot_2d\n",
    "\n",
    "from matplotlib.path import Path\n",
    "from tqdm import tqdm, trange\n",
    "\n",
    "#\n",
    "from __future__ import print_function\n",
    "import cv2\n",
    "import numpy as np\n",
    "\n",
    "# \n",
    "np.set_printoptions(suppress=True)"
   ]
  },
  {
   "cell_type": "code",
   "execution_count": 10,
   "id": "69b0af73",
   "metadata": {},
   "outputs": [
    {
     "name": "stdout",
     "output_type": "stream",
     "text": [
      "matched cells array (# cells, sessions):  (479, 3)\n",
      "(1098, 513, 513)\n",
      "(1084, 513, 513)\n",
      "(1627, 513, 513)\n",
      "# sessions:  3\n"
     ]
    }
   ],
   "source": [
    "###################################################\n",
    "########### LOAD CellReg results ##################\n",
    "###################################################\n",
    "fname = '/home/cat/code/CellReg/SampleData/Results/cellRegistered_20220127_113301_Sessions123.mat'\n",
    "\n",
    "#\n",
    "import mat73\n",
    "data_dict = mat73.loadmat(fname)\n",
    "\n",
    "# get multi-session matches\n",
    "cell_matches = data_dict['cell_registered_struct']['cell_to_index_map']\n",
    "\n",
    "matches = []\n",
    "for k in range(cell_matches.shape[0]):\n",
    "    if np.where(cell_matches[k]==0)[0].shape[0]==0:\n",
    "        matches.append(cell_matches[k])\n",
    "        \n",
    "matches = np.vstack(matches)\n",
    "print (\"matched cells array (# cells, sessions): \", matches.shape)\n",
    "\n",
    "# LOAD CellReg results \n",
    "cell_footprints = data_dict['cell_registered_struct']['spatial_footprints_corrected']\n",
    "footprints = []\n",
    "for k in range(len(cell_footprints)):\n",
    "    temp = cell_footprints[k][0]\n",
    "    temp = np.array(temp).squeeze()\n",
    "    print (temp.shape)\n",
    "    footprints.append(temp)\n",
    "print (\"# sessions: \", len(footprints))"
   ]
  },
  {
   "cell_type": "code",
   "execution_count": null,
   "id": "add83b6c",
   "metadata": {
    "scrolled": true
   },
   "outputs": [],
   "source": [
    "#################################\n",
    "####### PLOT MATCH MATRIX #######\n",
    "#################################\n",
    "\n",
    "# \n",
    "cmap_name = 'Reds'\n",
    "cmap = plt.get_cmap(cmap_name, len(sessions))\n",
    "\n",
    "#\n",
    "plt.figure()\n",
    "ax=plt.subplot(111)\n",
    "ax.set_facecolor(\"black\")\n",
    "for k in range(matches.shape[0]):\n",
    "    temp = matches[k]\n",
    "    for p in range(temp.shape[0]):\n",
    "        c1 = temp[p]  # cell id\n",
    "        temp2 = footprints[k][c1]\n",
    "        \n",
    "        # get contour of temp2\n",
    "        \n",
    "        if k==0:\n",
    "            plt.plot(temp2[:,0],temp2[:,1],\n",
    "                    c=cmap(p), label=l.sessions[p])\n",
    "        else:\n",
    "            plt.plot(temp2[:,0],temp2[:,1],\n",
    "                    c=cmap(p))\n",
    "      \n",
    "        \n",
    "plt.legend(title=\"Sessions\")\n",
    "print (np.array(l.sessions)[sessions])        \n",
    "plt.title(\"# cells: \"+str(res.shape[0])+\n",
    "         \", threshold:\"+str(l.thresh))\n",
    "plt.ylim(512,0)\n",
    "plt.xlim(0,512)\n",
    "plt.show()\n"
   ]
  },
  {
   "cell_type": "code",
   "execution_count": 35,
   "id": "178033c3",
   "metadata": {},
   "outputs": [
    {
     "name": "stdout",
     "output_type": "stream",
     "text": [
      "\n",
      "\n"
     ]
    },
    {
     "name": "stderr",
     "output_type": "stream",
     "text": [
      "100%|██████████████████████████████████████| 1065/1065 [00:02<00:00, 517.22it/s]\n"
     ]
    },
    {
     "name": "stdout",
     "output_type": "stream",
     "text": [
      "\n",
      "\n"
     ]
    },
    {
     "name": "stderr",
     "output_type": "stream",
     "text": [
      "100%|████████████████████████████████████████| 616/616 [00:01<00:00, 595.16it/s]\n"
     ]
    }
   ],
   "source": [
    "#####################################################################\n",
    "#\n",
    "root_dir = '/media/cat/4TB/donato/'\n",
    "animal_id = 'DON-008105'\n",
    "sessions = ['20220118-1', '20220118-2']\n",
    "clrs=['black','red']\n",
    "cmaps = [\"Blues\", \"Reds\"]\n",
    "plt.figure(figsize=(10,10))\n",
    "\n",
    "for ctr, session in enumerate(sessions):\n",
    "    c = calcium.Calcium()\n",
    "    c.root_dir = root_dir\n",
    "    c.animal_id = animal_id\n",
    "    c.session = session\n",
    "    c.load_suite2p()\n",
    "    c.cell_boundary = 'concave_hull'\n",
    "    \n",
    "    cell_ids = np.arange(c.F.shape[0])\n",
    "    cmap = plt.get_cmap(cmaps[ctr], cell_ids.shape[0])\n",
    "    idx = np.random.choice(np.arange(cell_ids.shape[0]), cell_ids.shape[0], replace=False)\n",
    "    for cell in tqdm(cell_ids):\n",
    "        contour = c.get_footprint_contour(cell,c.cell_boundary)\n",
    "        plt.plot(contour[:,0],contour[:,1],\n",
    "                c=cmap(idx[cell]))\n",
    "        \n",
    "plt.xlim(0,512)\n",
    "plt.ylim(512,0)\n",
    "plt.show()"
   ]
  },
  {
   "cell_type": "code",
   "execution_count": null,
   "id": "7087b84b",
   "metadata": {},
   "outputs": [],
   "source": [
    "#\n",
    "l = longitudinal.Longitudinal(root_dir, animal_id, sessions)\n",
    "l.animal_id = animal_id\n",
    "l.root_dir = root_dir\n",
    "\n",
    " \n",
    "# load the multi session projetive transform\n",
    "#fname = '/media/cat/4TB/donato/DON-003343/ROIMatchPub_all_sessions.mat'\n",
    "#l.make_homography_matrix_from_ROIMatchPub_clicks_load_multi_session(fname)\n",
    "l.hh_array = np.diag([1,1,1])\n",
    "print (l.hh_array)\n",
    "\n",
    "\n",
    "# get cell footprints for downstraema analysis\n",
    "l.cell_boundary = 'convex_hull'  # 'convex_hull', 'concave_hull'\n",
    "l.transform_cells_all_sessions()\n",
    "\n",
    "# "
   ]
  },
  {
   "cell_type": "code",
   "execution_count": 42,
   "id": "35968aa7",
   "metadata": {},
   "outputs": [],
   "source": [
    "######\n",
    "from PIL import Image\n",
    "import numpy as np\n",
    "\n",
    "def read_tiff(path):\n",
    "    \"\"\"\n",
    "    path - Path to the multipage-tiff file\n",
    "    \"\"\"\n",
    "    img = Image.open(path)\n",
    "    images = []\n",
    "    for i in range(img.n_frames):\n",
    "        img.seek(i)\n",
    "        images.append(np.array(img))\n",
    "    return np.array(images)\n",
    "\n",
    "\n",
    "sess1 = read_tiff(\"/media/cat/4TB/donato/DON-008105/20220118-1/002P-F/tif1/stack1.tif\")\n",
    "sess2 = read_tiff(\"/media/cat/4TB/donato/DON-008105/20220118-1/002P-F/tif2/stack2.tif\")\n",
    "\n"
   ]
  },
  {
   "cell_type": "code",
   "execution_count": null,
   "id": "a7ab08f2",
   "metadata": {},
   "outputs": [],
   "source": [
    "##############################################################\n",
    "##############################################################\n",
    "##############################################################\n",
    "# print (sess1.shape)\n",
    "# print (sess2.shape)\n",
    "# print (res)\n",
    "size=512\n",
    "x, y = np.meshgrid(np.arange(size),\n",
    "                   np.arange(size))  # make a canvas with coordinates\n",
    "x, y = x.flatten(), y.flatten()\n",
    "points_mesh = np.vstack((x, y)).T\n",
    "\n",
    "# \n",
    "session = '20220118-1'\n",
    "c1 = calcium.Calcium()\n",
    "c1.root_dir = root_dir\n",
    "c1.animal_id = animal_id\n",
    "c1.session = session\n",
    "c1.load_suite2p()\n",
    "\n",
    "# \n",
    "fig=plt.figure()\n",
    "for k in range(100):\n",
    "    if k in res[:,0]:\n",
    "        continue\n",
    "        \n",
    "    # get missing cell footprint in session 1\n",
    "    cell_id = k\n",
    "    contour = c1.get_footprint_contour(cell_id,'concave_hull')\n",
    "    mask = np.zeros((512,512))\n",
    "    p = Path(contour)  # make a polygon\n",
    "    grid = p.contains_points(points_mesh)\n",
    "    footprint = grid.reshape(512,512)\n",
    "    \n",
    "    # get calcium activity in the missing ROI\n",
    "    DFF = sess2[:,footprint].sum(axis=1)\n",
    "    print (DFF.shape)\n",
    "    plt.plot(DFF+k*10)\n",
    "    \n",
    "    \n",
    "plt.show()\n",
    "\n"
   ]
  },
  {
   "cell_type": "code",
   "execution_count": null,
   "id": "85d9e1a8",
   "metadata": {},
   "outputs": [],
   "source": []
  },
  {
   "cell_type": "code",
   "execution_count": null,
   "id": "646e2213",
   "metadata": {},
   "outputs": [],
   "source": []
  },
  {
   "cell_type": "code",
   "execution_count": 51,
   "id": "382015f3",
   "metadata": {},
   "outputs": [
    {
     "name": "stdout",
     "output_type": "stream",
     "text": [
      "\n",
      "\n"
     ]
    },
    {
     "name": "stderr",
     "output_type": "stream",
     "text": [
      "processing session 0: 100%|██████████████████████████████████████████████████████████████████████████████████████████████████████████████████████| 480/480 [00:05<00:00, 91.34it/s]\n"
     ]
    },
    {
     "name": "stdout",
     "output_type": "stream",
     "text": [
      "\n",
      "\n"
     ]
    },
    {
     "name": "stderr",
     "output_type": "stream",
     "text": [
      "processing session 1: 100%|██████████████████████████████████████████████████████████████████████████████████████████████████████████████████████| 393/393 [00:04<00:00, 93.70it/s]\n"
     ]
    }
   ],
   "source": [
    "####################################################\n",
    "########### COMPUTE MASKS FOR EACH CELL ############\n",
    "####################################################\n",
    "#\n",
    "l.get_transformed_cell_masks()\n"
   ]
  },
  {
   "cell_type": "code",
   "execution_count": 52,
   "id": "8456cc7e",
   "metadata": {},
   "outputs": [
    {
     "data": {
      "application/vnd.jupyter.widget-view+json": {
       "model_id": "1499c038eace47588bc2697435bfab35",
       "version_major": 2,
       "version_minor": 0
      },
      "text/plain": [
       "  0%|          | 0/6 [00:00<?, ?it/s]"
      ]
     },
     "metadata": {},
     "output_type": "display_data"
    },
    {
     "name": "stdout",
     "output_type": "stream",
     "text": [
      "# res:  6\n",
      "(6, 480, 393)\n"
     ]
    }
   ],
   "source": [
    "##########################################################\n",
    "##### FIND INTERSECTION OF EACH CELL - POST ALIGNMENT ####\n",
    "##########################################################\n",
    "#\n",
    "l.parallel=True\n",
    "l.n_cores = 6\n",
    "l.get_match_array()\n"
   ]
  },
  {
   "cell_type": "code",
   "execution_count": 54,
   "id": "dc50501c",
   "metadata": {},
   "outputs": [
    {
     "name": "stdout",
     "output_type": "stream",
     "text": [
      "\n",
      "\n",
      "\n",
      "\n"
     ]
    }
   ],
   "source": [
    "######################################\n",
    "########## VISUALIZE RESULTS #########\n",
    "######################################\n",
    "# set overlap threshold and generate plotting data\n",
    "l.thresh = 0.6\n",
    "l.make_plotting_data()  \n",
    "\n",
    "# \n",
    "l.plot_overlap_masks()\n",
    "\n",
    "# \n",
    "l.plot_overlap_contours()"
   ]
  },
  {
   "cell_type": "code",
   "execution_count": null,
   "id": "0cb76528",
   "metadata": {},
   "outputs": [],
   "source": []
  },
  {
   "cell_type": "code",
   "execution_count": 70,
   "id": "ff7dc1fd",
   "metadata": {},
   "outputs": [
    {
     "name": "stdout",
     "output_type": "stream",
     "text": [
      "\n",
      "\n"
     ]
    }
   ],
   "source": [
    "\n",
    "root_dir = '/media/cat/4TB/donato/'\n",
    "animal_id = 'DON-006084'\n",
    "session = '20210528'\n",
    "\n",
    "\n",
    "c = calcium.Calcium()\n",
    "c.root_dir = root_dir\n",
    "c.animal_id = animal_id\n",
    "c.session = session\n",
    "c.load_suite2p()\n",
    "\n",
    "c.load_footprints()\n",
    "\n"
   ]
  },
  {
   "cell_type": "code",
   "execution_count": 71,
   "id": "1ec79b2b",
   "metadata": {},
   "outputs": [
    {
     "name": "stdout",
     "output_type": "stream",
     "text": [
      "393\n"
     ]
    }
   ],
   "source": [
    "print (len(c.contours))\n",
    "np.save('/home/cat/c28_contours.npy', c.contours, allow_pickle=True)"
   ]
  },
  {
   "cell_type": "code",
   "execution_count": 64,
   "id": "4b9ba781",
   "metadata": {},
   "outputs": [
    {
     "name": "stdout",
     "output_type": "stream",
     "text": [
      "(262144, 393)\n",
      "(512, 512)\n"
     ]
    }
   ],
   "source": [
    "img_flattened = np.zeros((512*512,c.footprints.shape[0]))\n",
    "img_sum = np.zeros((512,512))\n",
    "for k in range(c.footprints.shape[0]):\n",
    "    img_flattened[:,k] = c.footprints[k].flatten()\n",
    "    img_sum+=c.footprints[k]\n",
    "    \n",
    "print(img_flattened.shape)    \n",
    "print (img_sum.shape)\n",
    "\n",
    "np.save('/home/cat/c28.npy', img_flattened)\n",
    "np.save('/home/cat/c28_all.npy', img_sum)\n"
   ]
  },
  {
   "cell_type": "code",
   "execution_count": null,
   "id": "60913dc8",
   "metadata": {},
   "outputs": [],
   "source": []
  },
  {
   "cell_type": "code",
   "execution_count": null,
   "id": "b20bfcc0",
   "metadata": {},
   "outputs": [],
   "source": []
  },
  {
   "cell_type": "code",
   "execution_count": null,
   "id": "80dfa9f4",
   "metadata": {},
   "outputs": [],
   "source": []
  },
  {
   "cell_type": "code",
   "execution_count": null,
   "id": "913c71b9",
   "metadata": {},
   "outputs": [],
   "source": []
  },
  {
   "cell_type": "code",
   "execution_count": null,
   "id": "8da00da8",
   "metadata": {},
   "outputs": [],
   "source": []
  },
  {
   "cell_type": "code",
   "execution_count": null,
   "id": "d846461e",
   "metadata": {},
   "outputs": [],
   "source": []
  },
  {
   "cell_type": "code",
   "execution_count": null,
   "id": "89eb47a9",
   "metadata": {},
   "outputs": [],
   "source": []
  },
  {
   "cell_type": "code",
   "execution_count": null,
   "id": "964b142c",
   "metadata": {},
   "outputs": [],
   "source": []
  },
  {
   "cell_type": "code",
   "execution_count": null,
   "id": "dd146c3c",
   "metadata": {},
   "outputs": [],
   "source": []
  },
  {
   "cell_type": "code",
   "execution_count": null,
   "id": "faf5af3a",
   "metadata": {},
   "outputs": [],
   "source": []
  },
  {
   "cell_type": "code",
   "execution_count": null,
   "id": "b70f7a92",
   "metadata": {},
   "outputs": [],
   "source": []
  },
  {
   "cell_type": "code",
   "execution_count": null,
   "id": "d8d5f94d",
   "metadata": {},
   "outputs": [],
   "source": []
  },
  {
   "cell_type": "code",
   "execution_count": 125,
   "id": "f486aea2",
   "metadata": {},
   "outputs": [
    {
     "ename": "error",
     "evalue": "OpenCV(4.5.5) :-1: error: (-5:Bad argument) in function 'findHomography'\n> Overload resolution failed:\n>  - srcPoints is not a numpy array, neither a scalar\n>  - Expected Ptr<cv::UMat> for argument 'srcPoints'\n>  - srcPoints is not a numpy array, neither a scalar\n>  - Expected Ptr<cv::UMat> for argument 'srcPoints'\n",
     "output_type": "error",
     "traceback": [
      "\u001b[0;31m---------------------------------------------------------------------------\u001b[0m",
      "\u001b[0;31merror\u001b[0m                                     Traceback (most recent call last)",
      "\u001b[0;32m/tmp/ipykernel_524764/1560566881.py\u001b[0m in \u001b[0;36m<module>\u001b[0;34m\u001b[0m\n\u001b[1;32m     23\u001b[0m \u001b[0mpts_1\u001b[0m \u001b[0;34m=\u001b[0m \u001b[0mpts_array\u001b[0m\u001b[0;34m[\u001b[0m\u001b[0;36m0\u001b[0m\u001b[0;34m]\u001b[0m\u001b[0;34m[\u001b[0m\u001b[0;34m:\u001b[0m\u001b[0;36m5000\u001b[0m\u001b[0;34m]\u001b[0m\u001b[0;34m\u001b[0m\u001b[0;34m\u001b[0m\u001b[0m\n\u001b[1;32m     24\u001b[0m \u001b[0mpts_2\u001b[0m \u001b[0;34m=\u001b[0m \u001b[0mpts_array\u001b[0m\u001b[0;34m[\u001b[0m\u001b[0;36m1\u001b[0m\u001b[0;34m]\u001b[0m\u001b[0;34m[\u001b[0m\u001b[0;34m:\u001b[0m\u001b[0;36m5000\u001b[0m\u001b[0;34m]\u001b[0m\u001b[0;34m\u001b[0m\u001b[0;34m\u001b[0m\u001b[0m\n\u001b[0;32m---> 25\u001b[0;31m imReg, h = find_homography(pts_1,\n\u001b[0m\u001b[1;32m     26\u001b[0m                            pts_2, im)\n\u001b[1;32m     27\u001b[0m \u001b[0;34m\u001b[0m\u001b[0m\n",
      "\u001b[0;32m/tmp/ipykernel_524764/1560566881.py\u001b[0m in \u001b[0;36mfind_homography\u001b[0;34m(points1, points2, im)\u001b[0m\n\u001b[1;32m      5\u001b[0m \u001b[0;34m\u001b[0m\u001b[0m\n\u001b[1;32m      6\u001b[0m     \u001b[0;31m# Find homography\u001b[0m\u001b[0;34m\u001b[0m\u001b[0;34m\u001b[0m\u001b[0;34m\u001b[0m\u001b[0m\n\u001b[0;32m----> 7\u001b[0;31m     h, mask = cv2.findHomography(points1, points2, \n\u001b[0m\u001b[1;32m      8\u001b[0m                                  \u001b[0mcv2\u001b[0m\u001b[0;34m.\u001b[0m\u001b[0mRHO\u001b[0m\u001b[0;31m#cv2.RANSAC\u001b[0m\u001b[0;34m\u001b[0m\u001b[0;34m\u001b[0m\u001b[0m\n\u001b[1;32m      9\u001b[0m                                 )\n",
      "\u001b[0;31merror\u001b[0m: OpenCV(4.5.5) :-1: error: (-5:Bad argument) in function 'findHomography'\n> Overload resolution failed:\n>  - srcPoints is not a numpy array, neither a scalar\n>  - Expected Ptr<cv::UMat> for argument 'srcPoints'\n>  - srcPoints is not a numpy array, neither a scalar\n>  - Expected Ptr<cv::UMat> for argument 'srcPoints'\n"
     ]
    }
   ],
   "source": [
    "# ##################################################\n",
    "# ##################################################\n",
    "# ##################################################\n",
    "# def find_homography(points1, points2, im):\n",
    "    \n",
    "#     # Find homography\n",
    "#     h, mask = cv2.findHomography(points1, points2, \n",
    "#                                  cv2.RHO#cv2.RANSAC\n",
    "#                                 )\n",
    "#     print (\"H: \", h)\n",
    "#     # Use homography\n",
    "#     height, width, channels = im.shape\n",
    "#     im1Reg = cv2.warpPerspective(im, h, (width, height))\n",
    "\n",
    "#     return im1Reg, h\n",
    "\n",
    "# #\n",
    "# # \n",
    "# im = np.zeros((imgs[0].shape[0],imgs[0].shape[0],3), dtype=np.uint8)\n",
    "# im[:,:,0] = imgs[1]\n",
    "\n",
    "# #\n",
    "# pts_1 = pts_array[0][:5000]\n",
    "# pts_2 = pts_array[1][:5000]\n",
    "# imReg, h = find_homography(pts_1,\n",
    "#                            pts_2, im)\n",
    "\n",
    "# fig=plt.figure()\n",
    "# # \n",
    "# ax=plt.subplot(1,2,1)\n",
    "# plt.imshow(imgs[0]+imgs[1]*-1)\n",
    "# plt.scatter(pts_array[0][:,1],pts_array[0][:,0], c = 'white')\n",
    "# plt.scatter(pts_array[1][:,1],pts_array[1][:,0], c = 'red')\n",
    "\n",
    "# # \n",
    "# ax=plt.subplot(1,2,2)\n",
    "# #plt.imshow(imgs[0]+im2Reg[:,:,0]*-1)\n",
    "# plt.imshow(imgs[0])\n",
    "\n",
    "\n",
    "# plt.scatter(pts_array[0][:,1],pts_array[0][:,0], c='blue')\n",
    "\n",
    "# from numpy.linalg import inv\n",
    "\n",
    "# # invert transform matrix, created with cv2.perspectiveTransform\n",
    "# M = inv(hh)  \n",
    "# #M = inv(h)\n",
    "\n",
    "# # \n",
    "# def warp_point(xy, M):\n",
    "#     x= xy[0]\n",
    "#     y=xy[1]\n",
    "#     d = M[2, 0] * x + M[2, 1] * y + M[2, 2]\n",
    "\n",
    "#     return (\n",
    "#         int(M[0, 0] * x + M[0, 1] * y + M[0, 2] / d), # x\n",
    "#         int(M[1, 0] * x + M[1, 1] * y + M[1, 2] / d), # y\n",
    "#     )\n",
    "\n",
    "# # \n",
    "# pts_trans = []\n",
    "# for k in range(pts_array[1].shape[0]):\n",
    "    \n",
    "#     pts_trans.append(warp_point(pts_array[1][k], M))\n",
    "\n",
    "# pts_trans = np.vstack(pts_trans)\n",
    "# plt.scatter(pts_trans[:,1],\n",
    "#             pts_trans[:,0], c='red')\n",
    "\n",
    "\n",
    "# #\n",
    "# idx = np.where(imgs[1]>0)\n",
    "# idx22 = np.vstack(idx).T\n",
    "# print (idx22.shape)\n",
    "\n",
    "# #\n",
    "# img_trans = []\n",
    "# for k in range(idx22.shape[0]):\n",
    "#     img_trans.append(warp_point(idx22[k], M))\n",
    "\n",
    "# img_trans = np.vstack(img_trans)\n",
    "# plt.scatter(img_trans[:,1],\n",
    "#             img_trans[:,0],\n",
    "#             s=10,\n",
    "#             c='white')    \n",
    "\n",
    "# # \n",
    "# plt.show()\n",
    "# #plt.imshow(imReg)\n"
   ]
  },
  {
   "cell_type": "code",
   "execution_count": null,
   "id": "6b09deb5",
   "metadata": {},
   "outputs": [],
   "source": []
  },
  {
   "cell_type": "code",
   "execution_count": null,
   "id": "7ba02337",
   "metadata": {},
   "outputs": [],
   "source": []
  },
  {
   "cell_type": "code",
   "execution_count": null,
   "id": "8a382be5",
   "metadata": {},
   "outputs": [],
   "source": []
  },
  {
   "cell_type": "code",
   "execution_count": null,
   "id": "3364c5ef",
   "metadata": {},
   "outputs": [],
   "source": []
  },
  {
   "cell_type": "code",
   "execution_count": null,
   "id": "c8b952bb",
   "metadata": {},
   "outputs": [],
   "source": []
  },
  {
   "cell_type": "code",
   "execution_count": null,
   "id": "aa341a15",
   "metadata": {},
   "outputs": [],
   "source": []
  },
  {
   "cell_type": "code",
   "execution_count": null,
   "id": "119ed802",
   "metadata": {},
   "outputs": [],
   "source": []
  },
  {
   "cell_type": "code",
   "execution_count": null,
   "id": "d5b22a35",
   "metadata": {},
   "outputs": [],
   "source": []
  },
  {
   "cell_type": "code",
   "execution_count": null,
   "id": "c40db523",
   "metadata": {},
   "outputs": [],
   "source": []
  },
  {
   "cell_type": "code",
   "execution_count": null,
   "id": "5b28a300",
   "metadata": {},
   "outputs": [],
   "source": []
  },
  {
   "cell_type": "code",
   "execution_count": null,
   "id": "e66a5ec1",
   "metadata": {},
   "outputs": [],
   "source": []
  },
  {
   "cell_type": "code",
   "execution_count": null,
   "id": "fa0822d6",
   "metadata": {},
   "outputs": [],
   "source": []
  },
  {
   "cell_type": "code",
   "execution_count": null,
   "id": "f6d1dc27",
   "metadata": {},
   "outputs": [],
   "source": []
  },
  {
   "cell_type": "code",
   "execution_count": null,
   "id": "9ac858d1",
   "metadata": {},
   "outputs": [],
   "source": []
  },
  {
   "cell_type": "code",
   "execution_count": null,
   "id": "ec0caba0",
   "metadata": {},
   "outputs": [],
   "source": []
  },
  {
   "cell_type": "code",
   "execution_count": null,
   "id": "5d1d91de",
   "metadata": {},
   "outputs": [],
   "source": []
  },
  {
   "cell_type": "code",
   "execution_count": null,
   "id": "3f89ec16",
   "metadata": {},
   "outputs": [],
   "source": []
  },
  {
   "cell_type": "code",
   "execution_count": null,
   "id": "e1fdfed4",
   "metadata": {},
   "outputs": [],
   "source": []
  },
  {
   "cell_type": "code",
   "execution_count": null,
   "id": "36aee8d5",
   "metadata": {},
   "outputs": [],
   "source": []
  },
  {
   "cell_type": "code",
   "execution_count": null,
   "id": "f50c55d3",
   "metadata": {},
   "outputs": [],
   "source": []
  },
  {
   "cell_type": "code",
   "execution_count": null,
   "id": "e3c3c17f",
   "metadata": {},
   "outputs": [],
   "source": []
  }
 ],
 "metadata": {
  "kernelspec": {
   "display_name": "Python 3 (ipykernel)",
   "language": "python",
   "name": "python3"
  },
  "language_info": {
   "codemirror_mode": {
    "name": "ipython",
    "version": 3
   },
   "file_extension": ".py",
   "mimetype": "text/x-python",
   "name": "python",
   "nbconvert_exporter": "python",
   "pygments_lexer": "ipython3",
   "version": "3.8.12"
  }
 },
 "nbformat": 4,
 "nbformat_minor": 5
}
