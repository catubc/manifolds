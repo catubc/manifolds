{
 "cells": [
  {
   "cell_type": "code",
   "execution_count": 1,
   "id": "6484554c",
   "metadata": {},
   "outputs": [
    {
     "data": {
      "application/javascript": [
       "IPython.notebook.set_autosave_interval(180000)"
      ]
     },
     "metadata": {},
     "output_type": "display_data"
    },
    {
     "name": "stdout",
     "output_type": "stream",
     "text": [
      "Autosaving every 180 seconds\n"
     ]
    },
    {
     "data": {
      "text/html": [
       "<style>.container { width:100% !important; }</style>"
      ],
      "text/plain": [
       "<IPython.core.display.HTML object>"
      ]
     },
     "metadata": {},
     "output_type": "display_data"
    },
    {
     "name": "stderr",
     "output_type": "stream",
     "text": [
      "/home/cat/code/manifolds/animal_database/animal_database.py:11: FutureWarning: Passing a negative integer is deprecated in version 1.0 and will not be supported in future version. Instead, use None to not limit the column width.\n",
      "  pd.set_option('display.max_colwidth', -1)\n"
     ]
    }
   ],
   "source": [
    "import matplotlib\n",
    "%matplotlib tk\n",
    "%autosave 180\n",
    "%load_ext autoreload\n",
    "%autoreload 2\n",
    "\n",
    "import nest_asyncio\n",
    "%config Completer.use_jedi = False\n",
    "\n",
    "import os\n",
    "os.chdir('/home/cat/code/manifolds/')\n",
    "\n",
    "#\n",
    "import matplotlib.pyplot as plt\n",
    "from IPython.core.display import display, HTML\n",
    "display(HTML(\"<style>.container { width:100% !important; }</style>\"))\n",
    "\n",
    "import scipy\n",
    "import numpy as np\n",
    "import pandas as pd\n",
    "\n",
    "from calcium import calcium\n",
    "from wheel import wheel\n",
    "from visualize import visualize\n",
    "from tqdm import trange\n",
    "from longitudinal_registration import longitudinal\n",
    "from animal_database import animal_database\n",
    "\n",
    "from scipy.io import loadmat\n",
    "import matplotlib.patches as mpatches\n",
    "\n",
    "import plotly.express as px\n",
    "from plotly.subplots import make_subplots\n",
    "import plotly.graph_objects as go\n",
    "from scipy.spatial import ConvexHull, convex_hull_plot_2d\n",
    "\n",
    "from matplotlib.path import Path\n",
    "from tqdm import tqdm, trange\n",
    "\n",
    "#\n",
    "from __future__ import print_function\n",
    "import cv2\n",
    "import numpy as np\n",
    "\n",
    "# \n",
    "np.set_printoptions(suppress=True)"
   ]
  },
  {
   "cell_type": "markdown",
   "id": "e6caf5f6",
   "metadata": {},
   "source": [
    "# NEW WORKBOOK STARTS HERE"
   ]
  },
  {
   "cell_type": "code",
   "execution_count": 3,
   "id": "4f4434c7",
   "metadata": {
    "scrolled": true
   },
   "outputs": [
    {
     "name": "stdout",
     "output_type": "stream",
     "text": [
      " # of sessions to be transformed:  (2,)   (first session will have identity matrix)\n"
     ]
    }
   ],
   "source": [
    "#####################################################################\n",
    "########## LOAD RAW DATA AND CONTOURS FROM CALCIUM FILES ############\n",
    "#####################################################################\n",
    "#\n",
    "root_dir = '/media/cat/4TB/donato/'\n",
    "\n",
    "animal_id = 'DON-008105'\n",
    "ad = animal_database.AnimalDatabase()\n",
    "# ad.load_sessions(animal_id)\n",
    "# for k in range(len(ad.sessions)):\n",
    "#     print (k,ad.sessions[k])\n",
    "ad.sessions = ['20220118-1', '20220118-2']\n",
    "    \n",
    "#\n",
    "l = longitudinal.Longitudinal(root_dir, animal_id, ad.sessions)\n",
    "l.animal_id = animal_id\n",
    "l.root_dir = root_dir\n",
    "\n",
    " \n",
    "# load the multi session projetive transform\n",
    "fname = '/media/cat/4TB/donato/DON-003343/ROIMatchPub_all_sessions.mat'\n",
    "fname = '/media/cat/4TB/donato/DON-008105/match_file.mat'\n",
    "l.make_homography_matrix_from_ROIMatchPub_clicks_load_multi_session(fname)\n",
    "\n",
    "# get cell footprints for downstraema analysis\n",
    "l.cell_boundary = 'convex_hull'  # 'convex_hull', 'concave_hull'\n",
    "l.transform_cells_all_sessions()\n",
    "\n",
    "#"
   ]
  },
  {
   "cell_type": "code",
   "execution_count": 4,
   "id": "28ad39ce",
   "metadata": {
    "scrolled": true
   },
   "outputs": [
    {
     "name": "stdout",
     "output_type": "stream",
     "text": [
      "0 1\n"
     ]
    }
   ],
   "source": [
    "###############################################\n",
    "########## COMPUTE ALL PAIRS MATCHES ##########\n",
    "###############################################\n",
    "#\n",
    "for sess1 in range(len(ad.sessions)-1):\n",
    "    for sess2 in range(sess1+1, len(ad.sessions),1):\n",
    "        print (sess1, sess2)\n",
    "        l.parallel=True\n",
    "        l.n_cores = 8\n",
    "        l.recompute = False\n",
    "        l.get_match_array_pairs(sess1, sess2)\n"
   ]
  },
  {
   "cell_type": "code",
   "execution_count": 5,
   "id": "5af017d8",
   "metadata": {},
   "outputs": [],
   "source": [
    "# ######################################\n",
    "# #### PLOT CONTOURS OF PAIR SESSION ###\n",
    "# ######################################\n",
    "# # set overlap threshold and generate plotting data\n",
    "# l.thresh = 0.6\n",
    "# sess1 = 0  \n",
    "# sess2 = 6\n",
    "# l.get_match_array_pairs(sess1, sess2)\n",
    "\n",
    "# l.make_plotting_data_pair(sess1, sess2, l.match_array)  \n",
    "\n",
    "#  # \n",
    "# #l.plot_overlap_masks()\n",
    "\n",
    "# # # \n",
    "# l.plot_overlap_contours_pairs(sess1, sess2)"
   ]
  },
  {
   "cell_type": "code",
   "execution_count": 6,
   "id": "4e7c8d85",
   "metadata": {},
   "outputs": [],
   "source": [
    "# ###########################################\n",
    "# ####### PLOT PAIR WISE MATCH MATRIX #######\n",
    "# ###########################################\n",
    "# sessions = np.arange(10)\n",
    "# n_cells = l.plot_match_matrix_multi(sessions)\n",
    "\n",
    "# #\n",
    "# plt.figure()\n",
    "# plt.plot(sessions, n_cells)\n",
    "# plt.xticks(sessions, l.sessions, rotation=45,fontsize=10)\n",
    "# plt.ylim(bottom=0)\n",
    "# plt.title(\"# of cells per session - DON-003343\")\n",
    "# plt.show()\n"
   ]
  },
  {
   "cell_type": "code",
   "execution_count": 7,
   "id": "add83b6c",
   "metadata": {
    "scrolled": true
   },
   "outputs": [
    {
     "name": "stderr",
     "output_type": "stream",
     "text": [
      "100%|█████████████████████████████████████████████| 1/1 [00:00<00:00, 33.39it/s]\n"
     ]
    },
    {
     "name": "stdout",
     "output_type": "stream",
     "text": [
      "all links:  (1065, 2)\n",
      "[[   0.   nan]\n",
      " [   1.   47.]\n",
      " [   2.   nan]\n",
      " ...\n",
      " [1062.   nan]\n",
      " [1063.   nan]\n",
      " [1064.   nan]]\n",
      "total # celsl found:  260\n",
      "['20220118-1' '20220118-2']\n"
     ]
    }
   ],
   "source": [
    "###########################################\n",
    "####### PLOT PAIR WISE MATCH MATRIX #######\n",
    "###########################################\n",
    "sessions = np.arange(10)\n",
    "#sessions = [0,5,9]\n",
    "#sessions = np.arange(0,10,2)\n",
    "sessions = np.delete(np.arange(10),5)\n",
    "sessions = [0,1]\n",
    "#\n",
    "l.thresh=0.6\n",
    "l.root_dir = '/media/cat/4TB/donato/DON-008105/'\n",
    "#res = l.get_match_array_list(sessions)\n",
    "res = l.get_match_array_list2(sessions)\n",
    "\n",
    "# \n",
    "cmap_name = 'Reds'\n",
    "cmap = plt.get_cmap(cmap_name, len(sessions))\n",
    "\n",
    "#\n",
    "plt.figure()\n",
    "ax=plt.subplot(111)\n",
    "ax.set_facecolor(\"black\")\n",
    "for k in range(res.shape[0]):\n",
    "    temp = res[k]\n",
    "    for p in range(temp.shape[0]):\n",
    "        c1 = temp[p]  # cell id\n",
    "        temp2 = l.contours[sessions[p]][int(c1)]\n",
    "        \n",
    "        if k==0:\n",
    "            plt.plot(temp2[:,0],temp2[:,1],\n",
    "                    c=cmap(p), label=l.sessions[p])\n",
    "        else:\n",
    "            plt.plot(temp2[:,0],temp2[:,1],\n",
    "                    c=cmap(p))\n",
    "      \n",
    "        \n",
    "plt.legend(title=\"Sessions\")\n",
    "print (np.array(l.sessions)[sessions])        \n",
    "plt.title(\"# cells: \"+str(res.shape[0])+\n",
    "         \", threshold:\"+str(l.thresh))\n",
    "plt.ylim(512,0)\n",
    "plt.xlim(0,512)\n",
    "plt.show()\n"
   ]
  },
  {
   "cell_type": "code",
   "execution_count": 35,
   "id": "178033c3",
   "metadata": {},
   "outputs": [
    {
     "name": "stdout",
     "output_type": "stream",
     "text": [
      "\n",
      "\n"
     ]
    },
    {
     "name": "stderr",
     "output_type": "stream",
     "text": [
      "100%|██████████████████████████████████████| 1065/1065 [00:02<00:00, 517.22it/s]\n"
     ]
    },
    {
     "name": "stdout",
     "output_type": "stream",
     "text": [
      "\n",
      "\n"
     ]
    },
    {
     "name": "stderr",
     "output_type": "stream",
     "text": [
      "100%|████████████████████████████████████████| 616/616 [00:01<00:00, 595.16it/s]\n"
     ]
    }
   ],
   "source": [
    "#####################################################################\n",
    "#\n",
    "root_dir = '/media/cat/4TB/donato/'\n",
    "animal_id = 'DON-008105'\n",
    "sessions = ['20220118-1', '20220118-2']\n",
    "clrs=['black','red']\n",
    "cmaps = [\"Blues\", \"Reds\"]\n",
    "plt.figure(figsize=(10,10))\n",
    "\n",
    "for ctr, session in enumerate(sessions):\n",
    "    c = calcium.Calcium()\n",
    "    c.root_dir = root_dir\n",
    "    c.animal_id = animal_id\n",
    "    c.session = session\n",
    "    c.load_suite2p()\n",
    "    c.cell_boundary = 'concave_hull'\n",
    "    \n",
    "    cell_ids = np.arange(c.F.shape[0])\n",
    "    cmap = plt.get_cmap(cmaps[ctr], cell_ids.shape[0])\n",
    "    idx = np.random.choice(np.arange(cell_ids.shape[0]), cell_ids.shape[0], replace=False)\n",
    "    for cell in tqdm(cell_ids):\n",
    "        contour = c.get_footprint_contour(cell,c.cell_boundary)\n",
    "        plt.plot(contour[:,0],contour[:,1],\n",
    "                c=cmap(idx[cell]))\n",
    "        \n",
    "plt.xlim(0,512)\n",
    "plt.ylim(512,0)\n",
    "plt.show()"
   ]
  },
  {
   "cell_type": "code",
   "execution_count": null,
   "id": "7087b84b",
   "metadata": {},
   "outputs": [],
   "source": [
    "#\n",
    "l = longitudinal.Longitudinal(root_dir, animal_id, sessions)\n",
    "l.animal_id = animal_id\n",
    "l.root_dir = root_dir\n",
    "\n",
    " \n",
    "# load the multi session projetive transform\n",
    "#fname = '/media/cat/4TB/donato/DON-003343/ROIMatchPub_all_sessions.mat'\n",
    "#l.make_homography_matrix_from_ROIMatchPub_clicks_load_multi_session(fname)\n",
    "l.hh_array = np.diag([1,1,1])\n",
    "print (l.hh_array)\n",
    "\n",
    "\n",
    "# get cell footprints for downstraema analysis\n",
    "l.cell_boundary = 'convex_hull'  # 'convex_hull', 'concave_hull'\n",
    "l.transform_cells_all_sessions()\n",
    "\n",
    "# "
   ]
  },
  {
   "cell_type": "code",
   "execution_count": 8,
   "id": "35968aa7",
   "metadata": {},
   "outputs": [],
   "source": [
    "######\n",
    "from PIL import Image\n",
    "import numpy as np\n",
    "\n",
    "def read_tiff(path):\n",
    "    \"\"\"\n",
    "    path - Path to the multipage-tiff file\n",
    "    \"\"\"\n",
    "    img = Image.open(path)\n",
    "    images = []\n",
    "    for i in range(img.n_frames):\n",
    "        img.seek(i)\n",
    "        images.append(np.array(img))\n",
    "    return np.array(images)\n",
    "\n",
    "\n",
    "sess1 = read_tiff(\"/media/cat/4TB/donato/DON-008105/20220118-1/002P-F/tif1/stack1.tif\")\n",
    "sess2 = read_tiff(\"/media/cat/4TB/donato/DON-008105/20220118-1/002P-F/tif2/stack2.tif\")\n",
    "\n"
   ]
  },
  {
   "cell_type": "code",
   "execution_count": 31,
   "id": "a7ab08f2",
   "metadata": {
    "scrolled": true
   },
   "outputs": [
    {
     "name": "stdout",
     "output_type": "stream",
     "text": [
      "\n",
      "\n"
     ]
    },
    {
     "name": "stderr",
     "output_type": "stream",
     "text": [
      "low pass filter: 100%|███████████████████████████| 1/1 [00:00<00:00, 724.15it/s]\n",
      "low pass filter: 100%|███████████████████████████| 1/1 [00:00<00:00, 853.54it/s]\n",
      "low pass filter: 100%|███████████████████████████| 1/1 [00:00<00:00, 618.81it/s]\n",
      "low pass filter: 100%|███████████████████████████| 1/1 [00:00<00:00, 843.25it/s]\n",
      "low pass filter: 100%|██████████████████████████| 1/1 [00:00<00:00, 1122.37it/s]\n",
      "low pass filter: 100%|██████████████████████████| 1/1 [00:00<00:00, 1068.07it/s]\n",
      "low pass filter: 100%|██████████████████████████| 1/1 [00:00<00:00, 1095.12it/s]\n",
      "low pass filter: 100%|███████████████████████████| 1/1 [00:00<00:00, 811.59it/s]\n",
      "low pass filter: 100%|███████████████████████████| 1/1 [00:00<00:00, 965.32it/s]\n",
      "low pass filter: 100%|███████████████████████████| 1/1 [00:00<00:00, 853.37it/s]\n",
      "low pass filter: 100%|███████████████████████████| 1/1 [00:00<00:00, 847.16it/s]\n",
      "low pass filter: 100%|███████████████████████████| 1/1 [00:00<00:00, 994.62it/s]\n",
      "low pass filter: 100%|██████████████████████████| 1/1 [00:00<00:00, 1001.74it/s]\n",
      "low pass filter: 100%|███████████████████████████| 1/1 [00:00<00:00, 892.03it/s]\n",
      "low pass filter: 100%|███████████████████████████| 1/1 [00:00<00:00, 786.48it/s]\n",
      "low pass filter: 100%|██████████████████████████| 1/1 [00:00<00:00, 1003.90it/s]\n",
      "low pass filter: 100%|██████████████████████████| 1/1 [00:00<00:00, 1016.55it/s]\n",
      "low pass filter: 100%|███████████████████████████| 1/1 [00:00<00:00, 996.75it/s]\n",
      "low pass filter: 100%|███████████████████████████| 1/1 [00:00<00:00, 888.06it/s]\n",
      "low pass filter: 100%|██████████████████████████| 1/1 [00:00<00:00, 1064.81it/s]\n",
      "low pass filter: 100%|███████████████████████████| 1/1 [00:00<00:00, 796.79it/s]\n",
      "low pass filter: 100%|███████████████████████████| 1/1 [00:00<00:00, 761.77it/s]\n",
      "low pass filter: 100%|███████████████████████████| 1/1 [00:00<00:00, 769.17it/s]\n",
      "low pass filter: 100%|███████████████████████████| 1/1 [00:00<00:00, 936.02it/s]\n",
      "low pass filter: 100%|███████████████████████████| 1/1 [00:00<00:00, 995.56it/s]\n",
      "low pass filter: 100%|███████████████████████████| 1/1 [00:00<00:00, 808.46it/s]\n",
      "low pass filter: 100%|███████████████████████████| 1/1 [00:00<00:00, 855.28it/s]\n",
      "low pass filter: 100%|███████████████████████████| 1/1 [00:00<00:00, 941.91it/s]\n",
      "low pass filter: 100%|███████████████████████████| 1/1 [00:00<00:00, 924.87it/s]\n",
      "low pass filter: 100%|██████████████████████████| 1/1 [00:00<00:00, 1049.36it/s]\n",
      "low pass filter: 100%|██████████████████████████| 1/1 [00:00<00:00, 1054.38it/s]\n",
      "low pass filter: 100%|██████████████████████████| 1/1 [00:00<00:00, 1483.66it/s]\n",
      "low pass filter: 100%|██████████████████████████| 1/1 [00:00<00:00, 1485.76it/s]\n",
      "low pass filter: 100%|███████████████████████████| 1/1 [00:00<00:00, 842.40it/s]\n",
      "low pass filter: 100%|██████████████████████████| 1/1 [00:00<00:00, 1074.36it/s]\n",
      "low pass filter: 100%|███████████████████████████| 1/1 [00:00<00:00, 933.31it/s]\n",
      "low pass filter: 100%|██████████████████████████| 1/1 [00:00<00:00, 1092.84it/s]\n",
      "low pass filter: 100%|██████████████████████████| 1/1 [00:00<00:00, 1094.55it/s]\n",
      "low pass filter: 100%|███████████████████████████| 1/1 [00:00<00:00, 828.91it/s]\n",
      "low pass filter: 100%|███████████████████████████| 1/1 [00:00<00:00, 969.11it/s]\n",
      "low pass filter: 100%|███████████████████████████| 1/1 [00:00<00:00, 698.93it/s]\n",
      "low pass filter: 100%|██████████████████████████| 1/1 [00:00<00:00, 1015.82it/s]\n",
      "low pass filter: 100%|██████████████████████████| 1/1 [00:00<00:00, 1061.58it/s]\n",
      "low pass filter: 100%|██████████████████████████| 1/1 [00:00<00:00, 1106.09it/s]\n",
      "low pass filter: 100%|██████████████████████████| 1/1 [00:00<00:00, 1037.42it/s]\n",
      "low pass filter: 100%|██████████████████████████| 1/1 [00:00<00:00, 1096.55it/s]\n",
      "low pass filter: 100%|██████████████████████████| 1/1 [00:00<00:00, 1028.77it/s]\n",
      "low pass filter: 100%|███████████████████████████| 1/1 [00:00<00:00, 894.69it/s]\n",
      "low pass filter: 100%|███████████████████████████| 1/1 [00:00<00:00, 987.13it/s]\n",
      "low pass filter: 100%|██████████████████████████| 1/1 [00:00<00:00, 1106.68it/s]\n",
      "low pass filter: 100%|██████████████████████████| 1/1 [00:00<00:00, 1082.40it/s]\n",
      "low pass filter: 100%|██████████████████████████| 1/1 [00:00<00:00, 1071.34it/s]\n",
      "low pass filter: 100%|██████████████████████████| 1/1 [00:00<00:00, 1097.12it/s]\n",
      "low pass filter: 100%|██████████████████████████| 1/1 [00:00<00:00, 1074.64it/s]\n",
      "low pass filter: 100%|███████████████████████████| 1/1 [00:00<00:00, 756.68it/s]\n",
      "low pass filter: 100%|███████████████████████████| 1/1 [00:00<00:00, 906.09it/s]\n",
      "low pass filter: 100%|███████████████████████████| 1/1 [00:00<00:00, 846.14it/s]\n",
      "low pass filter: 100%|██████████████████████████| 1/1 [00:00<00:00, 1139.14it/s]\n",
      "low pass filter: 100%|███████████████████████████| 1/1 [00:00<00:00, 940.43it/s]\n",
      "low pass filter: 100%|███████████████████████████| 1/1 [00:00<00:00, 908.45it/s]\n",
      "low pass filter: 100%|██████████████████████████| 1/1 [00:00<00:00, 1121.17it/s]\n",
      "low pass filter: 100%|██████████████████████████| 1/1 [00:00<00:00, 1027.76it/s]\n",
      "low pass filter: 100%|███████████████████████████| 1/1 [00:00<00:00, 900.84it/s]\n",
      "low pass filter: 100%|███████████████████████████| 1/1 [00:00<00:00, 894.12it/s]\n",
      "low pass filter: 100%|██████████████████████████| 1/1 [00:00<00:00, 1024.25it/s]\n",
      "low pass filter: 100%|██████████████████████████| 1/1 [00:00<00:00, 1013.36it/s]\n",
      "low pass filter: 100%|███████████████████████████| 1/1 [00:00<00:00, 905.31it/s]\n",
      "low pass filter: 100%|██████████████████████████| 1/1 [00:00<00:00, 1061.31it/s]\n",
      "low pass filter: 100%|██████████████████████████| 1/1 [00:00<00:00, 1068.88it/s]\n",
      "low pass filter: 100%|███████████████████████████| 1/1 [00:00<00:00, 912.40it/s]\n",
      "low pass filter: 100%|███████████████████████████| 1/1 [00:00<00:00, 878.76it/s]\n",
      "low pass filter: 100%|███████████████████████████| 1/1 [00:00<00:00, 925.89it/s]\n",
      "low pass filter: 100%|███████████████████████████| 1/1 [00:00<00:00, 989.92it/s]\n",
      "low pass filter: 100%|██████████████████████████| 1/1 [00:00<00:00, 1059.97it/s]\n",
      "low pass filter: 100%|██████████████████████████| 1/1 [00:00<00:00, 1082.12it/s]\n",
      "low pass filter: 100%|███████████████████████████| 1/1 [00:00<00:00, 825.98it/s]\n",
      "low pass filter: 100%|██████████████████████████| 1/1 [00:00<00:00, 1105.51it/s]\n",
      "low pass filter: 100%|██████████████████████████| 1/1 [00:00<00:00, 1253.15it/s]\n",
      "low pass filter: 100%|███████████████████████████| 1/1 [00:00<00:00, 943.60it/s]\n",
      "low pass filter: 100%|███████████████████████████| 1/1 [00:00<00:00, 670.12it/s]\n",
      "low pass filter: 100%|██████████████████████████| 1/1 [00:00<00:00, 1109.02it/s]\n",
      "low pass filter: 100%|██████████████████████████| 1/1 [00:00<00:00, 1034.86it/s]\n",
      "low pass filter: 100%|███████████████████████████| 1/1 [00:00<00:00, 696.50it/s]\n",
      "low pass filter: 100%|██████████████████████████| 1/1 [00:00<00:00, 1005.11it/s]\n",
      "low pass filter: 100%|██████████████████████████| 1/1 [00:00<00:00, 1108.43it/s]\n",
      "low pass filter: 100%|███████████████████████████| 1/1 [00:00<00:00, 908.25it/s]\n",
      "low pass filter: 100%|███████████████████████████| 1/1 [00:00<00:00, 799.68it/s]\n",
      "low pass filter: 100%|██████████████████████████| 1/1 [00:00<00:00, 1016.31it/s]\n",
      "low pass filter: 100%|███████████████████████████| 1/1 [00:00<00:00, 994.85it/s]\n",
      "low pass filter: 100%|███████████████████████████| 1/1 [00:00<00:00, 713.80it/s]\n",
      "low pass filter: 100%|███████████████████████████| 1/1 [00:00<00:00, 992.97it/s]\n",
      "low pass filter: 100%|██████████████████████████| 1/1 [00:00<00:00, 1017.79it/s]\n",
      "low pass filter: 100%|███████████████████████████| 1/1 [00:00<00:00, 770.87it/s]\n",
      "low pass filter: 100%|███████████████████████████| 1/1 [00:00<00:00, 924.67it/s]\n",
      "low pass filter: 100%|███████████████████████████| 1/1 [00:00<00:00, 817.92it/s]\n",
      "low pass filter: 100%|███████████████████████████| 1/1 [00:00<00:00, 969.11it/s]\n",
      "low pass filter: 100%|███████████████████████████| 1/1 [00:00<00:00, 527.45it/s]\n",
      "low pass filter: 100%|███████████████████████████| 1/1 [00:00<00:00, 609.99it/s]\n",
      "low pass filter: 100%|███████████████████████████| 1/1 [00:00<00:00, 852.67it/s]\n",
      "low pass filter: 100%|██████████████████████████| 1/1 [00:00<00:00, 1104.05it/s]\n",
      "low pass filter: 100%|███████████████████████████| 1/1 [00:00<00:00, 920.81it/s]\n",
      "low pass filter: 100%|██████████████████████████| 1/1 [00:00<00:00, 1019.52it/s]\n",
      "low pass filter: 100%|███████████████████████████| 1/1 [00:00<00:00, 943.81it/s]\n",
      "low pass filter: 100%|███████████████████████████| 1/1 [00:00<00:00, 924.26it/s]\n",
      "low pass filter: 100%|███████████████████████████| 1/1 [00:00<00:00, 978.83it/s]\n",
      "low pass filter: 100%|███████████████████████████| 1/1 [00:00<00:00, 565.04it/s]\n",
      "low pass filter: 100%|███████████████████████████| 1/1 [00:00<00:00, 658.14it/s]\n",
      "low pass filter: 100%|███████████████████████████| 1/1 [00:00<00:00, 954.77it/s]\n",
      "low pass filter: 100%|███████████████████████████| 1/1 [00:00<00:00, 995.56it/s]\n",
      "low pass filter: 100%|███████████████████████████| 1/1 [00:00<00:00, 797.85it/s]\n",
      "low pass filter: 100%|███████████████████████████| 1/1 [00:00<00:00, 947.01it/s]\n",
      "low pass filter: 100%|██████████████████████████| 1/1 [00:00<00:00, 1063.19it/s]\n",
      "low pass filter: 100%|███████████████████████████| 1/1 [00:00<00:00, 911.41it/s]\n",
      "low pass filter: 100%|███████████████████████████| 1/1 [00:00<00:00, 999.60it/s]\n",
      "low pass filter: 100%|███████████████████████████| 1/1 [00:00<00:00, 916.99it/s]\n",
      "low pass filter: 100%|██████████████████████████| 1/1 [00:00<00:00, 1104.05it/s]\n",
      "low pass filter: 100%|██████████████████████████| 1/1 [00:00<00:00, 1122.07it/s]\n",
      "low pass filter: 100%|███████████████████████████| 1/1 [00:00<00:00, 805.51it/s]\n",
      "low pass filter: 100%|███████████████████████████| 1/1 [00:00<00:00, 702.92it/s]\n",
      "low pass filter: 100%|██████████████████████████| 1/1 [00:00<00:00, 1010.68it/s]\n",
      "low pass filter: 100%|███████████████████████████| 1/1 [00:00<00:00, 959.79it/s]\n",
      "low pass filter: 100%|███████████████████████████| 1/1 [00:00<00:00, 913.59it/s]\n",
      "low pass filter: 100%|███████████████████████████| 1/1 [00:00<00:00, 969.78it/s]\n",
      "low pass filter: 100%|██████████████████████████| 1/1 [00:00<00:00, 1029.28it/s]\n",
      "low pass filter: 100%|██████████████████████████| 1/1 [00:00<00:00, 1040.00it/s]\n",
      "low pass filter: 100%|███████████████████████████| 1/1 [00:00<00:00, 782.23it/s]\n",
      "low pass filter: 100%|██████████████████████████| 1/1 [00:00<00:00, 1077.95it/s]\n",
      "low pass filter: 100%|███████████████████████████| 1/1 [00:00<00:00, 760.39it/s]\n",
      "low pass filter: 100%|██████████████████████████| 1/1 [00:00<00:00, 1049.63it/s]\n",
      "low pass filter: 100%|███████████████████████████| 1/1 [00:00<00:00, 920.21it/s]\n",
      "low pass filter: 100%|███████████████████████████| 1/1 [00:00<00:00, 904.53it/s]\n",
      "low pass filter: 100%|███████████████████████████| 1/1 [00:00<00:00, 819.84it/s]\n",
      "low pass filter: 100%|██████████████████████████| 1/1 [00:00<00:00, 1020.26it/s]\n",
      "low pass filter: 100%|██████████████████████████| 1/1 [00:00<00:00, 1189.20it/s]\n",
      "low pass filter: 100%|██████████████████████████| 1/1 [00:00<00:00, 1027.51it/s]\n",
      "low pass filter: 100%|██████████████████████████| 1/1 [00:00<00:00, 1031.81it/s]\n",
      "low pass filter: 100%|███████████████████████████| 1/1 [00:00<00:00, 870.01it/s]\n",
      "low pass filter: 100%|███████████████████████████| 1/1 [00:00<00:00, 650.99it/s]\n",
      "low pass filter: 100%|███████████████████████████| 1/1 [00:00<00:00, 852.15it/s]\n",
      "low pass filter: 100%|██████████████████████████| 1/1 [00:00<00:00, 1025.50it/s]\n",
      "low pass filter: 100%|██████████████████████████| 1/1 [00:00<00:00, 1058.10it/s]\n",
      "low pass filter: 100%|███████████████████████████| 1/1 [00:00<00:00, 840.71it/s]\n",
      "low pass filter: 100%|███████████████████████████| 1/1 [00:00<00:00, 905.51it/s]\n",
      "low pass filter: 100%|███████████████████████████| 1/1 [00:00<00:00, 992.50it/s]\n",
      "low pass filter: 100%|███████████████████████████| 1/1 [00:00<00:00, 898.33it/s]\n",
      "low pass filter: 100%|██████████████████████████| 1/1 [00:00<00:00, 1488.93it/s]\n",
      "low pass filter: 100%|███████████████████████████| 1/1 [00:00<00:00, 702.09it/s]\n",
      "low pass filter: 100%|██████████████████████████| 1/1 [00:00<00:00, 1065.90it/s]\n",
      "low pass filter: 100%|██████████████████████████| 1/1 [00:00<00:00, 1057.83it/s]\n",
      "low pass filter: 100%|███████████████████████████| 1/1 [00:00<00:00, 878.76it/s]\n"
     ]
    }
   ],
   "source": [
    "##############################################################\n",
    "##############################################################\n",
    "##############################################################\n",
    "# print (sess1.shape)\n",
    "# print (sess2.shape)\n",
    "# print (res)\n",
    "size=512\n",
    "x, y = np.meshgrid(np.arange(size),\n",
    "                   np.arange(size))  # make a canvas with coordinates\n",
    "x, y = x.flatten(), y.flatten()\n",
    "points_mesh = np.vstack((x, y)).T\n",
    "\n",
    "# \n",
    "session = '20220118-1'\n",
    "c1 = calcium.Calcium()\n",
    "c1.root_dir = root_dir\n",
    "c1.animal_id = animal_id\n",
    "c1.session = session\n",
    "c1.load_suite2p()\n",
    "\n",
    "# \n",
    "fig=plt.figure()\n",
    "ctr=0\n",
    "for k in range(500):\n",
    "    ax=plt.subplot(1,3,ctr//50+1)\n",
    "    if k in res[:,0]:\n",
    "        continue\n",
    "       \n",
    "    # get missing cell footprint in session 1\n",
    "    cell_id = k\n",
    "    contour = c1.get_footprint_contour(cell_id,'concave_hull')\n",
    "    mask = np.zeros((512,512))\n",
    "    p = Path(contour)  # make a polygon\n",
    "    grid = p.contains_points(points_mesh)\n",
    "    footprint = grid.reshape(512,512)\n",
    "    \n",
    "    # get calcium activity in the missing ROI\n",
    "    DFF = sess2[:,footprint].sum(axis=1)\n",
    "    c1.high_cutoff = 14.9\n",
    "    DFF = DFF-np.mean(DFF)\n",
    "    DFF = c1.low_pass_filter(DFF.reshape(1,-1)).squeeze()\n",
    "    DFF = DFF/50000\n",
    "    plt.plot(DFF+ctr)\n",
    "    ctr+=1\n",
    "    \n",
    "    if ctr>=150:\n",
    "        break\n",
    "    plt.ylabel(\"Neuron ID\")\n",
    "    \n",
    "    plt.xlabel(\"Time (frame)\")\n",
    "plt.show()\n",
    "\n"
   ]
  },
  {
   "cell_type": "code",
   "execution_count": null,
   "id": "85d9e1a8",
   "metadata": {},
   "outputs": [],
   "source": []
  },
  {
   "cell_type": "code",
   "execution_count": null,
   "id": "646e2213",
   "metadata": {},
   "outputs": [],
   "source": []
  },
  {
   "cell_type": "code",
   "execution_count": 51,
   "id": "382015f3",
   "metadata": {},
   "outputs": [
    {
     "name": "stdout",
     "output_type": "stream",
     "text": [
      "\n",
      "\n"
     ]
    },
    {
     "name": "stderr",
     "output_type": "stream",
     "text": [
      "processing session 0: 100%|██████████████████████████████████████████████████████████████████████████████████████████████████████████████████████| 480/480 [00:05<00:00, 91.34it/s]\n"
     ]
    },
    {
     "name": "stdout",
     "output_type": "stream",
     "text": [
      "\n",
      "\n"
     ]
    },
    {
     "name": "stderr",
     "output_type": "stream",
     "text": [
      "processing session 1: 100%|██████████████████████████████████████████████████████████████████████████████████████████████████████████████████████| 393/393 [00:04<00:00, 93.70it/s]\n"
     ]
    }
   ],
   "source": [
    "####################################################\n",
    "########### COMPUTE MASKS FOR EACH CELL ############\n",
    "####################################################\n",
    "#\n",
    "l.get_transformed_cell_masks()\n"
   ]
  },
  {
   "cell_type": "code",
   "execution_count": 52,
   "id": "8456cc7e",
   "metadata": {},
   "outputs": [
    {
     "data": {
      "application/vnd.jupyter.widget-view+json": {
       "model_id": "1499c038eace47588bc2697435bfab35",
       "version_major": 2,
       "version_minor": 0
      },
      "text/plain": [
       "  0%|          | 0/6 [00:00<?, ?it/s]"
      ]
     },
     "metadata": {},
     "output_type": "display_data"
    },
    {
     "name": "stdout",
     "output_type": "stream",
     "text": [
      "# res:  6\n",
      "(6, 480, 393)\n"
     ]
    }
   ],
   "source": [
    "##########################################################\n",
    "##### FIND INTERSECTION OF EACH CELL - POST ALIGNMENT ####\n",
    "##########################################################\n",
    "#\n",
    "l.parallel=True\n",
    "l.n_cores = 6\n",
    "l.get_match_array()\n"
   ]
  },
  {
   "cell_type": "code",
   "execution_count": 54,
   "id": "dc50501c",
   "metadata": {},
   "outputs": [
    {
     "name": "stdout",
     "output_type": "stream",
     "text": [
      "\n",
      "\n",
      "\n",
      "\n"
     ]
    }
   ],
   "source": [
    "######################################\n",
    "########## VISUALIZE RESULTS #########\n",
    "######################################\n",
    "# set overlap threshold and generate plotting data\n",
    "l.thresh = 0.6\n",
    "l.make_plotting_data()  \n",
    "\n",
    "# \n",
    "l.plot_overlap_masks()\n",
    "\n",
    "# \n",
    "l.plot_overlap_contours()"
   ]
  },
  {
   "cell_type": "code",
   "execution_count": null,
   "id": "0cb76528",
   "metadata": {},
   "outputs": [],
   "source": []
  },
  {
   "cell_type": "code",
   "execution_count": 70,
   "id": "ff7dc1fd",
   "metadata": {},
   "outputs": [
    {
     "name": "stdout",
     "output_type": "stream",
     "text": [
      "\n",
      "\n"
     ]
    }
   ],
   "source": [
    "\n",
    "root_dir = '/media/cat/4TB/donato/'\n",
    "animal_id = 'DON-006084'\n",
    "session = '20210528'\n",
    "\n",
    "\n",
    "c = calcium.Calcium()\n",
    "c.root_dir = root_dir\n",
    "c.animal_id = animal_id\n",
    "c.session = session\n",
    "c.load_suite2p()\n",
    "\n",
    "c.load_footprints()\n",
    "\n"
   ]
  },
  {
   "cell_type": "code",
   "execution_count": 71,
   "id": "1ec79b2b",
   "metadata": {},
   "outputs": [
    {
     "name": "stdout",
     "output_type": "stream",
     "text": [
      "393\n"
     ]
    }
   ],
   "source": [
    "print (len(c.contours))\n",
    "np.save('/home/cat/c28_contours.npy', c.contours, allow_pickle=True)"
   ]
  },
  {
   "cell_type": "code",
   "execution_count": 64,
   "id": "4b9ba781",
   "metadata": {},
   "outputs": [
    {
     "name": "stdout",
     "output_type": "stream",
     "text": [
      "(262144, 393)\n",
      "(512, 512)\n"
     ]
    }
   ],
   "source": [
    "img_flattened = np.zeros((512*512,c.footprints.shape[0]))\n",
    "img_sum = np.zeros((512,512))\n",
    "for k in range(c.footprints.shape[0]):\n",
    "    img_flattened[:,k] = c.footprints[k].flatten()\n",
    "    img_sum+=c.footprints[k]\n",
    "    \n",
    "print(img_flattened.shape)    \n",
    "print (img_sum.shape)\n",
    "\n",
    "np.save('/home/cat/c28.npy', img_flattened)\n",
    "np.save('/home/cat/c28_all.npy', img_sum)\n"
   ]
  },
  {
   "cell_type": "code",
   "execution_count": null,
   "id": "60913dc8",
   "metadata": {},
   "outputs": [],
   "source": []
  },
  {
   "cell_type": "code",
   "execution_count": null,
   "id": "b20bfcc0",
   "metadata": {},
   "outputs": [],
   "source": []
  },
  {
   "cell_type": "code",
   "execution_count": null,
   "id": "80dfa9f4",
   "metadata": {},
   "outputs": [],
   "source": []
  },
  {
   "cell_type": "code",
   "execution_count": null,
   "id": "913c71b9",
   "metadata": {},
   "outputs": [],
   "source": []
  },
  {
   "cell_type": "code",
   "execution_count": null,
   "id": "8da00da8",
   "metadata": {},
   "outputs": [],
   "source": []
  },
  {
   "cell_type": "code",
   "execution_count": null,
   "id": "d846461e",
   "metadata": {},
   "outputs": [],
   "source": []
  },
  {
   "cell_type": "code",
   "execution_count": null,
   "id": "89eb47a9",
   "metadata": {},
   "outputs": [],
   "source": []
  },
  {
   "cell_type": "code",
   "execution_count": null,
   "id": "964b142c",
   "metadata": {},
   "outputs": [],
   "source": []
  },
  {
   "cell_type": "code",
   "execution_count": null,
   "id": "dd146c3c",
   "metadata": {},
   "outputs": [],
   "source": []
  },
  {
   "cell_type": "code",
   "execution_count": null,
   "id": "faf5af3a",
   "metadata": {},
   "outputs": [],
   "source": []
  },
  {
   "cell_type": "code",
   "execution_count": null,
   "id": "b70f7a92",
   "metadata": {},
   "outputs": [],
   "source": []
  },
  {
   "cell_type": "code",
   "execution_count": null,
   "id": "d8d5f94d",
   "metadata": {},
   "outputs": [],
   "source": []
  },
  {
   "cell_type": "code",
   "execution_count": 125,
   "id": "f486aea2",
   "metadata": {},
   "outputs": [
    {
     "ename": "error",
     "evalue": "OpenCV(4.5.5) :-1: error: (-5:Bad argument) in function 'findHomography'\n> Overload resolution failed:\n>  - srcPoints is not a numpy array, neither a scalar\n>  - Expected Ptr<cv::UMat> for argument 'srcPoints'\n>  - srcPoints is not a numpy array, neither a scalar\n>  - Expected Ptr<cv::UMat> for argument 'srcPoints'\n",
     "output_type": "error",
     "traceback": [
      "\u001b[0;31m---------------------------------------------------------------------------\u001b[0m",
      "\u001b[0;31merror\u001b[0m                                     Traceback (most recent call last)",
      "\u001b[0;32m/tmp/ipykernel_524764/1560566881.py\u001b[0m in \u001b[0;36m<module>\u001b[0;34m\u001b[0m\n\u001b[1;32m     23\u001b[0m \u001b[0mpts_1\u001b[0m \u001b[0;34m=\u001b[0m \u001b[0mpts_array\u001b[0m\u001b[0;34m[\u001b[0m\u001b[0;36m0\u001b[0m\u001b[0;34m]\u001b[0m\u001b[0;34m[\u001b[0m\u001b[0;34m:\u001b[0m\u001b[0;36m5000\u001b[0m\u001b[0;34m]\u001b[0m\u001b[0;34m\u001b[0m\u001b[0;34m\u001b[0m\u001b[0m\n\u001b[1;32m     24\u001b[0m \u001b[0mpts_2\u001b[0m \u001b[0;34m=\u001b[0m \u001b[0mpts_array\u001b[0m\u001b[0;34m[\u001b[0m\u001b[0;36m1\u001b[0m\u001b[0;34m]\u001b[0m\u001b[0;34m[\u001b[0m\u001b[0;34m:\u001b[0m\u001b[0;36m5000\u001b[0m\u001b[0;34m]\u001b[0m\u001b[0;34m\u001b[0m\u001b[0;34m\u001b[0m\u001b[0m\n\u001b[0;32m---> 25\u001b[0;31m imReg, h = find_homography(pts_1,\n\u001b[0m\u001b[1;32m     26\u001b[0m                            pts_2, im)\n\u001b[1;32m     27\u001b[0m \u001b[0;34m\u001b[0m\u001b[0m\n",
      "\u001b[0;32m/tmp/ipykernel_524764/1560566881.py\u001b[0m in \u001b[0;36mfind_homography\u001b[0;34m(points1, points2, im)\u001b[0m\n\u001b[1;32m      5\u001b[0m \u001b[0;34m\u001b[0m\u001b[0m\n\u001b[1;32m      6\u001b[0m     \u001b[0;31m# Find homography\u001b[0m\u001b[0;34m\u001b[0m\u001b[0;34m\u001b[0m\u001b[0;34m\u001b[0m\u001b[0m\n\u001b[0;32m----> 7\u001b[0;31m     h, mask = cv2.findHomography(points1, points2, \n\u001b[0m\u001b[1;32m      8\u001b[0m                                  \u001b[0mcv2\u001b[0m\u001b[0;34m.\u001b[0m\u001b[0mRHO\u001b[0m\u001b[0;31m#cv2.RANSAC\u001b[0m\u001b[0;34m\u001b[0m\u001b[0;34m\u001b[0m\u001b[0m\n\u001b[1;32m      9\u001b[0m                                 )\n",
      "\u001b[0;31merror\u001b[0m: OpenCV(4.5.5) :-1: error: (-5:Bad argument) in function 'findHomography'\n> Overload resolution failed:\n>  - srcPoints is not a numpy array, neither a scalar\n>  - Expected Ptr<cv::UMat> for argument 'srcPoints'\n>  - srcPoints is not a numpy array, neither a scalar\n>  - Expected Ptr<cv::UMat> for argument 'srcPoints'\n"
     ]
    }
   ],
   "source": [
    "# ##################################################\n",
    "# ##################################################\n",
    "# ##################################################\n",
    "# def find_homography(points1, points2, im):\n",
    "    \n",
    "#     # Find homography\n",
    "#     h, mask = cv2.findHomography(points1, points2, \n",
    "#                                  cv2.RHO#cv2.RANSAC\n",
    "#                                 )\n",
    "#     print (\"H: \", h)\n",
    "#     # Use homography\n",
    "#     height, width, channels = im.shape\n",
    "#     im1Reg = cv2.warpPerspective(im, h, (width, height))\n",
    "\n",
    "#     return im1Reg, h\n",
    "\n",
    "# #\n",
    "# # \n",
    "# im = np.zeros((imgs[0].shape[0],imgs[0].shape[0],3), dtype=np.uint8)\n",
    "# im[:,:,0] = imgs[1]\n",
    "\n",
    "# #\n",
    "# pts_1 = pts_array[0][:5000]\n",
    "# pts_2 = pts_array[1][:5000]\n",
    "# imReg, h = find_homography(pts_1,\n",
    "#                            pts_2, im)\n",
    "\n",
    "# fig=plt.figure()\n",
    "# # \n",
    "# ax=plt.subplot(1,2,1)\n",
    "# plt.imshow(imgs[0]+imgs[1]*-1)\n",
    "# plt.scatter(pts_array[0][:,1],pts_array[0][:,0], c = 'white')\n",
    "# plt.scatter(pts_array[1][:,1],pts_array[1][:,0], c = 'red')\n",
    "\n",
    "# # \n",
    "# ax=plt.subplot(1,2,2)\n",
    "# #plt.imshow(imgs[0]+im2Reg[:,:,0]*-1)\n",
    "# plt.imshow(imgs[0])\n",
    "\n",
    "\n",
    "# plt.scatter(pts_array[0][:,1],pts_array[0][:,0], c='blue')\n",
    "\n",
    "# from numpy.linalg import inv\n",
    "\n",
    "# # invert transform matrix, created with cv2.perspectiveTransform\n",
    "# M = inv(hh)  \n",
    "# #M = inv(h)\n",
    "\n",
    "# # \n",
    "# def warp_point(xy, M):\n",
    "#     x= xy[0]\n",
    "#     y=xy[1]\n",
    "#     d = M[2, 0] * x + M[2, 1] * y + M[2, 2]\n",
    "\n",
    "#     return (\n",
    "#         int(M[0, 0] * x + M[0, 1] * y + M[0, 2] / d), # x\n",
    "#         int(M[1, 0] * x + M[1, 1] * y + M[1, 2] / d), # y\n",
    "#     )\n",
    "\n",
    "# # \n",
    "# pts_trans = []\n",
    "# for k in range(pts_array[1].shape[0]):\n",
    "    \n",
    "#     pts_trans.append(warp_point(pts_array[1][k], M))\n",
    "\n",
    "# pts_trans = np.vstack(pts_trans)\n",
    "# plt.scatter(pts_trans[:,1],\n",
    "#             pts_trans[:,0], c='red')\n",
    "\n",
    "\n",
    "# #\n",
    "# idx = np.where(imgs[1]>0)\n",
    "# idx22 = np.vstack(idx).T\n",
    "# print (idx22.shape)\n",
    "\n",
    "# #\n",
    "# img_trans = []\n",
    "# for k in range(idx22.shape[0]):\n",
    "#     img_trans.append(warp_point(idx22[k], M))\n",
    "\n",
    "# img_trans = np.vstack(img_trans)\n",
    "# plt.scatter(img_trans[:,1],\n",
    "#             img_trans[:,0],\n",
    "#             s=10,\n",
    "#             c='white')    \n",
    "\n",
    "# # \n",
    "# plt.show()\n",
    "# #plt.imshow(imReg)\n"
   ]
  },
  {
   "cell_type": "code",
   "execution_count": null,
   "id": "6b09deb5",
   "metadata": {},
   "outputs": [],
   "source": []
  },
  {
   "cell_type": "code",
   "execution_count": null,
   "id": "7ba02337",
   "metadata": {},
   "outputs": [],
   "source": []
  },
  {
   "cell_type": "code",
   "execution_count": null,
   "id": "8a382be5",
   "metadata": {},
   "outputs": [],
   "source": []
  },
  {
   "cell_type": "code",
   "execution_count": null,
   "id": "3364c5ef",
   "metadata": {},
   "outputs": [],
   "source": []
  },
  {
   "cell_type": "code",
   "execution_count": null,
   "id": "c8b952bb",
   "metadata": {},
   "outputs": [],
   "source": []
  },
  {
   "cell_type": "code",
   "execution_count": null,
   "id": "aa341a15",
   "metadata": {},
   "outputs": [],
   "source": []
  },
  {
   "cell_type": "code",
   "execution_count": null,
   "id": "119ed802",
   "metadata": {},
   "outputs": [],
   "source": []
  },
  {
   "cell_type": "code",
   "execution_count": null,
   "id": "d5b22a35",
   "metadata": {},
   "outputs": [],
   "source": []
  },
  {
   "cell_type": "code",
   "execution_count": null,
   "id": "c40db523",
   "metadata": {},
   "outputs": [],
   "source": []
  },
  {
   "cell_type": "code",
   "execution_count": null,
   "id": "5b28a300",
   "metadata": {},
   "outputs": [],
   "source": []
  },
  {
   "cell_type": "code",
   "execution_count": null,
   "id": "e66a5ec1",
   "metadata": {},
   "outputs": [],
   "source": []
  },
  {
   "cell_type": "code",
   "execution_count": null,
   "id": "fa0822d6",
   "metadata": {},
   "outputs": [],
   "source": []
  },
  {
   "cell_type": "code",
   "execution_count": null,
   "id": "f6d1dc27",
   "metadata": {},
   "outputs": [],
   "source": []
  },
  {
   "cell_type": "code",
   "execution_count": null,
   "id": "9ac858d1",
   "metadata": {},
   "outputs": [],
   "source": []
  },
  {
   "cell_type": "code",
   "execution_count": null,
   "id": "ec0caba0",
   "metadata": {},
   "outputs": [],
   "source": []
  },
  {
   "cell_type": "code",
   "execution_count": null,
   "id": "5d1d91de",
   "metadata": {},
   "outputs": [],
   "source": []
  },
  {
   "cell_type": "code",
   "execution_count": null,
   "id": "3f89ec16",
   "metadata": {},
   "outputs": [],
   "source": []
  },
  {
   "cell_type": "code",
   "execution_count": null,
   "id": "e1fdfed4",
   "metadata": {},
   "outputs": [],
   "source": []
  },
  {
   "cell_type": "code",
   "execution_count": null,
   "id": "36aee8d5",
   "metadata": {},
   "outputs": [],
   "source": []
  },
  {
   "cell_type": "code",
   "execution_count": null,
   "id": "f50c55d3",
   "metadata": {},
   "outputs": [],
   "source": []
  },
  {
   "cell_type": "code",
   "execution_count": null,
   "id": "e3c3c17f",
   "metadata": {},
   "outputs": [],
   "source": []
  }
 ],
 "metadata": {
  "kernelspec": {
   "display_name": "Python 3 (ipykernel)",
   "language": "python",
   "name": "python3"
  },
  "language_info": {
   "codemirror_mode": {
    "name": "ipython",
    "version": 3
   },
   "file_extension": ".py",
   "mimetype": "text/x-python",
   "name": "python",
   "nbconvert_exporter": "python",
   "pygments_lexer": "ipython3",
   "version": "3.8.12"
  }
 },
 "nbformat": 4,
 "nbformat_minor": 5
}
