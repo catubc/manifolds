{
 "cells": [
  {
   "cell_type": "code",
   "execution_count": 5,
   "id": "6484554c",
   "metadata": {},
   "outputs": [
    {
     "data": {
      "application/javascript": [
       "IPython.notebook.set_autosave_interval(180000)"
      ]
     },
     "metadata": {},
     "output_type": "display_data"
    },
    {
     "name": "stdout",
     "output_type": "stream",
     "text": [
      "Autosaving every 180 seconds\n",
      "The autoreload extension is already loaded. To reload it, use:\n",
      "  %reload_ext autoreload\n"
     ]
    },
    {
     "data": {
      "text/html": [
       "<style>.container { width:100% !important; }</style>"
      ],
      "text/plain": [
       "<IPython.core.display.HTML object>"
      ]
     },
     "metadata": {},
     "output_type": "display_data"
    }
   ],
   "source": [
    "import matplotlib\n",
    "%matplotlib tk\n",
    "%autosave 180\n",
    "%load_ext autoreload\n",
    "%autoreload 2\n",
    "\n",
    "import nest_asyncio\n",
    "%config Completer.use_jedi = False\n",
    "\n",
    "import os\n",
    "os.chdir('/home/cat/code/manifolds/')\n",
    "\n",
    "#\n",
    "import matplotlib.pyplot as plt\n",
    "from IPython.core.display import display, HTML\n",
    "display(HTML(\"<style>.container { width:100% !important; }</style>\"))\n",
    "\n",
    "import scipy\n",
    "import numpy as np\n",
    "import pandas as pd\n",
    "\n",
    "from calcium import calcium\n",
    "from wheel import wheel\n",
    "from visualize import visualize\n",
    "from tqdm import trange\n",
    "\n",
    "from scipy.io import loadmat\n",
    "\n",
    "import plotly.express as px\n",
    "from plotly.subplots import make_subplots\n",
    "import plotly.graph_objects as go\n",
    "from scipy.spatial import ConvexHull, convex_hull_plot_2d\n",
    "\n",
    "# \n",
    "np.set_printoptions(suppress=True)"
   ]
  },
  {
   "cell_type": "code",
   "execution_count": 34,
   "id": "be2a385e",
   "metadata": {},
   "outputs": [
    {
     "name": "stdout",
     "output_type": "stream",
     "text": [
      "\n",
      "\n"
     ]
    }
   ],
   "source": [
    "####################################################\n",
    "############## LOAD DATA ##############\n",
    "####################################################\n",
    "root_dir = '/media/cat/4TB/donato/'\n",
    "animal_id = 'DON-006084'\n",
    "session = '20210520'\n",
    "\n",
    "c = calcium.Calcium()\n",
    "c.root_dir = root_dir\n",
    "c.animal_id = animal_id\n",
    "c.session = session\n",
    "c.load_suite2p()\n",
    "\n",
    "c20 = c"
   ]
  },
  {
   "cell_type": "code",
   "execution_count": 59,
   "id": "9b18026f",
   "metadata": {},
   "outputs": [],
   "source": [
    "#############################################\n",
    "############ SHOW 2D FOOT PRINTS ############\n",
    "#############################################\n",
    "\n",
    "fig=plt.figure()\n",
    "sparse = 3\n",
    "xoffset = 0\n",
    "yoffset = 0\n",
    "for k in range(0, c19.stat.shape[0], sparse):\n",
    "    points = np.vstack((c19.stat[k]['xpix'],\n",
    "                        c19.stat[k]['ypix'])).T\n",
    "\n",
    "    # \n",
    "    hull = ConvexHull(points)\n",
    "    hull_ids = hull.vertices\n",
    "    hull_points = points[hull.vertices]\n",
    "    hull_points = np.vstack((hull_points, hull_points[0]))\n",
    "\n",
    "    plt.plot(hull_points[:,0], \n",
    "             hull_points[:,1], \n",
    "             c='black',\n",
    "             lw=2)\n",
    "\n",
    "for k in range(0,c20.stat.shape[0], sparse):\n",
    "    points = np.vstack((c20.stat[k]['xpix'],\n",
    "                        c20.stat[k]['ypix'])).T\n",
    "\n",
    "    # \n",
    "    hull = ConvexHull(points)\n",
    "    hull_ids = hull.vertices\n",
    "    hull_points = points[hull.vertices]\n",
    "    hull_points = np.vstack((hull_points, hull_points[0]))\n",
    "\n",
    "    plt.plot(hull_points[:,0]-xoffset, \n",
    "             hull_points[:,1]-yoffset, \n",
    "             c='blue',\n",
    "             lw=2)\n",
    "plt.show()"
   ]
  },
  {
   "cell_type": "code",
   "execution_count": 58,
   "id": "2a3b623f",
   "metadata": {},
   "outputs": [],
   "source": [
    "#############################################\n",
    "############ SHOW 2D FOOT PRINTS ############\n",
    "#############################################\n",
    "\n",
    "fig=plt.figure()\n",
    "sparse = 2\n",
    "xoffset = 0\n",
    "yoffset = -50\n",
    "means = []\n",
    "for k in range(0, c19.stat.shape[0], sparse):\n",
    "    points = np.vstack((c19.stat[k]['xpix'],\n",
    "                        c19.stat[k]['ypix'])).T\n",
    "\n",
    "    means.append(np.mean(points,0))\n",
    "\n",
    "means = np.vstack(means)\n",
    "plt.scatter(means[:,0], \n",
    "           means[:,1], \n",
    "           c='black',\n",
    "           s=200,\n",
    "           alpha=.5)\n",
    "\n",
    "means=[]\n",
    "for k in range(0,c20.stat.shape[0], sparse):\n",
    "    points = np.vstack((c20.stat[k]['xpix'],\n",
    "                        c20.stat[k]['ypix'])).T\n",
    "\n",
    "    # \n",
    "    means.append(np.mean(points,0))\n",
    "\n",
    "means = np.vstack(means)\n",
    "plt.scatter(means[:,0]+xoffset, \n",
    "           means[:,1]+yoffset, \n",
    "           c='blue',\n",
    "           s=200,\n",
    "           alpha=.5)\n",
    "plt.show()\n",
    "\n",
    "\n"
   ]
  },
  {
   "cell_type": "code",
   "execution_count": 156,
   "id": "0dd6fa5d",
   "metadata": {},
   "outputs": [
    {
     "name": "stdout",
     "output_type": "stream",
     "text": [
      "(531, 512, 512) (584, 512, 512)\n",
      "(531, 262144)\n",
      "(584, 262144)\n"
     ]
    }
   ],
   "source": [
    "###################################################\n",
    "###################################################\n",
    "###################################################\n",
    "\n",
    "plotting = True\n",
    "    \n",
    "\n",
    "dims = [512,512]\n",
    "##################################################\n",
    "img_19_all = np.zeros((dims[0],dims[1]))\n",
    "imgs_19 = []\n",
    "for k in range(len(c19.stat)):\n",
    "    x = c19.stat[k]['xpix']\n",
    "    y = c19.stat[k]['ypix']\n",
    "    img_19_all[x,y]=c19.stat[k]['lam']\n",
    "    \n",
    "    # save footprint\n",
    "    img_temp = np.zeros((dims[0],dims[1]))\n",
    "    img_temp[x,y]=c19.stat[k]['lam']\n",
    "    imgs_19.append(img_temp)\n",
    "    \n",
    "if plotting: \n",
    "    fig=plt.figure()\n",
    "    ax=plt.subplot(121)\n",
    "    plt.imshow(img_19_all)\n",
    "    plt.title(\"P19\")\n",
    "\n",
    "###################################################\n",
    "imgs_20 = []\n",
    "img_20_all = np.zeros((dims[0],dims[1]))\n",
    "for k in range(len(c20.stat)):\n",
    "    x = c20.stat[k]['xpix']\n",
    "    y = c20.stat[k]['ypix']\n",
    "    img_20_all[x,y]=c20.stat[k]['lam']\n",
    "    \n",
    "    # save footprint\n",
    "    img_temp = np.zeros((dims[0],dims[1]))\n",
    "    img_temp[x,y]=c20.stat[k]['lam']\n",
    "    imgs_20.append(img_temp)\n",
    "\n",
    "if plotting:\n",
    "    ax=plt.subplot(122)\n",
    "    plt.imshow(img_20_all)\n",
    "    plt.title(\"P20\")\n",
    "    plt.show()\n",
    "\n",
    "    \n",
    "    \n",
    "imgs_19 = np.array(imgs_19)\n",
    "imgs_20 = np.array(imgs_20)\n",
    "print (imgs_19.shape, imgs_20.shape)\n",
    "\n",
    "#\n",
    "imgs_19_flat = imgs_19.reshape(imgs_19.shape[0],-1)\n",
    "print (imgs_19_flat.shape)\n",
    "\n",
    "imgs_20_flat = imgs_20.reshape(imgs_20.shape[0],-1)\n",
    "print (imgs_20_flat.shape)\n",
    "\n",
    "np.save('/home/cat/c19.npy',imgs_19_flat.T)\n",
    "np.save('/home/cat/c20.npy',imgs_20_flat.T)\n",
    "np.save('/home/cat/c19_all.npy',img_19_all)\n",
    "np.save('/home/cat/c20_all.npy',img_20_all)\n"
   ]
  },
  {
   "cell_type": "code",
   "execution_count": 150,
   "id": "47533b68",
   "metadata": {},
   "outputs": [
    {
     "name": "stdout",
     "output_type": "stream",
     "text": [
      "(531, 360000)\n",
      "(584, 360000)\n"
     ]
    }
   ],
   "source": [
    "\n",
    "\n"
   ]
  },
  {
   "cell_type": "code",
   "execution_count": null,
   "id": "aa341a15",
   "metadata": {},
   "outputs": [],
   "source": []
  },
  {
   "cell_type": "code",
   "execution_count": null,
   "id": "119ed802",
   "metadata": {},
   "outputs": [],
   "source": []
  },
  {
   "cell_type": "code",
   "execution_count": null,
   "id": "d5b22a35",
   "metadata": {},
   "outputs": [],
   "source": []
  },
  {
   "cell_type": "code",
   "execution_count": null,
   "id": "c40db523",
   "metadata": {},
   "outputs": [],
   "source": []
  },
  {
   "cell_type": "code",
   "execution_count": null,
   "id": "5b28a300",
   "metadata": {},
   "outputs": [],
   "source": []
  },
  {
   "cell_type": "code",
   "execution_count": null,
   "id": "e66a5ec1",
   "metadata": {},
   "outputs": [],
   "source": []
  },
  {
   "cell_type": "code",
   "execution_count": 155,
   "id": "2b359114",
   "metadata": {},
   "outputs": [
    {
     "name": "stdout",
     "output_type": "stream",
     "text": [
      "['Lx', 'Lxc', 'Ly', 'Lyc', 'Vcorr', 'Vmap', 'Vmax', 'Vsplit', '__class__', '__delattr__', '__dict__', '__dir__', '__doc__', '__eq__', '__format__', '__ge__', '__getattribute__', '__gt__', '__hash__', '__init__', '__init_subclass__', '__le__', '__lt__', '__module__', '__ne__', '__new__', '__reduce__', '__reduce_ex__', '__repr__', '__setattr__', '__sizeof__', '__slotnames__', '__str__', '__subclasshook__', '__weakref__', '_fieldnames', 'align_by_chan', 'allow_overlap', 'anatomical_only', 'aspect', 'baseline', 'batch_size', 'bidi_corrected', 'bidiphase', 'block_size', 'bruker', 'bruker_bidirectional', 'cellprob_threshold', 'chan2_thres', 'classifier_path', 'combined', 'connected', 'data_path', 'date_proc', 'delete_bin', 'denoise', 'diameter', 'do_bidiphase', 'do_registration', 'fast_disk', 'filelist', 'first_tiffs', 'flow_threshold', 'force_refImg', 'force_sktiff', 'frames_include', 'frames_per_file', 'frames_per_folder', 'fs', 'functional_chan', 'h5py', 'h5py_key', 'high_pass', 'ignore_flyback', 'ihop', 'inner_neuropil_radius', 'input_format', 'keep_movie_raw', 'lam_percentile', 'look_one_level_down', 'max_iterations', 'max_overlap', 'max_proj', 'maxregshift', 'maxregshiftNR', 'meanImg', 'meanImgE', 'mesoscan', 'min_neuropil_pixels', 'move_bin', 'multiplane_parallel', 'nbinned', 'nchannels', 'neucoeff', 'neuropil_extract', 'nframes', 'nimg_init', 'nonrigid', 'norm_frames', 'nplanes', 'ops_path', 'pad_fft', 'prctile_baseline', 'pre_smooth', 'preclassify', 'reg_file', 'reg_tif', 'reg_tif_chan2', 'roidetect', 'save_NWB', 'save_folder', 'save_mat', 'save_path', 'save_path0', 'sig_baseline', 'smooth_sigma', 'smooth_sigma_time', 'snr_thresh', 'soma_crop', 'sparse_mode', 'spatial_hp', 'spatial_hp_detect', 'spatial_hp_reg', 'spatial_scale', 'spatial_taper', 'spatscale_pix', 'spikedetect', 'subfolders', 'subpixel', 'suite2p_version', 'tau', 'th_badframes', 'threshold_scaling', 'timing', 'two_step_registration', 'use_builtin_classifier', 'win_baseline', 'xrange', 'yrange']\n",
      "(512, 512)\n"
     ]
    }
   ],
   "source": [
    "##########################################################\n",
    "############## LOAD DATA FROM OPS FILE ###################\n",
    "##########################################################\n",
    "matfile = loadmat('/media/cat/4TB/donato/DON-006084/20210519/suite2p/plane0/Fall.mat', \n",
    "                  squeeze_me=True, \n",
    "                  struct_as_record=False)\n",
    "\n",
    "print (dir(matfile['ops']))\n",
    "img = matfile['ops'].meanImg\n",
    "\n",
    "print (img.shape)\n",
    "plt.imshow(img)\n",
    "plt.show()\n",
    "\n",
    "\n"
   ]
  },
  {
   "cell_type": "code",
   "execution_count": null,
   "id": "fa0822d6",
   "metadata": {},
   "outputs": [],
   "source": []
  },
  {
   "cell_type": "code",
   "execution_count": null,
   "id": "f6d1dc27",
   "metadata": {},
   "outputs": [],
   "source": []
  },
  {
   "cell_type": "code",
   "execution_count": null,
   "id": "9ac858d1",
   "metadata": {},
   "outputs": [],
   "source": []
  },
  {
   "cell_type": "code",
   "execution_count": null,
   "id": "ec0caba0",
   "metadata": {},
   "outputs": [],
   "source": []
  },
  {
   "cell_type": "code",
   "execution_count": null,
   "id": "5d1d91de",
   "metadata": {},
   "outputs": [],
   "source": []
  },
  {
   "cell_type": "code",
   "execution_count": null,
   "id": "3f89ec16",
   "metadata": {},
   "outputs": [],
   "source": []
  },
  {
   "cell_type": "code",
   "execution_count": null,
   "id": "e1fdfed4",
   "metadata": {},
   "outputs": [],
   "source": []
  },
  {
   "cell_type": "code",
   "execution_count": null,
   "id": "36aee8d5",
   "metadata": {},
   "outputs": [],
   "source": []
  },
  {
   "cell_type": "code",
   "execution_count": null,
   "id": "f50c55d3",
   "metadata": {},
   "outputs": [],
   "source": []
  },
  {
   "cell_type": "code",
   "execution_count": null,
   "id": "e3c3c17f",
   "metadata": {},
   "outputs": [],
   "source": []
  }
 ],
 "metadata": {
  "kernelspec": {
   "display_name": "Python 3 (ipykernel)",
   "language": "python",
   "name": "python3"
  },
  "language_info": {
   "codemirror_mode": {
    "name": "ipython",
    "version": 3
   },
   "file_extension": ".py",
   "mimetype": "text/x-python",
   "name": "python",
   "nbconvert_exporter": "python",
   "pygments_lexer": "ipython3",
   "version": "3.8.12"
  }
 },
 "nbformat": 4,
 "nbformat_minor": 5
}
