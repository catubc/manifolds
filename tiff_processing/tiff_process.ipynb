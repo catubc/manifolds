{
 "cells": [
  {
   "cell_type": "code",
   "execution_count": 1,
   "id": "f007a20c",
   "metadata": {},
   "outputs": [
    {
     "data": {
      "application/javascript": [
       "IPython.notebook.set_autosave_interval(180000)"
      ]
     },
     "metadata": {},
     "output_type": "display_data"
    },
    {
     "name": "stdout",
     "output_type": "stream",
     "text": [
      "Autosaving every 180 seconds\n"
     ]
    },
    {
     "data": {
      "text/html": [
       "<style>.container { width:100% !important; }</style>"
      ],
      "text/plain": [
       "<IPython.core.display.HTML object>"
      ]
     },
     "metadata": {},
     "output_type": "display_data"
    }
   ],
   "source": [
    "import matplotlib\n",
    "%matplotlib tk\n",
    "%autosave 180\n",
    "%load_ext autoreload\n",
    "%autoreload 2\n",
    "\n",
    "#import nest_asyncio\n",
    "# %config Completer.use_jedi = False\n",
    "\n",
    "# import os\n",
    "# os.chdir('/home/cat/code/manifolds/')\n",
    "\n",
    "# #\n",
    "# import matplotlib.pyplot as plt\n",
    "# from IPython.core.display import display, HTML\n",
    "# display(HTML(\"<style>.container { width:100% !important; }</style>\"))\n",
    "\n",
    "import numpy as np\n",
    "import tifffile as tiff\n"
   ]
  },
  {
   "cell_type": "code",
   "execution_count": 2,
   "id": "aa91cfc8",
   "metadata": {},
   "outputs": [],
   "source": [
    "#\n",
    "fname = '/media/cat/4TB/donato/nathalie/DON-005099.tif'\n",
    "a = tiff.imread(fname)\n"
   ]
  },
  {
   "cell_type": "code",
   "execution_count": 3,
   "id": "9b89de07",
   "metadata": {},
   "outputs": [
    {
     "name": "stdout",
     "output_type": "stream",
     "text": [
      "(12000, 800, 842)\n",
      "<class 'numpy.uint16'>\n",
      "445 2924\n"
     ]
    }
   ],
   "source": [
    "# compute min and maxes \n",
    "print (a.shape)\n",
    "print (type(a[0,0,0]))\n",
    "a_max = np.max(a)\n",
    "a_min = np.min(a)\n",
    "print (a_min, a_max)\n",
    "\n",
    "#\n",
    "print (type(a[0,0,0]))\n"
   ]
  },
  {
   "cell_type": "code",
   "execution_count": 8,
   "id": "5589b377",
   "metadata": {},
   "outputs": [],
   "source": [
    "# map data to uint8 range of from 0 .. 255. \n",
    "a -= a_min\n",
    "a //= int((a_max-a_min)/255.)\n",
    "\n"
   ]
  },
  {
   "cell_type": "code",
   "execution_count": 12,
   "id": "29f7f4a0",
   "metadata": {},
   "outputs": [
    {
     "name": "stdout",
     "output_type": "stream",
     "text": [
      "<class 'numpy.uint16'>\n",
      "<class 'int'>\n"
     ]
    }
   ],
   "source": [
    "# save uint8 version of the data\n",
    "tiff.imsave(fname.replace('.tif','_uint8.tif', a.astype('uint8'))\n",
    "\n"
   ]
  },
  {
   "cell_type": "code",
   "execution_count": 13,
   "id": "d90391e6",
   "metadata": {},
   "outputs": [],
   "source": [
    "\n"
   ]
  },
  {
   "cell_type": "code",
   "execution_count": null,
   "id": "14a826a1",
   "metadata": {},
   "outputs": [],
   "source": []
  },
  {
   "cell_type": "code",
   "execution_count": null,
   "id": "f895b2dc",
   "metadata": {},
   "outputs": [],
   "source": []
  },
  {
   "cell_type": "code",
   "execution_count": null,
   "id": "476e6b34",
   "metadata": {},
   "outputs": [],
   "source": []
  },
  {
   "cell_type": "code",
   "execution_count": null,
   "id": "6adc5e74",
   "metadata": {},
   "outputs": [],
   "source": []
  },
  {
   "cell_type": "code",
   "execution_count": null,
   "id": "1dd9298b",
   "metadata": {},
   "outputs": [],
   "source": []
  },
  {
   "cell_type": "code",
   "execution_count": null,
   "id": "638fd948",
   "metadata": {},
   "outputs": [],
   "source": []
  },
  {
   "cell_type": "code",
   "execution_count": null,
   "id": "cd7dd040",
   "metadata": {},
   "outputs": [],
   "source": []
  },
  {
   "cell_type": "code",
   "execution_count": null,
   "id": "48128ca7",
   "metadata": {},
   "outputs": [],
   "source": []
  },
  {
   "cell_type": "code",
   "execution_count": null,
   "id": "e086ffc4",
   "metadata": {},
   "outputs": [],
   "source": []
  },
  {
   "cell_type": "code",
   "execution_count": 11,
   "id": "e1f0b299",
   "metadata": {},
   "outputs": [
    {
     "name": "stdout",
     "output_type": "stream",
     "text": [
      "(12000, 800, 842)\n"
     ]
    }
   ],
   "source": []
  },
  {
   "cell_type": "code",
   "execution_count": null,
   "id": "fb74abcf",
   "metadata": {},
   "outputs": [],
   "source": []
  },
  {
   "cell_type": "code",
   "execution_count": 5,
   "id": "bebd4f12",
   "metadata": {},
   "outputs": [],
   "source": [
    "b_max = np.max(b)\n",
    "b_min = np.min(b)"
   ]
  },
  {
   "cell_type": "code",
   "execution_count": 6,
   "id": "0cbe2c89",
   "metadata": {},
   "outputs": [],
   "source": [
    "b -= b_min\n"
   ]
  },
  {
   "cell_type": "code",
   "execution_count": 8,
   "id": "a3d998a3",
   "metadata": {},
   "outputs": [],
   "source": [
    "b = b/((b_max-b_min)/255.)\n",
    "\n"
   ]
  },
  {
   "cell_type": "code",
   "execution_count": 9,
   "id": "0d603319",
   "metadata": {},
   "outputs": [],
   "source": [
    "c = b.astype('uint16')\n",
    "\n"
   ]
  },
  {
   "cell_type": "code",
   "execution_count": 10,
   "id": "91feaaba",
   "metadata": {},
   "outputs": [
    {
     "name": "stdout",
     "output_type": "stream",
     "text": [
      "<class 'numpy.float64'> (6000, 800, 842) <class 'numpy.uint16'> (6000, 800, 842)\n"
     ]
    }
   ],
   "source": [
    "print (type(b[0,0,0]), b.shape, type(c[0,0,0]), c.shape)\n"
   ]
  },
  {
   "cell_type": "code",
   "execution_count": 11,
   "id": "64e4fa99",
   "metadata": {},
   "outputs": [],
   "source": [
    "plt.imshow(c[100])\n",
    "plt.show()"
   ]
  },
  {
   "cell_type": "code",
   "execution_count": 12,
   "id": "f225a477",
   "metadata": {},
   "outputs": [],
   "source": [
    "tiff.imsave('/media/cat/4TB/donato/nathalie/DON-005099_uint8.tif', c)"
   ]
  },
  {
   "cell_type": "code",
   "execution_count": null,
   "id": "6e76dd12",
   "metadata": {},
   "outputs": [],
   "source": []
  },
  {
   "cell_type": "code",
   "execution_count": null,
   "id": "d96b9748",
   "metadata": {},
   "outputs": [],
   "source": []
  }
 ],
 "metadata": {
  "kernelspec": {
   "display_name": "Python 3 (ipykernel)",
   "language": "python",
   "name": "python3"
  },
  "language_info": {
   "codemirror_mode": {
    "name": "ipython",
    "version": 3
   },
   "file_extension": ".py",
   "mimetype": "text/x-python",
   "name": "python",
   "nbconvert_exporter": "python",
   "pygments_lexer": "ipython3",
   "version": "3.8.12"
  }
 },
 "nbformat": 4,
 "nbformat_minor": 5
}
