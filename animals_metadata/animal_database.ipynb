{
 "cells": [
  {
   "cell_type": "code",
   "execution_count": 1,
   "id": "a4a504f9",
   "metadata": {},
   "outputs": [
    {
     "data": {
      "application/javascript": [
       "IPython.notebook.set_autosave_interval(180000)"
      ]
     },
     "metadata": {},
     "output_type": "display_data"
    },
    {
     "name": "stdout",
     "output_type": "stream",
     "text": [
      "Autosaving every 180 seconds\n"
     ]
    },
    {
     "data": {
      "text/html": [
       "<style>.container { width:100% !important; }</style>"
      ],
      "text/plain": [
       "<IPython.core.display.HTML object>"
      ]
     },
     "metadata": {},
     "output_type": "display_data"
    }
   ],
   "source": [
    "import matplotlib\n",
    "%matplotlib tk\n",
    "%autosave 180\n",
    "%load_ext autoreload\n",
    "%autoreload 2\n",
    "\n",
    "import nest_asyncio\n",
    "%config Completer.use_jedi = False\n",
    "\n",
    "#\n",
    "import matplotlib.pyplot as plt\n",
    "from IPython.core.display import display, HTML\n",
    "display(HTML(\"<style>.container { width:100% !important; }</style>\"))\n",
    "\n",
    "import scipy\n",
    "import numpy as np\n",
    "import pandas as pd\n",
    "import os\n",
    "os.chdir('/home/cat/code/manifolds/')\n",
    "\n",
    "from calcium import calcium\n",
    "from wheel import wheel\n",
    "from visualize import visualize\n",
    "from tqdm import trange\n",
    "\n",
    "\n",
    "from scipy.io import loadmat\n",
    "\n",
    "import umap\n",
    "\n",
    "from sklearn.decomposition import PCA\n",
    "import plotly.express as px\n",
    "from plotly.subplots import make_subplots\n",
    "import plotly.graph_objects as go\n",
    "from scipy import stats\n",
    "\n",
    "#\n",
    "\n",
    "# \n",
    "np.set_printoptions(suppress=True)"
   ]
  },
  {
   "cell_type": "code",
   "execution_count": 51,
   "id": "34b8abf6",
   "metadata": {
    "scrolled": false
   },
   "outputs": [
    {
     "name": "stdout",
     "output_type": "stream",
     "text": [
      "     Mouse_id   Birth  Injected_on  First_imaging_session  \\\n",
      "0  DON-002865  200620       200728                 200912   \n",
      "1  DON-003165  200731       201012                 201218   \n",
      "2  DON-003343  200826       201014                 210213   \n",
      "3  DON-006084  210430       210502                 210519   \n",
      "4  DON-006085  210430       210502                 210519   \n",
      "5  DON-006087  210430       210502                 210524   \n",
      "\n",
      "   Last_imaging_session      #_of_sessions   Group  Suite2p_Processing  \\\n",
      "0                201121  19 (before wheel)   Adult                   1   \n",
      "1                210118   6 (before wheel)   Adult                   1   \n",
      "2                210303   0 (before wheel)   Adult                   1   \n",
      "3                210528      10 (on wheel)  Infant                   1   \n",
      "4                210528      10 (on wheel)  Infant                   1   \n",
      "5                210602      10 (on wheel)  Infant                   1   \n",
      "\n",
      "   Suite2p_Curation                                       Comments  \\\n",
      "0                 0  was trained on the treadmill before the wheel   \n",
      "1                 0  was trained on the treadmill before the wheel   \n",
      "2                 0  was trained on the treadmill before the wheel   \n",
      "3                 0                                   naïve animal   \n",
      "4                 0                                   naïve animal   \n",
      "5                 0                                   naïve animal   \n",
      "\n",
      "   Pday_start  Pday_end  \n",
      "0          90        99  \n",
      "1         120       129  \n",
      "2         150       159  \n",
      "3          19        28  \n",
      "4          19        28  \n",
      "5          24        33  \n"
     ]
    },
    {
     "name": "stderr",
     "output_type": "stream",
     "text": [
      "/tmp/ipykernel_168394/1177277159.py:19: FutureWarning: Passing a negative integer is deprecated in version 1.0 and will not be supported in future version. Instead, use None to not limit the column width.\n",
      "  pd.set_option('display.max_colwidth', -1)\n"
     ]
    }
   ],
   "source": [
    "###################################################\n",
    "###################################################\n",
    "###################################################\n",
    "animal_ids = [\n",
    "              'DON-006084',\n",
    "              #'DON-006085',\n",
    "              #'DON-006087',\n",
    "              #'DON-002865',\n",
    "              #'DON-003165',\n",
    "              #'DON-003343'\n",
    "             ]\n",
    "\n",
    "\n",
    "import pandas as pd\n",
    "df = pd.read_excel('/media/cat/4TB/donato/CA3 Wheel Animals Database.xlsx')\n",
    "pd.set_option('display.max_rows', None)\n",
    "pd.set_option('display.max_columns', None)\n",
    "pd.set_option('display.width', None)\n",
    "pd.set_option('display.max_colwidth', -1)\n",
    "\n",
    "with pd.option_context('display.max_colwidth', None):\n",
    "    pd.set_option('display.max_columns', None)  \n",
    "    print (df)"
   ]
  },
  {
   "cell_type": "code",
   "execution_count": 42,
   "id": "e2401857",
   "metadata": {},
   "outputs": [
    {
     "name": "stdout",
     "output_type": "stream",
     "text": [
      "Mouse_id                    DON-006084\n",
      "Birth                           210430\n",
      "Injected_on                     210502\n",
      "First_imaging_session           210519\n",
      "Last_imaging_session            210528\n",
      "# of sessions            10 (on wheel)\n",
      "Group                           Infant\n",
      "Suite2p_Processing                   1\n",
      "Suite2p_Curation                     0\n",
      "Comments                  naïve animal\n",
      "Pday_start                          19\n",
      "Pday_end                            28\n",
      "Name: 3, dtype: object\n",
      "19 28\n"
     ]
    }
   ],
   "source": [
    "###################################################\n",
    "###################################################\n",
    "###################################################\n",
    "idx = np.where(df['Mouse_id']=='DON-006084')[0].squeeze()\n",
    "print(df.iloc[idx])\n",
    "P_start = int(df.iloc[idx]['Pday_start'])\n",
    "P_end = int(df.iloc[idx]['Pday_end'])\n",
    "print (P_start, P_end)\n",
    "\n",
    "\n",
    "#idx2 = np.where(df.iloc[idx]=='Birth')[0].squeeze()\n",
    "#print (\"idx2: \", idx2)\n"
   ]
  },
  {
   "cell_type": "code",
   "execution_count": null,
   "id": "51eb512b",
   "metadata": {},
   "outputs": [],
   "source": []
  },
  {
   "cell_type": "code",
   "execution_count": null,
   "id": "2e0b54fd",
   "metadata": {},
   "outputs": [],
   "source": [
    "###################################################\n",
    "###################################################\n",
    "###################################################\n",
    "df.to_pickle(file_name)  # where to save it, usually as a .pkl\n"
   ]
  },
  {
   "cell_type": "code",
   "execution_count": null,
   "id": "1c6ce264",
   "metadata": {},
   "outputs": [],
   "source": []
  },
  {
   "cell_type": "code",
   "execution_count": null,
   "id": "75ce0e34",
   "metadata": {},
   "outputs": [],
   "source": []
  },
  {
   "cell_type": "code",
   "execution_count": null,
   "id": "3f1d9cd6",
   "metadata": {},
   "outputs": [],
   "source": []
  },
  {
   "cell_type": "code",
   "execution_count": null,
   "id": "133d7179",
   "metadata": {},
   "outputs": [],
   "source": []
  },
  {
   "cell_type": "code",
   "execution_count": null,
   "id": "3d56f361",
   "metadata": {},
   "outputs": [],
   "source": []
  },
  {
   "cell_type": "code",
   "execution_count": null,
   "id": "f25c3d06",
   "metadata": {},
   "outputs": [],
   "source": []
  },
  {
   "cell_type": "code",
   "execution_count": null,
   "id": "1aab5e50",
   "metadata": {},
   "outputs": [],
   "source": []
  },
  {
   "cell_type": "code",
   "execution_count": null,
   "id": "cf9ab6be",
   "metadata": {},
   "outputs": [],
   "source": []
  },
  {
   "cell_type": "code",
   "execution_count": null,
   "id": "1c7de9ac",
   "metadata": {},
   "outputs": [],
   "source": []
  },
  {
   "cell_type": "code",
   "execution_count": null,
   "id": "7e272794",
   "metadata": {},
   "outputs": [],
   "source": []
  },
  {
   "cell_type": "code",
   "execution_count": null,
   "id": "fcfa6918",
   "metadata": {},
   "outputs": [],
   "source": []
  },
  {
   "cell_type": "code",
   "execution_count": null,
   "id": "9657261d",
   "metadata": {},
   "outputs": [],
   "source": []
  },
  {
   "cell_type": "code",
   "execution_count": null,
   "id": "405ce159",
   "metadata": {},
   "outputs": [],
   "source": []
  },
  {
   "cell_type": "code",
   "execution_count": null,
   "id": "8befd668",
   "metadata": {},
   "outputs": [],
   "source": []
  },
  {
   "cell_type": "code",
   "execution_count": null,
   "id": "c35f1304",
   "metadata": {},
   "outputs": [],
   "source": []
  },
  {
   "cell_type": "code",
   "execution_count": null,
   "id": "2ddeebfc",
   "metadata": {},
   "outputs": [],
   "source": []
  },
  {
   "cell_type": "code",
   "execution_count": null,
   "id": "b9977ad2",
   "metadata": {},
   "outputs": [],
   "source": []
  },
  {
   "cell_type": "code",
   "execution_count": null,
   "id": "9dba9eeb",
   "metadata": {},
   "outputs": [],
   "source": []
  },
  {
   "cell_type": "code",
   "execution_count": null,
   "id": "c73977b6",
   "metadata": {},
   "outputs": [],
   "source": []
  },
  {
   "cell_type": "code",
   "execution_count": null,
   "id": "801f9f3e",
   "metadata": {},
   "outputs": [],
   "source": []
  },
  {
   "cell_type": "code",
   "execution_count": null,
   "id": "f6ccd45f",
   "metadata": {},
   "outputs": [],
   "source": []
  }
 ],
 "metadata": {
  "kernelspec": {
   "display_name": "Python 3 (ipykernel)",
   "language": "python",
   "name": "python3"
  },
  "language_info": {
   "codemirror_mode": {
    "name": "ipython",
    "version": 3
   },
   "file_extension": ".py",
   "mimetype": "text/x-python",
   "name": "python",
   "nbconvert_exporter": "python",
   "pygments_lexer": "ipython3",
   "version": "3.8.12"
  }
 },
 "nbformat": 4,
 "nbformat_minor": 5
}
