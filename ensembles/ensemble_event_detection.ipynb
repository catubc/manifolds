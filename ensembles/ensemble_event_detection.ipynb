{
 "cells": [
  {
   "cell_type": "code",
   "execution_count": 1,
   "metadata": {},
   "outputs": [
    {
     "data": {
      "application/javascript": [
       "IPython.notebook.set_autosave_interval(180000)"
      ]
     },
     "metadata": {},
     "output_type": "display_data"
    },
    {
     "name": "stdout",
     "output_type": "stream",
     "text": [
      "Autosaving every 180 seconds\n"
     ]
    },
    {
     "data": {
      "text/html": [
       "<style>.container { width:100% !important; }</style>"
      ],
      "text/plain": [
       "<IPython.core.display.HTML object>"
      ]
     },
     "metadata": {},
     "output_type": "display_data"
    }
   ],
   "source": [
    "import matplotlib\n",
    "%matplotlib tk\n",
    "%autosave 180\n",
    "%load_ext autoreload\n",
    "%autoreload 2\n",
    "\n",
    "import nest_asyncio\n",
    "%config Completer.use_jedi = False\n",
    "\n",
    "#\n",
    "import matplotlib.pyplot as plt\n",
    "from IPython.core.display import display, HTML\n",
    "display(HTML(\"<style>.container { width:100% !important; }</style>\"))\n",
    "\n",
    "import scipy\n",
    "import numpy as np\n",
    "import pandas as pd\n",
    "import os\n",
    "os.chdir('/home/cat/code/manifolds')\n",
    "\n",
    "from calcium import calcium\n",
    "from wheel import wheel\n",
    "from visualize import visualize\n",
    "from tqdm import trange\n",
    "\n",
    "\n",
    "import numpy as np\n",
    "import scipy\n",
    "from scipy.io import loadmat\n",
    "\n",
    "from tqdm import tqdm, trange"
   ]
  },
  {
   "cell_type": "code",
   "execution_count": 2,
   "metadata": {},
   "outputs": [],
   "source": [
    "######################################################\n",
    "######################################################\n",
    "######################################################\n",
    "\n",
    "# data = loadmat('/media/cat/4TBSSD/donato/HEX5_K5_medium__T1800s_dT500ms_cT1s_sKInf_eF10.0mHz_eM6_nS0/HEX5_K5_medium__T1800s_dT500ms_cT1s_sKInf_eF10.0mHz_eM6_nS0_ACTIVITY-RASTER_sums.mat')\n",
    "# print (len(data))\n",
    "\n",
    "# print (data.keys())\n",
    "# print (data['activity_raster'].shape)\n",
    "# print (data['activity_raster_threshold'].shape)\n",
    "# print (data['activity_raster_peaks'].shape)\n",
    "\n",
    "# ######################################################\n",
    "# ######################################################\n",
    "# ######################################################\n",
    "# peaks = data['activity_raster_peaks']\n",
    "# #print (peaks)\n",
    "# rasters = data['activity_raster']\n",
    "# print (\"rasters: \", rasters.shape)\n",
    "# sums = rasters.sum(axis=1)\n",
    "# sample_rate = 2.\n",
    "# t=np.arange(sums.shape[0])/sample_rate\n",
    "\n",
    "# ################################################\n",
    "# fig=plt.figure()\n",
    "# #\n",
    "# plt.plot(t, sums, c='black', label='mua')\n",
    "\n",
    "# #\n",
    "# sums_peaks = sums.copy()\n",
    "# sums_peaks = sums_peaks*np.nan\n",
    "# sums_peaks[peaks-1]= sums[peaks-1]\n",
    "\n",
    "# plt.scatter(t, \n",
    "#             sums_peaks,\n",
    "#         c='red', label = 'peaks for ensemble algorithm')\n",
    "# plt.plot(t, rasters[:,3]*20,c='blue', label='example bin neuron')\n",
    "# plt.legend()\n",
    "# plt.show()"
   ]
  },
  {
   "cell_type": "code",
   "execution_count": 3,
   "metadata": {},
   "outputs": [
    {
     "name": "stdout",
     "output_type": "stream",
     "text": [
      "(3716, 531)\n",
      "[[ 0.  0.  0. ...  0.  0.  0.]\n",
      " [ 0.  0.  0. ...  0.  0.  0.]\n",
      " [ 0.  0.  0. ...  0.  0.  0.]\n",
      " ...\n",
      " [ 0.  0.  0. ...  0.  5.  0.]\n",
      " [ 0.  0.  0. ...  0.  7.  0.]\n",
      " [ 0.  0.  0. ...  0. 11.  0.]]\n"
     ]
    }
   ],
   "source": [
    "##########################################################\n",
    "############ ALTERNATIVE: GET RASTERS FROM DF_F ##########\n",
    "##########################################################\n",
    "\n",
    "#rasters = np.load('/media/cat/4TBSSD/donato/HEX5_K5_medium__T1800s_dT500ms_cT1s_sKInf_eF10.0mHz_eM6_nS0/dF_F_binned_sum.npy')\n",
    "#rasters = np.load('/media/cat/4TBSSD/donato/HEX5_K5_medium__T1800s_dT500ms_cT1s_sKInf_eF10.0mHz_eM6_nS0/dF_F_binned_max.npy')\n",
    "#rasters = np.load('/media/cat/4TBSSD/donato/HEX5_K5_medium__T1800s_dT500ms_cT1s_sKInf_eF10.0mHz_eM6_nS0/dF_F_binned_mean.npy')\n",
    "rasters = np.load('/media/cat/4TBSSD/donato/upphase/F_upphase_binned_sum.npy')\n",
    "print (rasters.shape)\n",
    "print (rasters)\n",
    "\n",
    "plt.imshow(rasters.T,\n",
    "          aspect='auto',\n",
    "          #vmin=0,\n",
    "          #vmax=1\n",
    "           interpolation='none'\n",
    "          )\n",
    "plt.show()"
   ]
  },
  {
   "cell_type": "code",
   "execution_count": 4,
   "metadata": {},
   "outputs": [
    {
     "name": "stderr",
     "output_type": "stream",
     "text": [
      "  4%|▍         | 143/3716 [00:00<00:02, 1429.33it/s]"
     ]
    },
    {
     "name": "stdout",
     "output_type": "stream",
     "text": [
      "Zib:  (3716, 531)\n",
      "sigma:  (531,)\n",
      "means:  (531,)\n"
     ]
    },
    {
     "name": "stderr",
     "output_type": "stream",
     "text": [
      "100%|██████████| 3716/3716 [00:02<00:00, 1451.45it/s]\n"
     ]
    }
   ],
   "source": [
    "#######################################################\n",
    "################ Z-SCORE RASTERS ######################\n",
    "#######################################################\n",
    "Zib = np.zeros(rasters.shape)\n",
    "print (\"Zib: \", Zib.shape)\n",
    "\n",
    "# compute standard deviations\n",
    "sigma = np.std(rasters,axis=0)\n",
    "print (\"sigma: \", sigma.shape)\n",
    "\n",
    "# compute standard deviations\n",
    "means = np.mean(rasters,axis=0)\n",
    "print (\"means: \", means.shape)\n",
    "\n",
    "\n",
    "# \n",
    "for t in trange(Zib.shape[0]):\n",
    "    for c in range(Zib.shape[1]):\n",
    "        Zib[t,c]= (rasters[t,c]-means[c])/sigma[c]\n",
    "    \n",
    "\n"
   ]
  },
  {
   "cell_type": "code",
   "execution_count": 5,
   "metadata": {},
   "outputs": [
    {
     "name": "stdout",
     "output_type": "stream",
     "text": [
      "-0.2924512028694153 59.327293395996094\n"
     ]
    }
   ],
   "source": [
    "fig=plt.figure()\n",
    "ax=plt.subplot(2,1,1)\n",
    "plt.imshow(rasters.T,\n",
    "          aspect='auto',\n",
    "          extent=[0,rasters.shape[0]/2,0,rasters.shape[1]])\n",
    "plt.xticks([])\n",
    "plt.ylabel(\"Neuron ID\")\n",
    "plt.title(\"Raw rasters (sumed + binned to 2Hz)\")\n",
    "ax=plt.subplot(2,1,2)\n",
    "print (np.min(Zib), np.max(Zib))\n",
    "plt.title(\"Z scored rasters \")\n",
    "plt.imshow(Zib.T,\n",
    "           vmin=np.min(Zib),\n",
    "           vmax=8,\n",
    "           aspect='auto',\n",
    "           extent=[0,rasters.shape[0]/2,0,rasters.shape[1]])\n",
    "plt.ylabel(\"Neuron ID\")\n",
    "plt.xlabel(\"Time (sec)\")\n",
    "plt.show()\n",
    "\n",
    "fig = plt.figure()\n",
    "\n",
    "y = np.histogram(Zib.ravel(), bins=np.arange(1,25,1))\n",
    "plt.title(\"distribution of z-scored values \")\n",
    "plt.plot(y[1][:-1],\n",
    "        y[0])\n",
    "plt.semilogy()\n",
    "plt.show()"
   ]
  },
  {
   "cell_type": "code",
   "execution_count": 7,
   "metadata": {},
   "outputs": [
    {
     "name": "stdout",
     "output_type": "stream",
     "text": [
      "dict_keys(['__header__', '__version__', '__globals__', 'cs_assembly_vectors', 'cs_assemblies', 'ks_alpha', 'mp_assembly_vectors', 'mp_assemblies'])\n",
      "Cs:  (25,)\n",
      "mp:  (63,)\n"
     ]
    }
   ],
   "source": [
    "#######################################################\n",
    "################## LOAD ASSEMBLIES ####################\n",
    "#######################################################\n",
    "if True:\n",
    "#    data = loadmat('/media/cat/4TBSSD/donato/HEX5_K5_medium__T1800s_dT500ms_cT1s_sKInf_eF10.0mHz_eM6_nS0/HEX5_K5_medium__T1800s_dT500ms_cT1s_sKInf_eF10.0mHz_eM6_nS0_ICA-ASSEMBLIES.mat')\n",
    "    data = loadmat('/media/cat/4TBSSD/donato/upphase/F_upphase_binarized_sum.mat')\n",
    "    print (data.keys())\n",
    "    ens_mp = data['mp_assemblies'].squeeze()-1\n",
    "    ens_cs = data['cs_assemblies'].squeeze()-1\n",
    "\n",
    "    # \n",
    "    print (\"Cs: \", ens_cs.shape)\n",
    "    print (\"mp: \", ens_mp.shape)\n",
    "else:\n",
    "    data = loadmat('/media/cat/4TBSSD/donato/upphase/Upphase_SGC-ASSEMBLIES.mat')\n",
    "    print (data.keys())\n",
    "    assemblies = data['assemblies'].squeeze()-1\n",
    "    assembly_pattern_detection = data['assembly_pattern_detection'].squeeze()\n",
    "    \n",
    "    print (\"assembiles \", assemblies.shape)\n",
    "    print (\"assembly_pattern_detection: \", assembly_pattern_detection.shape)\n",
    "    \n",
    "    \n",
    "#\n",
    "w = np.zeros(rasters.shape[1])\n"
   ]
  },
  {
   "cell_type": "code",
   "execution_count": 18,
   "metadata": {
    "scrolled": true
   },
   "outputs": [
    {
     "name": "stderr",
     "output_type": "stream",
     "text": [
      "100%|██████████| 3716/3716 [00:00<00:00, 9748.82it/s]\n",
      "100%|██████████| 3716/3716 [00:00<00:00, 8738.57it/s]\n",
      "100%|██████████| 3716/3716 [00:00<00:00, 12119.39it/s]\n",
      "100%|██████████| 3716/3716 [00:00<00:00, 15591.90it/s]\n",
      "100%|██████████| 3716/3716 [00:00<00:00, 13293.43it/s]\n",
      "100%|██████████| 3716/3716 [00:00<00:00, 13434.78it/s]\n",
      "100%|██████████| 3716/3716 [00:00<00:00, 16104.02it/s]\n",
      "100%|██████████| 3716/3716 [00:00<00:00, 13955.33it/s]\n",
      "100%|██████████| 3716/3716 [00:00<00:00, 13974.73it/s]\n",
      "100%|██████████| 3716/3716 [00:00<00:00, 14345.86it/s]\n",
      "100%|██████████| 3716/3716 [00:00<00:00, 14888.22it/s]\n",
      "100%|██████████| 3716/3716 [00:00<00:00, 13463.29it/s]\n",
      "100%|██████████| 3716/3716 [00:00<00:00, 13094.98it/s]\n",
      "100%|██████████| 3716/3716 [00:00<00:00, 13783.12it/s]\n",
      "100%|██████████| 3716/3716 [00:00<00:00, 15727.28it/s]\n",
      "100%|██████████| 3716/3716 [00:00<00:00, 13966.93it/s]\n",
      "100%|██████████| 3716/3716 [00:00<00:00, 13773.14it/s]\n",
      "100%|██████████| 3716/3716 [00:00<00:00, 13756.44it/s]\n",
      "100%|██████████| 3716/3716 [00:00<00:00, 15155.54it/s]\n",
      "100%|██████████| 3716/3716 [00:00<00:00, 14243.64it/s]\n",
      "100%|██████████| 3716/3716 [00:00<00:00, 13791.88it/s]\n",
      "100%|██████████| 3716/3716 [00:00<00:00, 13619.77it/s]\n",
      "100%|██████████| 3716/3716 [00:00<00:00, 14573.46it/s]\n",
      "100%|██████████| 3716/3716 [00:00<00:00, 13336.26it/s]\n",
      "100%|██████████| 3716/3716 [00:00<00:00, 16181.08it/s]\n"
     ]
    }
   ],
   "source": [
    "######################################################\n",
    "######### MAKE OUTER PRODUCT AND PROJECTION ##########\n",
    "######################################################\n",
    "#selected_ensemble = assemblies.copy()\n",
    "selected_ensemble = ens_cs.copy()\n",
    "ensemble_ids = np.arange(selected_ensemble.shape[0])\n",
    "\n",
    "\n",
    "#\n",
    "times=np.arange(rasters.shape[0])/2.\n",
    "#\n",
    "ctr=0\n",
    "fig=plt.figure()\n",
    "ensemble_times = []\n",
    "ensemble_stacks = []\n",
    "\n",
    "# \n",
    "thresh = 0\n",
    "for ensemble_id in ensemble_ids:\n",
    "    w = np.zeros(rasters.shape[1])\n",
    "    idx = selected_ensemble[ensemble_id].squeeze()\n",
    "    #print (idx)\n",
    "    w[idx] = 1\n",
    "\n",
    "    W = np.outer(w,w)\n",
    "    \n",
    "    #\n",
    "    f = np.zeros(Zib.shape[0])\n",
    "    s = np.zeros(Zib.shape)\n",
    "    for t in trange(Zib.shape[0]):\n",
    "        temp1 = np.matmul(Zib[t].T,W)\n",
    "        temp2 = np.matmul(temp1,Zib[t])\n",
    "        f[t]=temp2\n",
    "        \n",
    "        #\n",
    "        for i in idx:\n",
    "            if Zib[t,i]>=thresh:\n",
    "                s[t,i]=1\n",
    "            \n",
    "    #\n",
    "    ensemble_times.append(f)\n",
    "    ensemble_stacks.append(s)\n",
    "    \n",
    "    # \n",
    "    #times = np.log(f+1E-5)\n",
    "    if True:\n",
    "        plt.plot(times,f+ctr*10000)\n",
    "    else:\n",
    "        plt.plot(times, np.log(f+0.0001)+ctr*25)\n",
    "    plt.xlabel(\"Time (sec)\")\n",
    "    plt.ylabel(\"Ensemble ID\")\n",
    "    \n",
    "    ctr+=1\n",
    "\n",
    "#\n",
    "ticks1 = np.arange(0, 10000*ctr, 10000)\n",
    "ticks2 = np.arange(len(ensemble_ids))\n",
    "    \n",
    "ensemble_times = np.stack(ensemble_times)\n",
    "plt.yticks(ticks1, ticks2)\n",
    "plt.show()\n"
   ]
  },
  {
   "cell_type": "code",
   "execution_count": 77,
   "metadata": {
    "scrolled": true
   },
   "outputs": [
    {
     "name": "stdout",
     "output_type": "stream",
     "text": [
      "[   0    1    2 ... 3713 3714 3715]\n",
      "(2349, 531)\n"
     ]
    }
   ],
   "source": [
    "######################################################\n",
    "################## LOOK AT EACH ######################\n",
    "######################################################\n",
    "id_ = 0\n",
    "sample_rate=2\n",
    "\n",
    "######################\n",
    "fig=plt.figure()\n",
    "ax=plt.subplot(3,1,1)\n",
    "e = ensemble_times[id_]\n",
    "plt.plot(times,e)\n",
    "\n",
    "# \n",
    "plt.xlim(0,e.shape[0]/sample_rate)\n",
    "plt.title(\"Ensemble: \"+str(id_))\n",
    "plt.ylabel(\"Ensemble presence (projection)\")\n",
    "plt.ylim(0,10000)\n",
    "\n",
    "\n",
    "##################\n",
    "ax=plt.subplot(3,1,2)\n",
    "ee = ensemble_stacks[id_]\n",
    "plt.imshow(ee.T,\n",
    "          aspect='auto',\n",
    "          interpolation='none',\n",
    "          extent=[0,ee.shape[0]/sample_rate, 0,ee.shape[1]])\n",
    "plt.xlabel(\"Time (sec)\")\n",
    "plt.ylabel(\"Neuron ID\")\n",
    "\n",
    "##################\n",
    "ax=plt.subplot(3,1,3)\n",
    "ee = ensemble_stacks[id_]\n",
    "sums2 = ee.sum(axis=1)\n",
    "idx = np.where(sums2>0)[0]\n",
    "print (idx)\n",
    "temp = rasters[idx]\n",
    "print (temp.shape)\n",
    "plt.imshow(temp,\n",
    "          aspect='auto',\n",
    "          interpolation='none',\n",
    "          extent=[0,temp.shape[0]/sample_rate, \n",
    "                  0,temp.shape[1]]\n",
    "          )\n",
    "plt.xlabel(\"Time - discontinuous (sec)\")\n",
    "plt.ylabel(\"Removed zero-activity frames\\nNeuron ID\")\n",
    "\n",
    "plt.show()\n"
   ]
  },
  {
   "cell_type": "code",
   "execution_count": 93,
   "metadata": {},
   "outputs": [
    {
     "name": "stdout",
     "output_type": "stream",
     "text": [
      "\n",
      "\n",
      "(531, 55740)\n"
     ]
    }
   ],
   "source": [
    "##################################################\n",
    "################ LOAD FOOTPRINTS #################\n",
    "##################################################\n",
    "root_dir = '/media/cat/4TBSSD/donato/binarized_traces/'\n",
    "animal_id = ''\n",
    "session = ''\n",
    "\n",
    "#\n",
    "c = calcium.Calcium()\n",
    "c.animal_id = animal_id\n",
    "c.root_dir = root_dir\n",
    "c.session = session\n",
    "c.recompute = False\n",
    "c.load_suite2p()\n",
    "\n",
    "#\n",
    "c.load_binarization()\n",
    "\n",
    "# \n",
    "c.load_footprints()\n"
   ]
  },
  {
   "cell_type": "code",
   "execution_count": 95,
   "metadata": {},
   "outputs": [
    {
     "name": "stdout",
     "output_type": "stream",
     "text": [
      "ensemble stack:  (8, 3716)\n",
      "# of occurances: of ensemble over threshold (3366,)\n",
      "norms:  (531,) Zib:  (3716, 531)\n",
      "ensemble stack:  (8, 3716)\n",
      "# of occurances: of ensemble over threshold (2908,)\n",
      "norms:  (531,) Zib:  (3716, 531)\n",
      "ensemble stack:  (8, 3716)\n",
      "# of occurances: of ensemble over threshold (3128,)\n",
      "norms:  (531,) Zib:  (3716, 531)\n",
      "ensemble stack:  (8, 3716)\n",
      "# of occurances: of ensemble over threshold (3176,)\n",
      "norms:  (531,) Zib:  (3716, 531)\n",
      "ensemble stack:  (8, 3716)\n",
      "# of occurances: of ensemble over threshold (3225,)\n",
      "norms:  (531,) Zib:  (3716, 531)\n",
      "ensemble stack:  (8, 3716)\n",
      "# of occurances: of ensemble over threshold (2563,)\n",
      "norms:  (531,) Zib:  (3716, 531)\n",
      "ensemble stack:  (8, 3716)\n",
      "# of occurances: of ensemble over threshold (3130,)\n",
      "norms:  (531,) Zib:  (3716, 531)\n",
      "ensemble stack:  (8, 3716)\n",
      "# of occurances: of ensemble over threshold (3253,)\n",
      "norms:  (531,) Zib:  (3716, 531)\n"
     ]
    }
   ],
   "source": [
    "######################################################\n",
    "################ VISUALIZE ENSEMBLES #################\n",
    "######################################################\n",
    "selected_ensemble = ens_cs.copy()\n",
    "ensemble_ids = np.arange(selected_ensemble.shape[0])\n",
    "\n",
    "ensemble_ids = np.arange(8)\n",
    "cmap = plt.get_cmap(\"viridis\", Zib.shape[1])\n",
    "\n",
    "fig=plt.figure()\n",
    "\n",
    "ctr2=0\n",
    "for ensemble_id in ensemble_ids:\n",
    "    ax=plt.subplot(3,3,ctr2+1)\n",
    "    print (\"ensemble stack: \", ensemble_times.shape) \n",
    "    ens_times = ensemble_times[ensemble_id]\n",
    "    #print (ens_times.shape)\n",
    "\n",
    "    idx = np.where(ens_times>50)[0]\n",
    "    print (\"# of occurances: of ensemble over threshold\", idx.shape)\n",
    "\n",
    "    # \n",
    "    norms = np.zeros(Zib.shape[1])\n",
    "    print (\"norms: \", norms.shape, \"Zib: \", Zib.shape)\n",
    "\n",
    "    # \n",
    "    for ctr,i in enumerate(idx):\n",
    "        activity = Zib[i]\n",
    "        idx2 = np.where(activity>0)[0]\n",
    "        norms[idx2]+=1\n",
    "\n",
    "    norms = (norms-np.min(norms))/(np.max(norms)-np.min(norms))\n",
    "\n",
    "    # \n",
    "    for n in range(Zib.shape[1]):\n",
    "\n",
    "        plt.plot(c.contours[n][:,0],\n",
    "                 c.contours[n][:,1],\n",
    "                 #color=cmap(n),\n",
    "                 c='black',\n",
    "                 linewidth=3,\n",
    "                 alpha=norms[n]\n",
    "                )\n",
    "    plt.xlim(0,512)\n",
    "    plt.ylim(0,512)\n",
    "    ctr2+=1\n",
    "    \n",
    "plt.show()\n"
   ]
  },
  {
   "cell_type": "code",
   "execution_count": 48,
   "metadata": {},
   "outputs": [
    {
     "name": "stdout",
     "output_type": "stream",
     "text": [
      "ensemble stack:  (25, 3716)\n",
      "(3716,)\n",
      "(86,)\n"
     ]
    },
    {
     "ename": "ValueError",
     "evalue": "num must be 1 <= num <= 40, not 41",
     "output_type": "error",
     "traceback": [
      "\u001b[0;31m---------------------------------------------------------------------------\u001b[0m",
      "\u001b[0;31mValueError\u001b[0m                                Traceback (most recent call last)",
      "\u001b[0;32m<ipython-input-48-2319a902f237>\u001b[0m in \u001b[0;36m<module>\u001b[0;34m\u001b[0m\n\u001b[1;32m     16\u001b[0m \u001b[0;34m\u001b[0m\u001b[0m\n\u001b[1;32m     17\u001b[0m \u001b[0;32mfor\u001b[0m \u001b[0mctr\u001b[0m\u001b[0;34m,\u001b[0m\u001b[0mi\u001b[0m \u001b[0;32min\u001b[0m \u001b[0menumerate\u001b[0m\u001b[0;34m(\u001b[0m\u001b[0midx\u001b[0m\u001b[0;34m)\u001b[0m\u001b[0;34m:\u001b[0m\u001b[0;34m\u001b[0m\u001b[0;34m\u001b[0m\u001b[0m\n\u001b[0;32m---> 18\u001b[0;31m     \u001b[0max\u001b[0m\u001b[0;34m=\u001b[0m\u001b[0mplt\u001b[0m\u001b[0;34m.\u001b[0m\u001b[0msubplot\u001b[0m\u001b[0;34m(\u001b[0m\u001b[0;36m5\u001b[0m\u001b[0;34m,\u001b[0m\u001b[0;36m8\u001b[0m\u001b[0;34m,\u001b[0m\u001b[0mctr\u001b[0m\u001b[0;34m+\u001b[0m\u001b[0;36m1\u001b[0m\u001b[0;34m)\u001b[0m\u001b[0;34m\u001b[0m\u001b[0;34m\u001b[0m\u001b[0m\n\u001b[0m\u001b[1;32m     19\u001b[0m     \u001b[0mactivity\u001b[0m \u001b[0;34m=\u001b[0m \u001b[0mc\u001b[0m\u001b[0;34m.\u001b[0m\u001b[0mF_upphase_bin\u001b[0m\u001b[0;34m[\u001b[0m\u001b[0;34m:\u001b[0m\u001b[0;34m,\u001b[0m\u001b[0mi\u001b[0m\u001b[0;34m]\u001b[0m\u001b[0;34m\u001b[0m\u001b[0;34m\u001b[0m\u001b[0m\n\u001b[1;32m     20\u001b[0m \u001b[0;34m\u001b[0m\u001b[0m\n",
      "\u001b[0;32m/media/cat/4TBSSD/anaconda3/lib/python3.8/site-packages/matplotlib/pyplot.py\u001b[0m in \u001b[0;36msubplot\u001b[0;34m(*args, **kwargs)\u001b[0m\n\u001b[1;32m   1140\u001b[0m \u001b[0;34m\u001b[0m\u001b[0m\n\u001b[1;32m   1141\u001b[0m     \u001b[0mfig\u001b[0m \u001b[0;34m=\u001b[0m \u001b[0mgcf\u001b[0m\u001b[0;34m(\u001b[0m\u001b[0;34m)\u001b[0m\u001b[0;34m\u001b[0m\u001b[0;34m\u001b[0m\u001b[0m\n\u001b[0;32m-> 1142\u001b[0;31m     \u001b[0max\u001b[0m \u001b[0;34m=\u001b[0m \u001b[0mfig\u001b[0m\u001b[0;34m.\u001b[0m\u001b[0madd_subplot\u001b[0m\u001b[0;34m(\u001b[0m\u001b[0;34m*\u001b[0m\u001b[0margs\u001b[0m\u001b[0;34m,\u001b[0m \u001b[0;34m**\u001b[0m\u001b[0mkwargs\u001b[0m\u001b[0;34m)\u001b[0m\u001b[0;34m\u001b[0m\u001b[0;34m\u001b[0m\u001b[0m\n\u001b[0m\u001b[1;32m   1143\u001b[0m     \u001b[0mbbox\u001b[0m \u001b[0;34m=\u001b[0m \u001b[0max\u001b[0m\u001b[0;34m.\u001b[0m\u001b[0mbbox\u001b[0m\u001b[0;34m\u001b[0m\u001b[0;34m\u001b[0m\u001b[0m\n\u001b[1;32m   1144\u001b[0m     \u001b[0maxes_to_delete\u001b[0m \u001b[0;34m=\u001b[0m \u001b[0;34m[\u001b[0m\u001b[0;34m]\u001b[0m\u001b[0;34m\u001b[0m\u001b[0;34m\u001b[0m\u001b[0m\n",
      "\u001b[0;32m/media/cat/4TBSSD/anaconda3/lib/python3.8/site-packages/matplotlib/figure.py\u001b[0m in \u001b[0;36madd_subplot\u001b[0;34m(self, *args, **kwargs)\u001b[0m\n\u001b[1;32m   1400\u001b[0m                     \u001b[0;31m# more similar to add_axes.\u001b[0m\u001b[0;34m\u001b[0m\u001b[0;34m\u001b[0m\u001b[0;34m\u001b[0m\u001b[0m\n\u001b[1;32m   1401\u001b[0m                     \u001b[0mself\u001b[0m\u001b[0;34m.\u001b[0m\u001b[0m_axstack\u001b[0m\u001b[0;34m.\u001b[0m\u001b[0mremove\u001b[0m\u001b[0;34m(\u001b[0m\u001b[0max\u001b[0m\u001b[0;34m)\u001b[0m\u001b[0;34m\u001b[0m\u001b[0;34m\u001b[0m\u001b[0m\n\u001b[0;32m-> 1402\u001b[0;31m             \u001b[0max\u001b[0m \u001b[0;34m=\u001b[0m \u001b[0msubplot_class_factory\u001b[0m\u001b[0;34m(\u001b[0m\u001b[0mprojection_class\u001b[0m\u001b[0;34m)\u001b[0m\u001b[0;34m(\u001b[0m\u001b[0mself\u001b[0m\u001b[0;34m,\u001b[0m \u001b[0;34m*\u001b[0m\u001b[0margs\u001b[0m\u001b[0;34m,\u001b[0m \u001b[0;34m**\u001b[0m\u001b[0mkwargs\u001b[0m\u001b[0;34m)\u001b[0m\u001b[0;34m\u001b[0m\u001b[0;34m\u001b[0m\u001b[0m\n\u001b[0m\u001b[1;32m   1403\u001b[0m \u001b[0;34m\u001b[0m\u001b[0m\n\u001b[1;32m   1404\u001b[0m         \u001b[0;32mreturn\u001b[0m \u001b[0mself\u001b[0m\u001b[0;34m.\u001b[0m\u001b[0m_add_axes_internal\u001b[0m\u001b[0;34m(\u001b[0m\u001b[0mkey\u001b[0m\u001b[0;34m,\u001b[0m \u001b[0max\u001b[0m\u001b[0;34m)\u001b[0m\u001b[0;34m\u001b[0m\u001b[0;34m\u001b[0m\u001b[0m\n",
      "\u001b[0;32m/media/cat/4TBSSD/anaconda3/lib/python3.8/site-packages/matplotlib/axes/_subplots.py\u001b[0m in \u001b[0;36m__init__\u001b[0;34m(self, fig, *args, **kwargs)\u001b[0m\n\u001b[1;32m     37\u001b[0m \u001b[0;34m\u001b[0m\u001b[0m\n\u001b[1;32m     38\u001b[0m         \u001b[0mself\u001b[0m\u001b[0;34m.\u001b[0m\u001b[0mfigure\u001b[0m \u001b[0;34m=\u001b[0m \u001b[0mfig\u001b[0m\u001b[0;34m\u001b[0m\u001b[0;34m\u001b[0m\u001b[0m\n\u001b[0;32m---> 39\u001b[0;31m         \u001b[0mself\u001b[0m\u001b[0;34m.\u001b[0m\u001b[0m_subplotspec\u001b[0m \u001b[0;34m=\u001b[0m \u001b[0mSubplotSpec\u001b[0m\u001b[0;34m.\u001b[0m\u001b[0m_from_subplot_args\u001b[0m\u001b[0;34m(\u001b[0m\u001b[0mfig\u001b[0m\u001b[0;34m,\u001b[0m \u001b[0margs\u001b[0m\u001b[0;34m)\u001b[0m\u001b[0;34m\u001b[0m\u001b[0;34m\u001b[0m\u001b[0m\n\u001b[0m\u001b[1;32m     40\u001b[0m         \u001b[0mself\u001b[0m\u001b[0;34m.\u001b[0m\u001b[0mupdate_params\u001b[0m\u001b[0;34m(\u001b[0m\u001b[0;34m)\u001b[0m\u001b[0;34m\u001b[0m\u001b[0;34m\u001b[0m\u001b[0m\n\u001b[1;32m     41\u001b[0m         \u001b[0;31m# _axes_class is set in the subplot_class_factory\u001b[0m\u001b[0;34m\u001b[0m\u001b[0;34m\u001b[0m\u001b[0;34m\u001b[0m\u001b[0m\n",
      "\u001b[0;32m/media/cat/4TBSSD/anaconda3/lib/python3.8/site-packages/matplotlib/gridspec.py\u001b[0m in \u001b[0;36m_from_subplot_args\u001b[0;34m(figure, args)\u001b[0m\n\u001b[1;32m    687\u001b[0m                     \u001b[0mnum\u001b[0m \u001b[0;34m=\u001b[0m \u001b[0mint\u001b[0m\u001b[0;34m(\u001b[0m\u001b[0mnum\u001b[0m\u001b[0;34m)\u001b[0m\u001b[0;34m\u001b[0m\u001b[0;34m\u001b[0m\u001b[0m\n\u001b[1;32m    688\u001b[0m                 \u001b[0;32mif\u001b[0m \u001b[0mnum\u001b[0m \u001b[0;34m<\u001b[0m \u001b[0;36m1\u001b[0m \u001b[0;32mor\u001b[0m \u001b[0mnum\u001b[0m \u001b[0;34m>\u001b[0m \u001b[0mrows\u001b[0m\u001b[0;34m*\u001b[0m\u001b[0mcols\u001b[0m\u001b[0;34m:\u001b[0m\u001b[0;34m\u001b[0m\u001b[0;34m\u001b[0m\u001b[0m\n\u001b[0;32m--> 689\u001b[0;31m                     raise ValueError(\n\u001b[0m\u001b[1;32m    690\u001b[0m                         f\"num must be 1 <= num <= {rows*cols}, not {num}\")\n\u001b[1;32m    691\u001b[0m                 \u001b[0;32mreturn\u001b[0m \u001b[0mgs\u001b[0m\u001b[0;34m[\u001b[0m\u001b[0mnum\u001b[0m \u001b[0;34m-\u001b[0m \u001b[0;36m1\u001b[0m\u001b[0;34m]\u001b[0m   \u001b[0;31m# -1 due to MATLAB indexing.\u001b[0m\u001b[0;34m\u001b[0m\u001b[0;34m\u001b[0m\u001b[0m\n",
      "\u001b[0;31mValueError\u001b[0m: num must be 1 <= num <= 40, not 41"
     ]
    }
   ],
   "source": [
    "######################################################\n",
    "############# VISUALIZE ENSEMBLES OVER TIME ##########\n",
    "######################################################\n",
    "selected_ensemble = ens_cs.copy()\n",
    "ensemble_ids = np.arange(selected_ensemble.shape[0])\n",
    "\n",
    "ensemble_id = 1\n",
    "print (\"ensemble stack: \", ensemble_times.shape) \n",
    "ens_times = ensemble_times[ensemble_id]\n",
    "print (ens_times.shape)\n",
    "\n",
    "idx = np.where(ens_times>1000)[0]\n",
    "print (idx.shape)\n",
    "\n",
    "cmap = plt.get_cmap(\"viridis\", 531)\n",
    "\n",
    "for ctr,i in enumerate(idx):\n",
    "    ax=plt.subplot(5,8,ctr+1)\n",
    "    activity = c.F_upphase_bin[:,i]\n",
    "    \n",
    "    idx2 = np.where(activity>0)[0]\n",
    "    #print (\"idx2: \", idx2)\n",
    "    for n in idx2:\n",
    "        plt.plot(c.contours[n][:,0],\n",
    "                 c.contours[n][:,1],\n",
    "                 color=cmap(n),\n",
    "                )\n",
    "    plt.xlim(0,512)\n",
    "    plt.ylim(0,512)\n",
    "    plt.title(str(i))\n",
    "plt.show()\n",
    "\n",
    "        "
   ]
  },
  {
   "cell_type": "code",
   "execution_count": null,
   "metadata": {},
   "outputs": [],
   "source": []
  },
  {
   "cell_type": "code",
   "execution_count": null,
   "metadata": {},
   "outputs": [],
   "source": []
  },
  {
   "cell_type": "code",
   "execution_count": null,
   "metadata": {},
   "outputs": [],
   "source": []
  },
  {
   "cell_type": "code",
   "execution_count": null,
   "metadata": {},
   "outputs": [],
   "source": []
  },
  {
   "cell_type": "code",
   "execution_count": null,
   "metadata": {},
   "outputs": [],
   "source": []
  },
  {
   "cell_type": "code",
   "execution_count": null,
   "metadata": {},
   "outputs": [],
   "source": []
  },
  {
   "cell_type": "code",
   "execution_count": null,
   "metadata": {},
   "outputs": [],
   "source": []
  },
  {
   "cell_type": "code",
   "execution_count": null,
   "metadata": {},
   "outputs": [],
   "source": []
  },
  {
   "cell_type": "code",
   "execution_count": null,
   "metadata": {},
   "outputs": [],
   "source": []
  }
 ],
 "metadata": {
  "kernelspec": {
   "display_name": "Python 3",
   "language": "python",
   "name": "python3"
  },
  "language_info": {
   "codemirror_mode": {
    "name": "ipython",
    "version": 3
   },
   "file_extension": ".py",
   "mimetype": "text/x-python",
   "name": "python",
   "nbconvert_exporter": "python",
   "pygments_lexer": "ipython3",
   "version": "3.8.5"
  }
 },
 "nbformat": 4,
 "nbformat_minor": 4
}
