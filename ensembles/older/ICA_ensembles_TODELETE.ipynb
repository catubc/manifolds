{
 "cells": [
  {
   "cell_type": "code",
   "execution_count": 2,
   "id": "cee3072a",
   "metadata": {},
   "outputs": [
    {
     "data": {
      "application/javascript": [
       "IPython.notebook.set_autosave_interval(180000)"
      ]
     },
     "metadata": {},
     "output_type": "display_data"
    },
    {
     "name": "stdout",
     "output_type": "stream",
     "text": [
      "Autosaving every 180 seconds\n"
     ]
    },
    {
     "data": {
      "text/html": [
       "<style>.container { width:100% !important; }</style>"
      ],
      "text/plain": [
       "<IPython.core.display.HTML object>"
      ]
     },
     "metadata": {},
     "output_type": "display_data"
    }
   ],
   "source": [
    "import matplotlib\n",
    "%matplotlib tk\n",
    "%autosave 180\n",
    "%load_ext autoreload\n",
    "%autoreload 2\n",
    "\n",
    "import nest_asyncio\n",
    "%config Completer.use_jedi = False\n",
    "\n",
    "import os\n",
    "os.chdir('/home/cat/code/manifolds/')\n",
    "\n",
    "#\n",
    "import matplotlib.pyplot as plt\n",
    "from IPython.core.display import display, HTML\n",
    "display(HTML(\"<style>.container { width:100% !important; }</style>\"))\n",
    "\n",
    "import scipy\n",
    "import numpy as np\n",
    "import pandas as pd\n",
    "\n",
    "from calcium import calcium\n",
    "from wheel import wheel\n",
    "from visualize import visualize\n",
    "from tqdm import trange, tqdm\n",
    "\n",
    "from scipy.io import loadmat\n",
    "\n",
    "import plotly.express as px\n",
    "from plotly.subplots import make_subplots\n",
    "import plotly.graph_objects as go\n",
    "from scipy.spatial import ConvexHull, convex_hull_plot_2d\n",
    "\n",
    "# \n",
    "np.set_printoptions(suppress=True)\n"
   ]
  },
  {
   "cell_type": "code",
   "execution_count": 5,
   "id": "f1758485",
   "metadata": {},
   "outputs": [
    {
     "name": "stdout",
     "output_type": "stream",
     "text": [
      "\n",
      "\n",
      "(531, 55740)\n",
      "binarized data:  (531, 55740)\n",
      "dict_keys(['__header__', '__version__', '__globals__', 'cs_assembly_vectors', 'cs_assemblies', 'ks_alpha', 'mp_assembly_vectors', 'mp_assemblies'])\n"
     ]
    }
   ],
   "source": [
    "############################################\n",
    "################ LOAD DATA #################\n",
    "############################################\n",
    "root_dir = '/media/cat/4TB/donato/'\n",
    "animal_id = 'DON-006084'\n",
    "session = '20210519'\n",
    "\n",
    "binarization_method='upphase'\n",
    "\n",
    "#\n",
    "c = calcium.Calcium()\n",
    "c.root_dir = root_dir\n",
    "c.animal_id = animal_id\n",
    "c.session = session\n",
    "c.load_suite2p()\n",
    "\n",
    "# \n",
    "c.load_binarization()\n",
    "if binarization_method=='onphase':\n",
    "    traces = c.F_onphase_bin\n",
    "elif binarization_method=='upphase':\n",
    "    traces = c.F_upphase_bin\n",
    "else:\n",
    "    print (\"METHOD NOT FOUND\")\n",
    "\n",
    "\n",
    "c.load_footprints()\n",
    "    \n",
    "print (\"binarized data: \", traces.shape)\n",
    "\n",
    "w = wheel.Wheel()\n",
    "w.root_dir = os.path.join(root_dir,\n",
    "                          animal_id,\n",
    "                          session,\n",
    "                          'TRD-2P')\n",
    "w.animal_id = animal_id\n",
    "w.session = session\n",
    "w.load_track()\n",
    "w.compute_velocity()\n",
    "\n",
    "\n",
    "# \n",
    "ensembles = scipy.io.loadmat('/media/cat/4TB/donato/DON-006084/20210519/suite2p/plane0/ensembles/Upphase_sum_binned_ICA-ASSEMBLIES.mat')\n",
    "print (ensembles.keys())\n",
    "\n"
   ]
  },
  {
   "cell_type": "code",
   "execution_count": 8,
   "id": "d8573745",
   "metadata": {},
   "outputs": [
    {
     "name": "stdout",
     "output_type": "stream",
     "text": [
      "# ensembles:  (25, 1)\n",
      "(531,)\n"
     ]
    }
   ],
   "source": [
    "###########################################################\n",
    "###########################################################\n",
    "###########################################################\n",
    "states = ensembles['cs_assemblies']\n",
    "#states = ensembles['assemblies']\n",
    "print (\"# ensembles: \", states.shape)\n",
    "\n",
    "# \n",
    "# enumerate post-cleaned cells\n",
    "all_cells = np.arange(c.F.shape[0])\n",
    "\n",
    "# find which cells are good \n",
    "idx2 = np.where(c.iscell[:,0])[0]\n",
    "print (idx2.shape)\n",
    "fig=plt.figure(figsize=(20,20))\n",
    "for k in range(len(states)):\n",
    "    ax=plt.subplot(5,5,k+1)\n",
    "    #ax=plt.subplot(3,3,k+1)\n",
    "    idx_state = states[k][0].squeeze()\n",
    "       \n",
    "    # find which states\n",
    "    idx_good = []\n",
    "    for id_ in idx_state:\n",
    "        if id_ in idx2:\n",
    "            idx_good.append(id_)\n",
    "           \n",
    "    #print (idx_good)\n",
    "\n",
    "    #\n",
    "    final_ids = []\n",
    "    for p in range(len(idx_good)):\n",
    "        temp = idx_good[p]\n",
    "        idx4 = np.where(idx2==temp)[0]\n",
    "        final_ids.append(idx4)\n",
    "        p#rint (temp, idx4)\n",
    "    final_ids = np.hstack(final_ids)\n",
    "    \n",
    "    # \n",
    "    for id2 in final_ids:\n",
    "        contour = c.get_footprint_contour(id2)\n",
    "        plt.plot(contour[:,1],\n",
    "                contour[:,0],\n",
    "                c='black')\n",
    "    plt.xlim(0,512)\n",
    "    plt.ylim(0,512)\n",
    "    plt.xticks([])\n",
    "    plt.yticks([])\n",
    "    plt.ylabel(str(k) + \", \"+str(len(final_ids)))\n",
    "    \n",
    "if False:\n",
    "    plt.savefig('/home/cat/ica_ensembles.svg')\n",
    "    plt.close()\n",
    "else:\n",
    "    plt.show()"
   ]
  },
  {
   "cell_type": "code",
   "execution_count": null,
   "id": "f9ebae10",
   "metadata": {},
   "outputs": [],
   "source": []
  },
  {
   "cell_type": "code",
   "execution_count": null,
   "id": "bdaa06a1",
   "metadata": {},
   "outputs": [],
   "source": []
  },
  {
   "cell_type": "code",
   "execution_count": null,
   "id": "ccce213d",
   "metadata": {},
   "outputs": [],
   "source": []
  },
  {
   "cell_type": "code",
   "execution_count": null,
   "id": "6f7ccf0c",
   "metadata": {},
   "outputs": [],
   "source": []
  },
  {
   "cell_type": "code",
   "execution_count": null,
   "id": "94e8ff0d",
   "metadata": {},
   "outputs": [],
   "source": []
  },
  {
   "cell_type": "code",
   "execution_count": null,
   "id": "64d32e73",
   "metadata": {},
   "outputs": [],
   "source": []
  },
  {
   "cell_type": "code",
   "execution_count": null,
   "id": "4b9fe198",
   "metadata": {},
   "outputs": [],
   "source": []
  },
  {
   "cell_type": "code",
   "execution_count": null,
   "id": "1aa00b43",
   "metadata": {},
   "outputs": [],
   "source": []
  },
  {
   "cell_type": "code",
   "execution_count": null,
   "id": "f0fa1bfb",
   "metadata": {},
   "outputs": [],
   "source": []
  },
  {
   "cell_type": "code",
   "execution_count": null,
   "id": "bbeabfc7",
   "metadata": {},
   "outputs": [],
   "source": []
  },
  {
   "cell_type": "code",
   "execution_count": null,
   "id": "938936f0",
   "metadata": {},
   "outputs": [],
   "source": []
  },
  {
   "cell_type": "code",
   "execution_count": null,
   "id": "f827485a",
   "metadata": {},
   "outputs": [],
   "source": []
  },
  {
   "cell_type": "code",
   "execution_count": null,
   "id": "872545f9",
   "metadata": {},
   "outputs": [],
   "source": []
  },
  {
   "cell_type": "code",
   "execution_count": null,
   "id": "9cb223ca",
   "metadata": {},
   "outputs": [],
   "source": []
  },
  {
   "cell_type": "code",
   "execution_count": null,
   "id": "5ccf1acd",
   "metadata": {},
   "outputs": [],
   "source": []
  },
  {
   "cell_type": "code",
   "execution_count": null,
   "id": "b4f0e48e",
   "metadata": {},
   "outputs": [],
   "source": []
  },
  {
   "cell_type": "code",
   "execution_count": null,
   "id": "7642b987",
   "metadata": {},
   "outputs": [],
   "source": []
  },
  {
   "cell_type": "code",
   "execution_count": null,
   "id": "8e4a6102",
   "metadata": {},
   "outputs": [],
   "source": []
  },
  {
   "cell_type": "code",
   "execution_count": null,
   "id": "100d31ef",
   "metadata": {},
   "outputs": [],
   "source": []
  },
  {
   "cell_type": "code",
   "execution_count": null,
   "id": "0aaeb4d2",
   "metadata": {},
   "outputs": [],
   "source": []
  },
  {
   "cell_type": "code",
   "execution_count": null,
   "id": "238940ad",
   "metadata": {},
   "outputs": [],
   "source": []
  },
  {
   "cell_type": "code",
   "execution_count": null,
   "id": "00a92ea6",
   "metadata": {},
   "outputs": [],
   "source": []
  },
  {
   "cell_type": "code",
   "execution_count": null,
   "id": "f3b8b89a",
   "metadata": {},
   "outputs": [],
   "source": []
  }
 ],
 "metadata": {
  "kernelspec": {
   "display_name": "Python 3 (ipykernel)",
   "language": "python",
   "name": "python3"
  },
  "language_info": {
   "codemirror_mode": {
    "name": "ipython",
    "version": 3
   },
   "file_extension": ".py",
   "mimetype": "text/x-python",
   "name": "python",
   "nbconvert_exporter": "python",
   "pygments_lexer": "ipython3",
   "version": "3.8.12"
  }
 },
 "nbformat": 4,
 "nbformat_minor": 5
}
