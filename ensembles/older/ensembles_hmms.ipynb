{
 "cells": [
  {
   "cell_type": "code",
   "execution_count": 1,
   "id": "6668f038",
   "metadata": {},
   "outputs": [
    {
     "data": {
      "application/javascript": [
       "IPython.notebook.set_autosave_interval(180000)"
      ]
     },
     "metadata": {},
     "output_type": "display_data"
    },
    {
     "name": "stdout",
     "output_type": "stream",
     "text": [
      "Autosaving every 180 seconds\n"
     ]
    },
    {
     "data": {
      "text/html": [
       "<style>.container { width:100% !important; }</style>"
      ],
      "text/plain": [
       "<IPython.core.display.HTML object>"
      ]
     },
     "metadata": {},
     "output_type": "display_data"
    }
   ],
   "source": [
    "import matplotlib\n",
    "%matplotlib tk\n",
    "%autosave 180\n",
    "%load_ext autoreload\n",
    "%autoreload 2\n",
    "\n",
    "import nest_asyncio\n",
    "%config Completer.use_jedi = False\n",
    "\n",
    "import os\n",
    "os.chdir('/home/cat/code/manifolds/')\n",
    "\n",
    "#\n",
    "import matplotlib.pyplot as plt\n",
    "from IPython.core.display import display, HTML\n",
    "display(HTML(\"<style>.container { width:100% !important; }</style>\"))\n",
    "\n",
    "import scipy\n",
    "import numpy as np\n",
    "import pandas as pd\n",
    "\n",
    "from calcium import calcium\n",
    "from wheel import wheel\n",
    "from visualize import visualize\n",
    "from tqdm import trange, tqdm\n",
    "\n",
    "from scipy.io import loadmat\n",
    "\n",
    "import plotly.express as px\n",
    "from plotly.subplots import make_subplots\n",
    "import plotly.graph_objects as go\n",
    "from scipy.spatial import ConvexHull, convex_hull_plot_2d\n",
    "\n",
    "# \n",
    "np.set_printoptions(suppress=True)\n",
    "\n",
    "\n",
    "from utils import load_UMAP, load_binarized_traces, find_ensemble_order, load_data, HMM, get_footprint_contour, load_footprints, computing_ensemble_loadings\n",
    "\n",
    "\n",
    "\n",
    "############### SSM FUNCTIONS ##########################\n",
    "import autograd.numpy as np\n",
    "import autograd.numpy.random as npr\n",
    "npr.seed(0)\n",
    "\n",
    "import ssm\n",
    "from ssm.util import find_permutation\n",
    "from ssm.plots import gradient_cmap, white_to_color_cmap\n",
    "\n",
    "\n"
   ]
  },
  {
   "cell_type": "code",
   "execution_count": 4,
   "id": "2ff5374c",
   "metadata": {},
   "outputs": [
    {
     "name": "stdout",
     "output_type": "stream",
     "text": [
      "X_pca:  (55740, 50)\n",
      "rasters:  (55740, 531)\n"
     ]
    }
   ],
   "source": [
    "############################################\n",
    "################ LOAD DATA #################\n",
    "############################################\n",
    "root_dir = '/media/cat/4TB/donato/'\n",
    "animal_id = 'DON-006084'\n",
    "session = '20210519'\n",
    "dim_type = 'pca'\n",
    "#bin_type = 'F_onphase'  # ['upphase','onphase','spikes','spikes_smooth']\n",
    "bin_type = 'F_upphase'  # ['upphase','onphase','spikes','spikes_smooth']\n",
    "\n",
    "use_pca = True\n",
    "use_rasters = False\n",
    "\n",
    "pca_n_dim = 50\n",
    "num_states = 100\n",
    "\n",
    "#\n",
    "X_pca, rasters = load_data(root_dir, \n",
    "                           animal_id, \n",
    "                             session,\n",
    "                             dim_type,\n",
    "                             bin_type)\n",
    "rasters = rasters.T\n",
    "print (\"X_pca: \", X_pca.shape)\n",
    "print (\"rasters: \", rasters.shape)\n"
   ]
  },
  {
   "cell_type": "code",
   "execution_count": null,
   "id": "edea43a9",
   "metadata": {},
   "outputs": [],
   "source": [
    "#########################################\n",
    "################ RUN HMM ################\n",
    "#########################################\n",
    "\n",
    "#\n",
    "if use_pca: \n",
    "    data = X_pca[:,:pca_n_dim]\n",
    "elif use_rasters: \n",
    "    data = rasters #[:,:10]\n",
    "\n",
    "\n",
    "obs_dim = data.shape[1]\n",
    "print (\"Data into hmm: \", data.shape)\n",
    "\n",
    "#\n",
    "hmm = ssm.HMM(num_states, \n",
    "              obs_dim, \n",
    "              observations=\"gaussian\")\n",
    "\n",
    "hmm_z = hmm.most_likely_states(data)\n",
    "unique_states = np.unique(hmm_z)\n",
    "print (\"# of dis covered states: \", unique_states.shape[0])\n",
    "\n",
    "# \n",
    "ctr=0\n",
    "hmm_z2 = hmm_z.copy()*0\n",
    "for id_ in unique_states:\n",
    "    idx = np.where(hmm_z==id_)[0]\n",
    "    hmm_z2[idx]=ctr\n",
    "    \n",
    "    ctr+=1\n",
    "    \n",
    "hmm_z = hmm_z2.copy()\n",
    "    "
   ]
  },
  {
   "cell_type": "code",
   "execution_count": 56,
   "id": "d88dca04",
   "metadata": {},
   "outputs": [],
   "source": [
    "np.save('/home/cat/hmm_z_pca.npy',hmm_z)"
   ]
  },
  {
   "cell_type": "code",
   "execution_count": 2,
   "id": "2f9181ef",
   "metadata": {},
   "outputs": [
    {
     "name": "stdout",
     "output_type": "stream",
     "text": [
      "IMG:  (20, 2787)\n",
      "ids:  [24 18  4 ... 30 28 24]\n",
      "(20, 2787) ['0 - 92.9', '92 - 185.8', '185 - 278.7', '278 - 371.6', '371 - 464.5', '464 - 557.4', '557 - 650.3', '650 - 743.2', '743 - 836.1', '836 - 929.0', '929 - 1021.9', '1021 - 1114.8', '1114 - 1207.7', '1207 - 1300.6', '1300 - 1393.5', '1393 - 1486.4', '1486 - 1579.3', '1579 - 1672.2', '1672 - 1765.1', '1765 - 1858.0']\n"
     ]
    },
    {
     "name": "stderr",
     "output_type": "stream",
     "text": [
      "<ipython-input-2-e2ff32e45267>:42: MatplotlibDeprecationWarning: Adding an axes using the same arguments as a previous axes currently reuses the earlier instance.  In a future version, a new instance will always be created and returned.  Meanwhile, this warning can be suppressed, and the future behavior ensured, by passing a unique label to each axes instance.\n",
      "  ax=plt.subplot(1,1,1)\n"
     ]
    }
   ],
   "source": [
    "########################################################\n",
    "########### PLOT ALL STATES TOGETHER ###################\n",
    "########################################################\n",
    "\n",
    "hmm_z = np.load('/home/cat/hmm_z_pca.npy')\n",
    "\n",
    "# \n",
    "fig=plt.figure()\n",
    "plt.subplot(111)\n",
    "ctr=0\n",
    "split = 20\n",
    "img = []      # stack all times\n",
    "yticks = []   # compute time windows as strings\n",
    "for k in range(0,hmm_z.shape[0],hmm_z.shape[0]//split):\n",
    "    \n",
    "    #\n",
    "    img.append(hmm_z.copy()[k:k+hmm_z.shape[0]//split][None,:])\n",
    "    yticks.append(str(k//30)+\" - \"+str((k+hmm_z.shape[0]//split)/30))\n",
    "\n",
    "img = np.vstack(img)\n",
    "print (\"IMG: \", img.shape)\n",
    "\n",
    "#################################################\n",
    "#################################################\n",
    "#################################################\n",
    "# change the background / most frequent state to darker color\n",
    "if False:\n",
    "    idx0 = np.where(img==0)\n",
    "    idx11 = np.where(img==11)\n",
    "    img[idx0]=11\n",
    "    img[idx11]=0\n",
    "    \n",
    "    idx0 = np.where(hmm_z==0)[0]\n",
    "    idx11 = np.where(hmm_z==11)[0]\n",
    "    print (idx0.shape, idx11.shape, hmm_z.shape)\n",
    "    hmm_z[idx0] = 11\n",
    "    hmm_z[idx11] = 0\n",
    "\n",
    "##############################################\n",
    "##############################################\n",
    "##############################################\n",
    "ax=plt.subplot(1,1,1)\n",
    "\n",
    "cmap = matplotlib.cm.get_cmap('gist_ncar', img.shape[0])\n",
    "\n",
    "cax = ax.imshow(img, \n",
    "       aspect=\"auto\", \n",
    "       extent=[k//30,(k+hmm_z.shape[0]//split)/30.,0,1],\n",
    "       cmap=cmap,\n",
    "       interpolation='none')\n",
    "\n",
    "##############################################################\n",
    "h = HMM()\n",
    "h.get_hmm_stats(hmm_z)\n",
    "ids = h.ids\n",
    "n_occurance = h.n_occurance\n",
    "total_durations = h.total_durations\n",
    "\n",
    "print (\"ids: \", ids)\n",
    "ticks2 = []\n",
    "for k in range(np.unique(ids).shape[0]):\n",
    "    temp = str(k) + \",  #\"+str(n_occurance[k])+\",  \"+str(round(total_durations[k],2))+\"sec\"\n",
    "    ticks2.append(temp)\n",
    "\n",
    "cbar = fig.colorbar(cax, ticks=np.arange(np.unique(ids).shape[0]))\n",
    "cbar.ax.set_yticklabels(ticks2)  # vertically oriented colorbar\n",
    "\n",
    "\n",
    "\n",
    "\n",
    "\n",
    "print (img.shape, yticks)\n",
    "plt.yticks(np.arange(img.shape[0])/img.shape[0]+1/2./img.shape[0], \n",
    "           yticks[::-1])\n",
    "           #rotation='vertical')\n",
    "\n",
    "ax.yaxis.labelpad = 50\n",
    "plt.xticks([])\n",
    "    \n",
    "plt.ylabel(\"time\")\n",
    "plt.show()"
   ]
  },
  {
   "cell_type": "code",
   "execution_count": 25,
   "id": "6e618e1d",
   "metadata": {},
   "outputs": [
    {
     "name": "stdout",
     "output_type": "stream",
     "text": [
      "unique states:  [ 0  1  2  3  4  5  6  7  8  9 10 11 12 13 14 15 16 17 18 19 20 21 22 23\n",
      " 24 25 26 27 28 29 30]\n"
     ]
    }
   ],
   "source": [
    "########################################################\n",
    "########### PLOT EACH STATES VS TIME ###################\n",
    "########################################################\n",
    "fig=plt.figure()\n",
    "unique_states = np.unique(hmm_z)\n",
    "print (\"unique states: \", unique_states)\n",
    "img_temp = hmm_z.copy()\n",
    "\n",
    "    \n",
    "# \n",
    "ctr=0\n",
    "for id_ in unique_states:\n",
    "    ax=plt.subplot(unique_states.shape[0]//2+1,2,ctr+1)\n",
    "    \n",
    "    #\n",
    "    \n",
    "    if True:\n",
    "        idx = np.where(img_temp==id_)[0]\n",
    "        img2 = img_temp.copy()*0\n",
    "        for id2 in idx:\n",
    "            img2[id2:id2+10]=1\n",
    "        \n",
    "    # \n",
    "    ax.imshow(img2[None,:], \n",
    "           aspect=\"auto\", \n",
    "           extent=[0,img2.shape[0]//30.,0,1],\n",
    "           cmap='Greys')\n",
    "                             \n",
    "   \n",
    "    plt.ylabel(str(id_),\n",
    "               fontsize=10, rotation=0)\n",
    "    #plt.xticks(fontsize=10)\n",
    "    #plt.yticks(rotation=180)\n",
    "    ax.yaxis.labelpad = 10\n",
    "    plt.yticks([])\n",
    "    plt.xticks([])\n",
    "    ctr+=1\n",
    "    \n",
    "#plt.xlim(0, time_bins)\n",
    "#plt.ylabel(\"$z_{\\\\mathrm{inferred}}$\")\n",
    "plt.yticks([])\n",
    "plt.xlabel(\"time\")\n",
    "\n",
    "#plt.tight_layout()\n",
    "plt.show()"
   ]
  },
  {
   "cell_type": "code",
   "execution_count": 26,
   "id": "b38864c3",
   "metadata": {},
   "outputs": [],
   "source": [
    "########################################\n",
    "####### STATISTICS OF STATES ###########\n",
    "########################################\n",
    "\n",
    "#\n",
    "h = HMM()\n",
    "h.get_hmm_stats(hmm_z)\n",
    "\n",
    "#lens, ids, lens_per, n_occurance, total_durations = get_hmm_stats(hmm_z)\n",
    "\n",
    "###########################################\n",
    "fig=plt.figure()\n",
    "\n",
    "# plot all distributions\n",
    "ax=plt.subplot(221)\n",
    "y = np.histogram(h.lens, bins=np.arange(0,30,1))\n",
    "plt.plot(y[1][:-1], y[0])\n",
    "plt.semilogy()\n",
    "plt.xlabel(\"Ensemble duration (sec)\")\n",
    "plt.ylabel(\"# of ensembles \")\n",
    "plt.title(\"# of ensemble transitions \"+str(ids.shape[0]))\n",
    "\n",
    "\n",
    "# plot all distributions\n",
    "ax=plt.subplot(222)\n",
    "y=np.histogram(h.ids,bins=np.arange(0,np.unique(h.ids).shape[0],1))\n",
    "plt.bar(y[1][:-1], y[0], .9)\n",
    "plt.semilogy()\n",
    "plt.ylabel(\"# of occurances of ensemble\")\n",
    "plt.xlabel(\"ensemble ID\")\n",
    "plt.title(\"# unique (non-zero) ensembles: \"+str(np.unique(h.ids).shape[0]))\n",
    "\n",
    "\n",
    "# plot all distributions\n",
    "ax=plt.subplot(223)\n",
    "plt.scatter(h.lens_per, h.n_occurance)\n",
    "plt.semilogy()\n",
    "plt.semilogx()\n",
    "plt.plot([np.min(h.lens_per)*.5,np.max(h.lens_per)*1.5],\n",
    "         [np.min(h.n_occurance)*.5,np.max(h.n_occurance)*1.5])\n",
    "plt.xlabel(\"Median duration of ensemble (sec)\")\n",
    "plt.ylabel(\"# of occurances\")\n",
    "\n",
    "plt.show()\n",
    "    \n",
    "    "
   ]
  },
  {
   "cell_type": "code",
   "execution_count": 27,
   "id": "2a16adc9",
   "metadata": {},
   "outputs": [
    {
     "name": "stderr",
     "output_type": "stream",
     "text": [
      "100%|██████████| 38/38 [00:00<00:00, 60281.22it/s]"
     ]
    },
    {
     "name": "stdout",
     "output_type": "stream",
     "text": [
      "Total duration of state:  11.133333333333333 sec\n",
      "Data_in:  (55740, 531)\n"
     ]
    },
    {
     "name": "stderr",
     "output_type": "stream",
     "text": [
      "\n"
     ]
    }
   ],
   "source": [
    "##############################################\n",
    "####### VISUALIZE STATES AS RASTERS ##########\n",
    "##############################################\n",
    "from tqdm import tqdm\n",
    "\n",
    "hmm_z = np.load('/home/cat/hmm_z_pca.npy')\n",
    "#hmm_z = np.load('/home/cat/hmm_z_rasters.npy')\n",
    "\n",
    "#\n",
    "state_id = 1\n",
    "print (\"Total duration of state: \", total_durations[state_id], 'sec')\n",
    "\n",
    "# get hmm-based \n",
    "h = HMM()\n",
    "h.get_hmm_stats(hmm_z)\n",
    "#\n",
    "idx = np.where(h.ids==state_id)\n",
    "\n",
    "# grab segments for each type\n",
    "segs = h.windows[idx]\n",
    "\n",
    "# test the 3 different types of data\n",
    "data_in = rasters.copy()\n",
    "#data_in = X_pca.copy()\n",
    "#data_in = hmm_z.copy()[:,None]\n",
    "print (\"Data_in: \", data_in.shape)\n",
    "\n",
    "############ STACK IMAGE ##############\n",
    "img = np.zeros((0,data_in.shape[1]))\n",
    "blank = np.zeros((3,data_in.shape[1]))+np.nan\n",
    "img_out = []\n",
    "for s in tqdm(segs):\n",
    "    temp = data_in[s[0]:s[1]+1]\n",
    "    img_out.append(temp)\n",
    "    img_out.append(blank)\n",
    "    \n",
    "img = np.vstack(img_out)\n",
    "img = img.T\n",
    "\n",
    "############# SHOW IMAGE ###############\n",
    "fig=plt.figure()\n",
    "plt.imshow(img,\n",
    "          aspect='auto',\n",
    "          interpolation='none',\n",
    "          extent=[0,img.shape[1]/30.,0,img.shape[0]])\n",
    "plt.xlabel(\"time (sec)\")\n",
    "plt.title(\"State: \"+str(state_id),fontsize=20)\n",
    "plt.show()\n"
   ]
  },
  {
   "cell_type": "code",
   "execution_count": 42,
   "id": "3e52cfa7",
   "metadata": {},
   "outputs": [
    {
     "name": "stdout",
     "output_type": "stream",
     "text": [
      "\n",
      "\n"
     ]
    },
    {
     "name": "stderr",
     "output_type": "stream",
     "text": [
      "100%|██████████| 352/352 [00:00<00:00, 388729.60it/s]\n"
     ]
    },
    {
     "name": "stdout",
     "output_type": "stream",
     "text": [
      "raster_state:  (531, 2157)\n",
      "(531,)\n"
     ]
    }
   ],
   "source": [
    "############################################################\n",
    "####### VISUALIZE SINGLE STATE AS CELL ASSEMBLY ############\n",
    "############################################################\n",
    "root_dir = '/media/cat/4TB/donato/'\n",
    "animal_id = 'DON-006084'\n",
    "session = '20210519'\n",
    "\n",
    "c = calcium.Calcium()\n",
    "c.root_dir = root_dir\n",
    "c.animal_id = animal_id\n",
    "c.session = session\n",
    "c.load_suite2p()\n",
    "\n",
    "# \n",
    "imgs, imgs_all, imgs_bin, contours = load_footprints(c)\n",
    "\n",
    "#\n",
    "state_id = 2\n",
    "\n",
    "#\n",
    "#hmm_z = np.load('/home/cat/hmm_z_pca.npy')\n",
    "hmm_z = np.load('/home/cat/hmm_z_rasters.npy')\n",
    "\n",
    "h=HMM()\n",
    "h.get_hmm_stats(hmm_z)\n",
    "cell_sums = computing_ensemble_loadings(state_id, \n",
    "                                        h,\n",
    "                                        rasters)\n",
    "\n",
    "# compute assembly blueprint\n",
    "state_blueprint = imgs_bin.transpose(1,2,0)*cell_sums\n",
    "state_blueprint = state_blueprint.sum(axis=2)\n",
    "cell_sums_norm = cell_sums/np.max(cell_sums)\n",
    "\n",
    "###################################################\n",
    "###################################################\n",
    "###################################################\n",
    "fig=plt.figure(figsize=(25,8))\n",
    "ax=plt.subplot(131)\n",
    "plt.imshow(imgs_all,\n",
    "          aspect='auto',\n",
    "          cmap='jet',\n",
    "          interpolation='none')\n",
    "plt.title(\"P19\")\n",
    "\n",
    "# \n",
    "ax=plt.subplot(132)\n",
    "plt.imshow(state_blueprint,\n",
    "          aspect='auto',\n",
    "          cmap='jet',\n",
    "          interpolation='none')\n",
    "\n",
    "# \n",
    "ax=plt.subplot(133)\n",
    "for k in range(len(c.stat)):\n",
    "    contour = contours[k]\n",
    "    \n",
    "    plt.plot(contour[:,1],contour[:,0], \n",
    "             c='black',\n",
    "            alpha=cell_sums_norm[k])\n",
    "    \n",
    "plt.xlim(0,512)\n",
    "plt.ylim(512,0)\n",
    "plt.suptitle(\"State: \" +str(state_id))\n",
    "\n",
    "#ax.set_facecolor('xkcd:white')\n",
    "if False:\n",
    "    plt.savefig('/home/cat/img.svg')\n",
    "    plt.close()\n",
    "else:\n",
    "    plt.show()\n",
    "\n"
   ]
  },
  {
   "cell_type": "code",
   "execution_count": 24,
   "id": "6f400b34",
   "metadata": {
    "scrolled": true
   },
   "outputs": [
    {
     "name": "stdout",
     "output_type": "stream",
     "text": [
      "RASTERS:  (55740, 531)\n",
      "spike rates (531,)\n",
      "\n",
      "\n"
     ]
    },
    {
     "name": "stderr",
     "output_type": "stream",
     "text": [
      "100%|██████████| 1538/1538 [00:00<00:00, 399259.74it/s]"
     ]
    },
    {
     "name": "stdout",
     "output_type": "stream",
     "text": [
      "state ids:  [11  5  2 10 14  6  4 13  9  0  1  3 12  7  8]\n",
      "state id:  11\n",
      "raster_state:  (531, 39815)\n"
     ]
    },
    {
     "name": "stderr",
     "output_type": "stream",
     "text": [
      "\n",
      "100%|██████████| 1480/1480 [00:00<00:00, 409794.69it/s]"
     ]
    },
    {
     "name": "stdout",
     "output_type": "stream",
     "text": [
      "state id:  5\n",
      "raster_state:  (531, 12352)\n"
     ]
    },
    {
     "name": "stderr",
     "output_type": "stream",
     "text": [
      "\n",
      "100%|██████████| 352/352 [00:00<00:00, 386490.84it/s]"
     ]
    },
    {
     "name": "stdout",
     "output_type": "stream",
     "text": [
      "state id:  2\n",
      "raster_state:  (531, 2157)\n"
     ]
    },
    {
     "name": "stderr",
     "output_type": "stream",
     "text": [
      "\n",
      "100%|██████████| 153/153 [00:00<00:00, 337929.71it/s]"
     ]
    },
    {
     "name": "stdout",
     "output_type": "stream",
     "text": [
      "state id:  10\n",
      "raster_state:  (531, 756)\n"
     ]
    },
    {
     "name": "stderr",
     "output_type": "stream",
     "text": [
      "\n",
      "100%|██████████| 38/38 [00:00<00:00, 244078.95it/s]"
     ]
    },
    {
     "name": "stdout",
     "output_type": "stream",
     "text": [
      "state id:  14\n",
      "raster_state:  (531, 190)\n"
     ]
    },
    {
     "name": "stderr",
     "output_type": "stream",
     "text": [
      "\n",
      "100%|██████████| 42/42 [00:00<00:00, 251658.24it/s]"
     ]
    },
    {
     "name": "stdout",
     "output_type": "stream",
     "text": [
      "state id:  6\n",
      "raster_state:  (531, 169)\n"
     ]
    },
    {
     "name": "stderr",
     "output_type": "stream",
     "text": [
      "\n",
      "100%|██████████| 26/26 [00:00<00:00, 176745.39it/s]"
     ]
    },
    {
     "name": "stdout",
     "output_type": "stream",
     "text": [
      "state id:  4\n",
      "raster_state:  (531, 116)\n"
     ]
    },
    {
     "name": "stderr",
     "output_type": "stream",
     "text": [
      "\n",
      "100%|██████████| 35/35 [00:00<00:00, 210617.85it/s]"
     ]
    },
    {
     "name": "stdout",
     "output_type": "stream",
     "text": [
      "state id:  13\n",
      "raster_state:  (531, 76)\n"
     ]
    },
    {
     "name": "stderr",
     "output_type": "stream",
     "text": [
      "\n",
      "100%|██████████| 23/23 [00:00<00:00, 191027.71it/s]"
     ]
    },
    {
     "name": "stdout",
     "output_type": "stream",
     "text": [
      "state id:  9\n",
      "raster_state:  (531, 70)\n"
     ]
    },
    {
     "name": "stderr",
     "output_type": "stream",
     "text": [
      "\n",
      "100%|██████████| 5/5 [00:00<00:00, 65331.84it/s]"
     ]
    },
    {
     "name": "stdout",
     "output_type": "stream",
     "text": [
      "state id:  0\n",
      "raster_state:  (531, 19)\n"
     ]
    },
    {
     "name": "stderr",
     "output_type": "stream",
     "text": [
      "\n",
      "100%|██████████| 6/6 [00:00<00:00, 74455.10it/s]"
     ]
    },
    {
     "name": "stdout",
     "output_type": "stream",
     "text": [
      "state id:  1\n",
      "raster_state:  (531, 7)\n"
     ]
    },
    {
     "name": "stderr",
     "output_type": "stream",
     "text": [
      "\n",
      "100%|██████████| 3/3 [00:00<00:00, 41527.76it/s]"
     ]
    },
    {
     "name": "stdout",
     "output_type": "stream",
     "text": [
      "state id:  3\n",
      "raster_state:  (531, 6)\n"
     ]
    },
    {
     "name": "stderr",
     "output_type": "stream",
     "text": [
      "\n",
      "100%|██████████| 3/3 [00:00<00:00, 42799.02it/s]"
     ]
    },
    {
     "name": "stdout",
     "output_type": "stream",
     "text": [
      "state id:  12\n",
      "raster_state:  (531, 4)\n"
     ]
    },
    {
     "name": "stderr",
     "output_type": "stream",
     "text": [
      "\n",
      "100%|██████████| 1/1 [00:00<00:00, 15420.24it/s]"
     ]
    },
    {
     "name": "stdout",
     "output_type": "stream",
     "text": [
      "state id:  7\n",
      "raster_state:  (531, 2)\n"
     ]
    },
    {
     "name": "stderr",
     "output_type": "stream",
     "text": [
      "\n",
      "100%|██████████| 1/1 [00:00<00:00, 15252.01it/s]"
     ]
    },
    {
     "name": "stdout",
     "output_type": "stream",
     "text": [
      "state id:  8\n",
      "raster_state:  (531, 1)\n"
     ]
    },
    {
     "name": "stderr",
     "output_type": "stream",
     "text": [
      "\n"
     ]
    }
   ],
   "source": [
    "############################################################\n",
    "####### VISUALIZE ALL STATE AS CELL ASSEMBLIES #############\n",
    "############################################################\n",
    "root_dir = '/media/cat/4TB/donato/'\n",
    "animal_id = 'DON-006084'\n",
    "session = '20210519'\n",
    "\n",
    "#\n",
    "dim_type = 'pca'\n",
    "#bin_type = 'F_onphase'  # ['upphase','onphase','spikes','spikes_smooth']\n",
    "bin_type = 'F_upphase'  # ['upphase','onphase','spikes','spikes_smooth']\n",
    "X_pca, rasters = load_data(root_dir, \n",
    "                           animal_id, \n",
    "                             session,\n",
    "                             dim_type,\n",
    "                             bin_type)\n",
    "\n",
    "rasters = rasters.T\n",
    "print (\"RASTERS: \", rasters.shape)\n",
    "\n",
    "spike_rates = rasters.sum(0)\n",
    "print (\"spike rates\", spike_rates.shape)\n",
    "\n",
    "    \n",
    "# \n",
    "c = calcium.Calcium()\n",
    "c.root_dir = root_dir\n",
    "c.animal_id = animal_id\n",
    "c.session = session\n",
    "c.load_suite2p()\n",
    "\n",
    "imgs, imgs_all, imgs_bin, contours = load_footprints(c)\n",
    "\n",
    "\n",
    "#\n",
    "h=HMM()\n",
    "#hmm_z = np.load('/home/cat/hmm_z_pca.npy')\n",
    "hmm_z = np.load('/home/cat/hmm_z_rasters.npy')\n",
    "h.get_hmm_stats(hmm_z)\n",
    "\n",
    "#\n",
    "state_ids = np.argsort(h.total_durations)[::-1]\n",
    "print (\"state ids: \", state_ids)\n",
    "\n",
    "\n",
    "# \n",
    "fig=plt.figure(figsize=(12,12))\n",
    "ctr=0\n",
    "for state_id in state_ids:\n",
    "    ax=plt.subplot(6,6,ctr+1)\n",
    "\n",
    "    # get cel sums for each ensemble\n",
    "    cell_sums = computing_ensemble_loadings(state_id,\n",
    "                                            h,\n",
    "                                            rasters)\n",
    "    \n",
    "    # normalize to the spiking rate of each cell:\n",
    "    cell_sums = cell_sums/spike_rates\n",
    "    \n",
    "    # \n",
    "    cell_sums_norm = cell_sums/np.max(cell_sums)\n",
    "\n",
    "    ###################################################\n",
    "    ###################################################\n",
    "    ###################################################\n",
    "    for k in range(len(c.stat)):\n",
    "        contour = contours[k]\n",
    "\n",
    "        plt.plot(contour[:,1],contour[:,0], \n",
    "                 c='black',\n",
    "                 alpha=cell_sums_norm[k])\n",
    "\n",
    "    plt.xlim(0,512)\n",
    "    plt.ylim(512,0)\n",
    "    plt.suptitle(\"State: \" +str(state_id))\n",
    "    plt.xticks([])\n",
    "    plt.yticks([])\n",
    "    plt.title(\"# \"+str(h.n_occurance[state_id])+\n",
    "              \", \"+str(round(h.total_durations[state_id],1))+\"sec\")\n",
    "    \n",
    "    ctr+=1\n",
    "    \n",
    "plt.suptitle(\"State partition using PCA\")\n",
    "if False:\n",
    "    #plt.savefig('/home/cat/img.png',dpi=100)\n",
    "    plt.savefig('/home/cat/ensembles_rasters.svg')\n",
    "    plt.close()\n",
    "else:\n",
    "    plt.show()\n"
   ]
  },
  {
   "cell_type": "code",
   "execution_count": 25,
   "id": "214bb93f",
   "metadata": {},
   "outputs": [
    {
     "name": "stdout",
     "output_type": "stream",
     "text": [
      "\n",
      "\n"
     ]
    },
    {
     "name": "stderr",
     "output_type": "stream",
     "text": [
      "100%|██████████| 352/352 [00:00<00:00, 18072.70it/s]\n",
      "  0%|          | 0/352 [00:00<?, ?it/s]"
     ]
    },
    {
     "name": "stdout",
     "output_type": "stream",
     "text": [
      "state id:  2\n",
      "cell sums longitudinal:  (352, 531)\n"
     ]
    },
    {
     "name": "stderr",
     "output_type": "stream",
     "text": [
      "100%|██████████| 352/352 [00:13<00:00, 26.89it/s]\n"
     ]
    }
   ],
   "source": [
    "###################################################################\n",
    "####### VISUALIZE TIME PREOGRESSION WITH SINGLE STATE #############\n",
    "###################################################################\n",
    "root_dir = '/media/cat/4TB/donato/'\n",
    "animal_id = 'DON-006084'\n",
    "session = '20210519'\n",
    "\n",
    "\n",
    "#\n",
    "dim_type = 'pca'\n",
    "#bin_type = 'F_onphase'  # ['upphase','onphase','spikes','spikes_smooth']\n",
    "bin_type = 'F_upphase'  # ['upphase','onphase','spikes','spikes_smooth']\n",
    "X_pca, rasters = load_data(root_dir, \n",
    "                           animal_id, \n",
    "                             session,\n",
    "                             dim_type,\n",
    "                             bin_type)\n",
    "\n",
    "rasters = rasters.T\n",
    "\n",
    "# \n",
    "#\n",
    "c = calcium.Calcium()\n",
    "c.root_dir = root_dir\n",
    "c.animal_id = animal_id\n",
    "c.session = session\n",
    "c.load_suite2p()\n",
    "\n",
    "imgs, imgs_all, imgs_bin, contours = load_footprints(c)\n",
    "\n",
    "\n",
    "#\n",
    "h=HMM()\n",
    "#hmm_z = np.load('/home/cat/hmm_z_pca.npy')\n",
    "hmm_z = np.load('/home/cat/hmm_z_rasters.npy')\n",
    "h.get_hmm_stats(hmm_z)\n",
    "\n",
    "#\n",
    "idx = np.argsort(h.total_durations)[::-1]\n",
    "state_ids = idx\n",
    "\n",
    "\n",
    "# \n",
    "#state_id = state_ids[0]\n",
    "state_id = 2\n",
    "cell_sums_longitudinal, state_durations = h.computing_ensemble_loadings_per_occurance(state_id, \n",
    "                                                                                    rasters)\n",
    "\n",
    "# \n",
    "state_duration = 2 # seconds to bin\n",
    "\n",
    "\n",
    "#\n",
    "fig=plt.figure(figsize=(12,12))\n",
    "ctr=0\n",
    "start_t = 0\n",
    "duration = 0\n",
    "for t in trange(state_durations.shape[0]):\n",
    "\n",
    "    #print (t, \" /\", state_durations.shape[0], \"duration: \", duration)\n",
    "\n",
    "    duration += state_durations[t]\n",
    "    if duration>state_duration:\n",
    "        duration -= state_durations[t]\n",
    "        ctr = ctr+1\n",
    "\n",
    "        # \n",
    "        ax=plt.subplot(6,6,ctr)\n",
    "\n",
    "        # compute assembly blueprint\n",
    "        cell_sums = cell_sums_longitudinal[start_t:t-1].sum(0)\n",
    "        \n",
    "            \n",
    "        # normalize to the spiking rate of each cell:\n",
    "        cell_sums = cell_sums/spike_rates\n",
    "\n",
    "        # \n",
    "        cell_sums_norm = cell_sums/np.max(cell_sums)\n",
    "\n",
    "        ###################################################\n",
    "        ###################################################\n",
    "        ###################################################\n",
    "        for k in range(len(c.stat)):\n",
    "            contour = contours[k]\n",
    "\n",
    "            ax.plot(contour[:,1],contour[:,0], \n",
    "                     c='black',\n",
    "                    alpha=cell_sums_norm[k])\n",
    "\n",
    "        plt.xlim(0,512)\n",
    "        plt.ylim(512,0)\n",
    "        plt.suptitle(\"State: \" +str(state_id))\n",
    "        plt.xticks([])\n",
    "        plt.yticks([])\n",
    "\n",
    "        #\n",
    "        plt.title(str(round(duration,1))+\"sec\")\n",
    "\n",
    "        # \n",
    "        duration = 0\n",
    "        start_t = t\n",
    "        \n",
    "    \n",
    "##########################################\n",
    "if False:\n",
    "    #plt.savefig('/home/cat/img.png',dpi=100)\n",
    "    plt.savefig('/home/cat/ensembles_rasters.svg')\n",
    "    plt.close()\n",
    "else:\n",
    "    plt.show()\n"
   ]
  },
  {
   "cell_type": "code",
   "execution_count": null,
   "id": "4cb08bde",
   "metadata": {},
   "outputs": [],
   "source": []
  },
  {
   "cell_type": "code",
   "execution_count": null,
   "id": "2b37243b",
   "metadata": {},
   "outputs": [],
   "source": []
  },
  {
   "cell_type": "code",
   "execution_count": null,
   "id": "3270feca",
   "metadata": {},
   "outputs": [],
   "source": []
  },
  {
   "cell_type": "code",
   "execution_count": null,
   "id": "d8f4ea79",
   "metadata": {},
   "outputs": [],
   "source": []
  },
  {
   "cell_type": "code",
   "execution_count": null,
   "id": "f9596c5a",
   "metadata": {},
   "outputs": [],
   "source": []
  },
  {
   "cell_type": "code",
   "execution_count": null,
   "id": "ee237343",
   "metadata": {},
   "outputs": [],
   "source": []
  },
  {
   "cell_type": "code",
   "execution_count": 40,
   "id": "6e52b0a4",
   "metadata": {},
   "outputs": [],
   "source": [
    "import sklearn.metrics\n",
    "times = []\n",
    "for k in range(len(ensemble_times)):\n",
    "    temp = ensemble_times[k]/30\n",
    "    diff = temp[1:]-temp[:-1]\n",
    "    \n",
    "    mx = np.max(diff)\n",
    "    #sklearn.metrics.pairwise_distances(temp)\n",
    "    \n",
    "    \n",
    "    #\n",
    "    times.append(mx)\n",
    "  \n",
    "times = np.hstack(times)\n",
    "y = np.histogram(times, bins = np.arange(0,50000/30,1))\n",
    "\n",
    "fig=plt.figure()\n",
    "plt.plot(y[1][1:],y[0])\n",
    "plt.semilogy()\n",
    "plt.semilogx()\n",
    "plt.ylim(bottom=1)\n",
    "plt.xlabel(\"Maximum time between ensemble repeat (sec)\")\n",
    "plt.ylabel(\"# of ensembles\")\n",
    "plt.show()"
   ]
  },
  {
   "cell_type": "code",
   "execution_count": null,
   "id": "7ad2cb2b",
   "metadata": {},
   "outputs": [],
   "source": []
  },
  {
   "cell_type": "code",
   "execution_count": null,
   "id": "761ec04b",
   "metadata": {},
   "outputs": [],
   "source": []
  },
  {
   "cell_type": "code",
   "execution_count": null,
   "id": "d788f1f3",
   "metadata": {},
   "outputs": [],
   "source": []
  },
  {
   "cell_type": "code",
   "execution_count": null,
   "id": "5bff803b",
   "metadata": {},
   "outputs": [],
   "source": []
  },
  {
   "cell_type": "code",
   "execution_count": null,
   "id": "1182b5b8",
   "metadata": {},
   "outputs": [],
   "source": []
  },
  {
   "cell_type": "code",
   "execution_count": null,
   "id": "c6287259",
   "metadata": {},
   "outputs": [],
   "source": []
  },
  {
   "cell_type": "code",
   "execution_count": 41,
   "id": "09987757",
   "metadata": {},
   "outputs": [
    {
     "name": "stdout",
     "output_type": "stream",
     "text": [
      "clusters:  [  0   1   2   3   4   5   6   7   8   9  10  11  12  13  14  15  16  17\n",
      "  18  19  20  21  22  23  24  25  26  27  28  29  30  31  32  33  34  35\n",
      "  36  37  38  39  40  41  42  43  44  45  46  47  48  49  50  51  52  53\n",
      "  54  55  56  57  58  59  60  61  62  63  64  65  66  67  68  69  70  71\n",
      "  72  73  74  75  76  77  78  79  80  81  82  83  84  85  86  87  88  89\n",
      "  90  91  92  93  94  95  96  97  98  99 100 101 102 103 104 105 106 107\n",
      " 108 109 110 111 112 113 114 115 116 117 118 119 120 121 122 123 124 125\n",
      " 126 127 128 129 130 131 132 133 134 135 136 137 138 139 140 141 142 143\n",
      " 144 145 146 147 148 149 150 151 152 153 154 155 156 157 158 159 160 161\n",
      " 162 163 164 165 166 167 168 169 170 171 172 173 174 175 176 177 178 179\n",
      " 180 181 182 183 184 185 186 187 188 189 190 191 192 193 194 195 196 197\n",
      " 198 199 200 201 202 203 204 205 206 207 208 209 210 211 212 213 214 215\n",
      " 216 217 218 219 220 221 222 223 224 225 226 227 228 229 230 231 232 233\n",
      " 234 235 236 237 238 239 240 241 242 243 244 245 246 247 248 249 250 251\n",
      " 252 254 255 256 257 258 259 260 261] (54317,) [    0     1     2 ... 55736 55737 55738]\n",
      "(531, 55740)\n",
      "rasters reordered:  (55740, 531)\n"
     ]
    }
   ],
   "source": [
    "##############################################################################\n",
    "############ REORDER RASTERS BY CLUSTER - FROM GPU SAVED DATA ################\n",
    "##############################################################################\n",
    "\n",
    "root_dir = '/media/cat/4TB/donato/'\n",
    "animal_id = 'DON-006084'\n",
    "session = '20210519'\n",
    "dim_type = 'pca'\n",
    "\n",
    "# \n",
    "data = np.load(os.path.join(root_dir,\n",
    "                     animal_id,\n",
    "                     session,\n",
    "                     'suite2p',\n",
    "                     'plane0',\n",
    "                     'res_dbscan_'+dim_type+'.npz'))\n",
    "\n",
    "\n",
    "\n",
    "X_pca = data['X_pca']\n",
    "X_clean = data['X_clean']\n",
    "clusters = data['db_clean']\n",
    "times = data['times']\n",
    "\n",
    "print (\"clusters: \", np.unique(clusters).shape, times.shape, times)\n",
    "\n",
    "\n",
    "#########################################################\n",
    "#########################################################\n",
    "#########################################################\n",
    "print (rasters.shape)\n",
    "rasters_reordered = np.zeros(rasters.shape).T\n",
    "print (\"rasters reordered: \", rasters_reordered.shape)\n",
    "ctr=0\n",
    "for c in np.unique(clusters):\n",
    "    idx = np.where(clusters==c)[0]\n",
    "    times_original = times[idx]\n",
    "    \n",
    "    times_new = np.arange(ctr,ctr+idx.shape[0],1)\n",
    "\n",
    "    #print (c, idx.shape, idx[:10])\n",
    "    \n",
    "    # \n",
    "    rasters_reordered[times_new]= rasters[:,times_original].T\n",
    "    \n",
    "    rasters_reordered[times_new[-4]:times_new[-1]]= 1\n",
    "    #\n",
    "    ctr+=idx.shape[0]\n",
    "    \n",
    "# \n",
    "rasters_reordered = rasters_reordered.T\n",
    "\n",
    "#\n",
    "idx = np.argsort(rasters_reordered.sum(axis=1))[::-1]\n",
    "\n",
    "rasters_reordered = rasters_reordered[idx]\n",
    "\n",
    "# \n",
    "fig=plt.figure()\n",
    "plt.imshow(rasters_reordered,\n",
    "           cmap='Greys',\n",
    "           aspect='auto',\n",
    "          interpolation=None)\n",
    "plt.show()\n",
    "\n",
    "\n",
    "\n"
   ]
  },
  {
   "cell_type": "code",
   "execution_count": null,
   "id": "a9ca7a80",
   "metadata": {},
   "outputs": [],
   "source": [
    "# ###############################################################\n",
    "# ########## VISUALIZE DISTRIBUTION OF CLUSTERS SIZES ###########\n",
    "# ###############################################################\n",
    "# lens = []\n",
    "# for k in np.unique(clusters):\n",
    "#     idx = np.where(clusters==k)[0]\n",
    "#     lens.append(idx.shape[0])\n",
    "\n",
    "# y = np.histogram(lens, bins = np.arange(0,60000,10))\n",
    "# plt.plot(y[1][1:]/30.,\n",
    "#         y[0])\n",
    "# plt.xlabel(\"Duration of cluster (sec)\")\n",
    "# plt.ylabel(\"# of ensembles/clusters\")\n",
    "# plt.xlim(0.1,y[1][-1]/30.)\n",
    "# plt.ylim(bottom=0.9)\n",
    "# plt.semilogy()\n",
    "# plt.semilogx()\n",
    "\n",
    "# plt.show()"
   ]
  },
  {
   "cell_type": "code",
   "execution_count": null,
   "id": "a13a6c54",
   "metadata": {},
   "outputs": [],
   "source": []
  },
  {
   "cell_type": "code",
   "execution_count": null,
   "id": "3f9d006d",
   "metadata": {},
   "outputs": [],
   "source": []
  },
  {
   "cell_type": "code",
   "execution_count": null,
   "id": "1e578331",
   "metadata": {},
   "outputs": [],
   "source": []
  },
  {
   "cell_type": "code",
   "execution_count": null,
   "id": "509bc1a7",
   "metadata": {},
   "outputs": [],
   "source": []
  },
  {
   "cell_type": "code",
   "execution_count": null,
   "id": "1a044e0d",
   "metadata": {},
   "outputs": [],
   "source": []
  },
  {
   "cell_type": "code",
   "execution_count": null,
   "id": "4c1d1c07",
   "metadata": {},
   "outputs": [],
   "source": []
  },
  {
   "cell_type": "code",
   "execution_count": null,
   "id": "05111432",
   "metadata": {},
   "outputs": [],
   "source": []
  },
  {
   "cell_type": "code",
   "execution_count": null,
   "id": "1f8a4c8d",
   "metadata": {},
   "outputs": [],
   "source": []
  },
  {
   "cell_type": "code",
   "execution_count": null,
   "id": "8334a7d4",
   "metadata": {},
   "outputs": [],
   "source": []
  },
  {
   "cell_type": "code",
   "execution_count": null,
   "id": "3ff2530e",
   "metadata": {},
   "outputs": [],
   "source": []
  },
  {
   "cell_type": "code",
   "execution_count": null,
   "id": "760c05b2",
   "metadata": {},
   "outputs": [],
   "source": []
  },
  {
   "cell_type": "code",
   "execution_count": null,
   "id": "f7080cd6",
   "metadata": {},
   "outputs": [],
   "source": []
  }
 ],
 "metadata": {
  "kernelspec": {
   "display_name": "Python 3",
   "language": "python",
   "name": "python3"
  },
  "language_info": {
   "codemirror_mode": {
    "name": "ipython",
    "version": 3
   },
   "file_extension": ".py",
   "mimetype": "text/x-python",
   "name": "python",
   "nbconvert_exporter": "python",
   "pygments_lexer": "ipython3",
   "version": "3.8.8"
  }
 },
 "nbformat": 4,
 "nbformat_minor": 5
}
