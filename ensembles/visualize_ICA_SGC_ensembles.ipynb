{
 "cells": [
  {
   "cell_type": "code",
   "execution_count": 1,
   "id": "6668f038",
   "metadata": {},
   "outputs": [
    {
     "data": {
      "application/javascript": [
       "IPython.notebook.set_autosave_interval(180000)"
      ]
     },
     "metadata": {},
     "output_type": "display_data"
    },
    {
     "name": "stdout",
     "output_type": "stream",
     "text": [
      "Autosaving every 180 seconds\n"
     ]
    },
    {
     "data": {
      "text/html": [
       "<style>.container { width:100% !important; }</style>"
      ],
      "text/plain": [
       "<IPython.core.display.HTML object>"
      ]
     },
     "metadata": {},
     "output_type": "display_data"
    }
   ],
   "source": [
    "import matplotlib\n",
    "%matplotlib tk\n",
    "%autosave 180\n",
    "%load_ext autoreload\n",
    "%autoreload 2\n",
    "\n",
    "import nest_asyncio\n",
    "%config Completer.use_jedi = False\n",
    "\n",
    "import os\n",
    "os.chdir('/home/cat/code/manifolds/')\n",
    "\n",
    "#\n",
    "import matplotlib.pyplot as plt\n",
    "from IPython.core.display import display, HTML\n",
    "display(HTML(\"<style>.container { width:100% !important; }</style>\"))\n",
    "\n",
    "import scipy\n",
    "import numpy as np\n",
    "import pandas as pd\n",
    "\n",
    "from calcium import calcium\n",
    "from wheel import wheel\n",
    "from visualize import visualize\n",
    "from tqdm import trange, tqdm\n",
    "\n",
    "from scipy.io import loadmat\n",
    "\n",
    "import plotly.express as px\n",
    "from plotly.subplots import make_subplots\n",
    "import plotly.graph_objects as go\n",
    "from scipy.spatial import ConvexHull, convex_hull_plot_2d\n",
    "\n",
    "# \n",
    "np.set_printoptions(suppress=True)\n",
    "\n",
    "\n",
    "#from utils import load_UMAP, load_binarized_traces, find_ensemble_order, load_data, HMM, get_footprint_contour, load_footprints, computing_ensemble_loadings\n",
    "\n"
   ]
  },
  {
   "cell_type": "code",
   "execution_count": 7,
   "id": "9b256b5b",
   "metadata": {},
   "outputs": [],
   "source": [
    "\n",
    "def plot_ensembles_side_by_side(states, c):\n",
    "    #\n",
    "    \n",
    "    # find which cells are good \n",
    "    idx2 = np.where(c.iscell[:,0])[0]\n",
    "\n",
    "\n",
    "    fig=plt.figure(figsize=(20,20))\n",
    "    for k in trange(len(states)):\n",
    "        #ax=plt.subplot(10,8,k+1)\n",
    "        ax=plt.subplot(5,5,k+1)\n",
    "        idx_state = states[k][0].squeeze()\n",
    "\n",
    "        # find which states\n",
    "        idx_good = []\n",
    "        for id_ in idx_state:\n",
    "            if id_ in idx2:\n",
    "                idx_good.append(id_)\n",
    "\n",
    "        #print (idx_good)\n",
    "\n",
    "        #\n",
    "        final_ids = []\n",
    "        for p in range(len(idx_good)):\n",
    "            temp = idx_good[p]\n",
    "            idx4 = np.where(idx2==temp)[0]\n",
    "            final_ids.append(idx4)\n",
    "            p#rint (temp, idx4)\n",
    "        final_ids = np.hstack(final_ids)\n",
    "\n",
    "        # \n",
    "        for id2 in final_ids:\n",
    "            contour = c.get_footprint_contour(id2)\n",
    "            plt.plot(contour[:,1],\n",
    "                    contour[:,0],\n",
    "                    c='red')\n",
    "\n",
    "        # plot all ensembles:\n",
    "        for id2 in range(len(c.footprints_bin)):\n",
    "            contour = c.get_footprint_contour(id2)\n",
    "            plt.plot(contour[:,1],\n",
    "                    contour[:,0],\n",
    "                    c='black',\n",
    "                    alpha=.15)\n",
    "\n",
    "        #\n",
    "        plt.xlim(0,512)\n",
    "        plt.ylim(0,512)\n",
    "        plt.xticks([])\n",
    "        plt.yticks([])\n",
    "        plt.ylabel(str(k) + \", \"+str(len(final_ids)))\n",
    "        \n",
    "def plot_ensembles_together(states, c):\n",
    "    \n",
    "    # enumerate post-cleaned cells\n",
    "    all_cells = np.arange(c.F.shape[0])\n",
    "\n",
    "    # find which cells are good \n",
    "    idx2 = np.where(c.iscell[:,0])[0]\n",
    "    print (idx2.shape)\n",
    "\n",
    "\n",
    "\n",
    "    # \n",
    "    cmap = matplotlib.cm.get_cmap('gist_ncar', len(states))\n",
    "    \n",
    "    #\n",
    "    fig=plt.figure(figsize=(20,20))\n",
    "    for k in trange(len(states)):\n",
    "        #ax=plt.subplot(10,8,k+1)\n",
    "        #ax=plt.subplot(5,5,k+1)\n",
    "        idx_state = states[k][0].squeeze()\n",
    "\n",
    "        # find which states\n",
    "        idx_good = []\n",
    "        for id_ in idx_state:\n",
    "            if id_ in idx2:\n",
    "                idx_good.append(id_)\n",
    "\n",
    "        #print (idx_good)\n",
    "\n",
    "        #\n",
    "        final_ids = []\n",
    "        for p in range(len(idx_good)):\n",
    "            temp = idx_good[p]\n",
    "            idx4 = np.where(idx2==temp)[0]\n",
    "            final_ids.append(idx4)\n",
    "            p#rint (temp, idx4)\n",
    "        final_ids = np.hstack(final_ids)\n",
    "\n",
    "        # \n",
    "        shiftx = np.random.randint(-3,3)\n",
    "        shifty = np.random.randint(-3,3)\n",
    "        if shiftx==0:\n",
    "            shiftx=1\n",
    "        if shifty==0:\n",
    "            shifty=1\n",
    "        \n",
    "        #scale=2\n",
    "        # \n",
    "        for id2 in final_ids:\n",
    "            contour = c.get_footprint_contour(id2)\n",
    "            \n",
    "            if True:\n",
    "                plt.plot(\n",
    "                    contour[:,1]+shiftx,\n",
    "                    contour[:,0]+shifty,\n",
    "                    c=cmap(k),\n",
    "                    linewidth=2)\n",
    "            else:\n",
    "                plt.scatter(\n",
    "                       np.mean(contour[:,1])+shiftx,\n",
    "                np.mean(contour[:,0])+shifty,\n",
    "                c=cmap(k),\n",
    "                s=50)\n",
    "                \n",
    "                \n",
    "    # plot all ensembles:\n",
    "    for id2 in range(len(c.footprints_bin)):\n",
    "        contour = c.get_footprint_contour(id2)\n",
    "        plt.plot(contour[:,1],\n",
    "                contour[:,0],\n",
    "                c='black',\n",
    "                alpha=.15)\n",
    "\n",
    "    #\n",
    "    plt.xlim(0,512)\n",
    "    plt.ylim(0,512)\n",
    "    plt.xticks([])\n",
    "    plt.yticks([])\n",
    "    plt.ylabel(str(k) + \", \"+str(len(final_ids)))\n"
   ]
  },
  {
   "cell_type": "code",
   "execution_count": 18,
   "id": "2ff5374c",
   "metadata": {},
   "outputs": [
    {
     "name": "stdout",
     "output_type": "stream",
     "text": [
      "\n",
      "\n",
      "(470, 55740)\n",
      "binarized data:  (470, 55740)\n",
      "dict_keys(['__header__', '__version__', '__globals__', 'cs_assemblies', 'cs_assembly_vectors', 'ks_alpha', 'mp_assemblies', 'mp_assembly_vectors', 'fnames', 'i', 'filename', 'ans', 'DFF_binned', 'filepath', 'name', 'ext'])\n"
     ]
    }
   ],
   "source": [
    "############################################\n",
    "################ LOAD DATA #################\n",
    "############################################\n",
    "root_dir = '/media/cat/4TB/donato/'\n",
    "animal_id = 'DON-006084'\n",
    "session = '20210521'\n",
    "\n",
    "binarization_method='upphase'\n",
    "\n",
    "#\n",
    "c = calcium.Calcium()\n",
    "c.root_dir = root_dir\n",
    "c.animal_id = animal_id\n",
    "c.session = session\n",
    "c.load_suite2p()\n",
    "\n",
    "# \n",
    "c.load_binarization()\n",
    "if binarization_method=='onphase':\n",
    "    traces = c.F_onphase_bin\n",
    "elif binarization_method=='upphase':\n",
    "    traces = c.F_upphase_bin\n",
    "else:\n",
    "    print (\"METHOD NOT FOUND\")\n",
    "\n",
    "\n",
    "c.load_footprints()\n",
    "    \n",
    "print (\"binarized data: \", traces.shape)\n",
    "\n",
    "# w = wheel.Wheel()\n",
    "# w.root_dir = os.path.join(root_dir,\n",
    "#                           animal_id,\n",
    "#                           session,\n",
    "#                           'TRD-2P')\n",
    "# w.animal_id = animal_id\n",
    "# w.session = session\n",
    "# w.load_track()\n",
    "# w.compute_velocity()\n",
    "\n",
    "\n",
    "# \n",
    "ensembles = scipy.io.loadmat(os.path.join(root_dir,\n",
    "                                          animal_id,\n",
    "                                          session,\n",
    "                                         'suite2p',\n",
    "                                         'plane0',\n",
    "                                         'ensembles',\n",
    "                                         'Upphase_sum_binned_ICA_ASSEMBLIES.mat'))\n",
    "print (ensembles.keys())\n",
    "\n"
   ]
  },
  {
   "cell_type": "code",
   "execution_count": 19,
   "id": "31d740dd",
   "metadata": {},
   "outputs": [
    {
     "name": "stderr",
     "output_type": "stream",
     "text": [
      "100%|███████████████████████████████████████████████████████████████████████| 18/18 [00:09<00:00,  1.95it/s]\n"
     ]
    }
   ],
   "source": [
    "#########################################################\n",
    "######## PLOT ENSEMBELS SIDE BY SIDE OR TOGETHER ########\n",
    "#########################################################\n",
    "states = ensembles['cs_assemblies']\n",
    "\n",
    "# show individual ensembles (red) on top of all cells (grey)\n",
    "plot_ensembles_side_by_side(states, c)\n",
    "\n",
    "# show all ensmbels (colors) in single plot\n",
    "#plot_ensembles_together(states, c)\n",
    "\n",
    "if False:\n",
    "    plt.savefig('/home/cat/ica_ensembles.svg')\n",
    "    plt.close()\n",
    "else:\n",
    "    plt.show()"
   ]
  },
  {
   "cell_type": "code",
   "execution_count": null,
   "id": "0a942db1",
   "metadata": {},
   "outputs": [],
   "source": []
  },
  {
   "cell_type": "code",
   "execution_count": null,
   "id": "9a6d1a83",
   "metadata": {},
   "outputs": [],
   "source": []
  },
  {
   "cell_type": "code",
   "execution_count": null,
   "id": "4cb08bde",
   "metadata": {},
   "outputs": [],
   "source": []
  },
  {
   "cell_type": "code",
   "execution_count": null,
   "id": "2b37243b",
   "metadata": {},
   "outputs": [],
   "source": []
  },
  {
   "cell_type": "code",
   "execution_count": null,
   "id": "3270feca",
   "metadata": {},
   "outputs": [],
   "source": []
  },
  {
   "cell_type": "code",
   "execution_count": null,
   "id": "d8f4ea79",
   "metadata": {},
   "outputs": [],
   "source": []
  },
  {
   "cell_type": "code",
   "execution_count": null,
   "id": "f9596c5a",
   "metadata": {},
   "outputs": [],
   "source": []
  },
  {
   "cell_type": "code",
   "execution_count": null,
   "id": "ee237343",
   "metadata": {},
   "outputs": [],
   "source": []
  },
  {
   "cell_type": "code",
   "execution_count": null,
   "id": "a13a6c54",
   "metadata": {},
   "outputs": [],
   "source": []
  },
  {
   "cell_type": "code",
   "execution_count": null,
   "id": "3f9d006d",
   "metadata": {},
   "outputs": [],
   "source": []
  },
  {
   "cell_type": "code",
   "execution_count": null,
   "id": "1e578331",
   "metadata": {},
   "outputs": [],
   "source": []
  },
  {
   "cell_type": "code",
   "execution_count": null,
   "id": "509bc1a7",
   "metadata": {},
   "outputs": [],
   "source": []
  },
  {
   "cell_type": "code",
   "execution_count": null,
   "id": "1a044e0d",
   "metadata": {},
   "outputs": [],
   "source": []
  },
  {
   "cell_type": "code",
   "execution_count": null,
   "id": "4c1d1c07",
   "metadata": {},
   "outputs": [],
   "source": []
  },
  {
   "cell_type": "code",
   "execution_count": null,
   "id": "05111432",
   "metadata": {},
   "outputs": [],
   "source": []
  },
  {
   "cell_type": "code",
   "execution_count": null,
   "id": "1f8a4c8d",
   "metadata": {},
   "outputs": [],
   "source": []
  },
  {
   "cell_type": "code",
   "execution_count": null,
   "id": "8334a7d4",
   "metadata": {},
   "outputs": [],
   "source": []
  },
  {
   "cell_type": "code",
   "execution_count": null,
   "id": "3ff2530e",
   "metadata": {},
   "outputs": [],
   "source": []
  },
  {
   "cell_type": "code",
   "execution_count": null,
   "id": "760c05b2",
   "metadata": {},
   "outputs": [],
   "source": []
  },
  {
   "cell_type": "code",
   "execution_count": null,
   "id": "f7080cd6",
   "metadata": {},
   "outputs": [],
   "source": []
  }
 ],
 "metadata": {
  "kernelspec": {
   "display_name": "Python 3 (ipykernel)",
   "language": "python",
   "name": "python3"
  },
  "language_info": {
   "codemirror_mode": {
    "name": "ipython",
    "version": 3
   },
   "file_extension": ".py",
   "mimetype": "text/x-python",
   "name": "python",
   "nbconvert_exporter": "python",
   "pygments_lexer": "ipython3",
   "version": "3.8.12"
  }
 },
 "nbformat": 4,
 "nbformat_minor": 5
}
