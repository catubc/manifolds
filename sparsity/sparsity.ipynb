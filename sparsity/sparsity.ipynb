{
 "cells": [
  {
   "cell_type": "code",
   "execution_count": 1,
   "id": "565618d8",
   "metadata": {},
   "outputs": [
    {
     "data": {
      "application/javascript": [
       "IPython.notebook.set_autosave_interval(180000)"
      ]
     },
     "metadata": {},
     "output_type": "display_data"
    },
    {
     "name": "stdout",
     "output_type": "stream",
     "text": [
      "Autosaving every 180 seconds\n"
     ]
    },
    {
     "data": {
      "text/html": [
       "<style>.container { width:100% !important; }</style>"
      ],
      "text/plain": [
       "<IPython.core.display.HTML object>"
      ]
     },
     "metadata": {},
     "output_type": "display_data"
    }
   ],
   "source": [
    "import matplotlib\n",
    "%matplotlib tk\n",
    "%autosave 180\n",
    "%load_ext autoreload\n",
    "%autoreload 2\n",
    "\n",
    "import nest_asyncio\n",
    "%config Completer.use_jedi = False\n",
    "\n",
    "import os\n",
    "os.chdir('/home/cat/code/manifolds/')\n",
    "\n",
    "#\n",
    "import matplotlib.pyplot as plt\n",
    "from IPython.core.display import display, HTML\n",
    "display(HTML(\"<style>.container { width:100% !important; }</style>\"))\n",
    "\n",
    "import scipy\n",
    "import numpy as np\n",
    "import pandas as pd\n",
    "\n",
    "from calcium import calcium\n",
    "from wheel import wheel\n",
    "from visualize import visualize\n",
    "from tqdm import trange, tqdm\n",
    "\n",
    "from scipy.io import loadmat\n",
    "\n",
    "import plotly.express as px\n",
    "from plotly.subplots import make_subplots\n",
    "import plotly.graph_objects as go\n",
    "from scipy.spatial import ConvexHull, convex_hull_plot_2d\n",
    "\n",
    "#from ensembles.utils import load_UMAP, load_binarized_traces, find_ensemble_order, load_data, HMM, get_footprint_contour, load_footprints, computing_ensemble_loadings\n",
    "\n",
    "\n"
   ]
  },
  {
   "cell_type": "code",
   "execution_count": 19,
   "id": "d419e7ea",
   "metadata": {},
   "outputs": [
    {
     "name": "stdout",
     "output_type": "stream",
     "text": [
      "\n",
      "\n",
      "(584, 55740)\n",
      "binarized data:  (584, 55740)\n"
     ]
    }
   ],
   "source": [
    "root_dir = '/media/cat/4TB/donato/'\n",
    "animal_id = 'DON-006084'\n",
    "session = '20210520'\n",
    "\n",
    "binarization_method='upphase'\n",
    "\n",
    "#\n",
    "c = calcium.Calcium()\n",
    "c.root_dir = root_dir\n",
    "c.animal_id = animal_id\n",
    "c.session = session\n",
    "c.load_suite2p()\n",
    "\n",
    "# \n",
    "c.load_binarization()\n",
    "if binarization_method=='onphase':\n",
    "    traces = c.F_onphase_bin\n",
    "elif binarization_method=='upphase':\n",
    "    traces = c.F_upphase_bin\n",
    "else:\n",
    "    print (\"METHOD NOT FOUND\")\n",
    "\n",
    "\n",
    "print (\"binarized data: \", traces.shape)\n",
    "\n",
    "w = wheel.Wheel()\n",
    "w.root_dir = os.path.join(root_dir,\n",
    "                          animal_id,\n",
    "                          session,\n",
    "                          'TRD-2P')\n",
    "w.animal_id = animal_id\n",
    "w.session = session\n",
    "w.load_track()\n",
    "w.compute_velocity()\n"
   ]
  },
  {
   "cell_type": "code",
   "execution_count": 6,
   "id": "ade3c05d",
   "metadata": {},
   "outputs": [
    {
     "name": "stderr",
     "output_type": "stream",
     "text": [
      "100%|██████████████████████████████████| 55740/55740 [00:04<00:00, 11725.70it/s]\n"
     ]
    }
   ],
   "source": [
    "from gini import *\n",
    "spars = []\n",
    "binwidth = 1\n",
    "rasters = traces.T\n",
    "for k in trange(0, rasters.shape[0], binwidth):\n",
    "    temp = rasters[k:k+binwidth].sum(0)\n",
    "    #print (temp.shape)\n",
    "    spars.append(gini(temp))\n",
    "    \n",
    "\n"
   ]
  },
  {
   "cell_type": "code",
   "execution_count": 14,
   "id": "21b4ab5f",
   "metadata": {},
   "outputs": [
    {
     "name": "stdout",
     "output_type": "stream",
     "text": [
      "0.1653031933979189\n"
     ]
    }
   ],
   "source": [
    "#\n",
    "spars =np.array(spars)\n",
    "idx =np.where(spars<0.8)[0]\n",
    "print (idx.shape[0]/spars.shape[0])\n",
    "y = np.histogram(spars,bins=np.arange(-0.1,1.1\n",
    "                                      ,0.01))\n",
    "\n",
    "fig=plt.figure()\n",
    "plt.bar(y[1][:-1],\n",
    "        y[0],\n",
    "       0.01/2)\n",
    "\n",
    "plt.title(\"1.0 represents highly sparse data; 0.0 represents highly homogenous data\")\n",
    "plt.xlabel(\"Sparsity index\")\n",
    "plt.ylabel(\"# of frames\")\n",
    "#plt.semilogy()\n",
    "#plt.ylim(bottom=0.1)\n",
    "plt.show()"
   ]
  },
  {
   "cell_type": "code",
   "execution_count": 27,
   "id": "12906691",
   "metadata": {},
   "outputs": [
    {
     "name": "stdout",
     "output_type": "stream",
     "text": [
      "(46526,)\n"
     ]
    }
   ],
   "source": [
    "idx1 = np.where(spars>0.5)[0]\n",
    "idx2 = np.where(spars<=0.5)[0]\n",
    "print (idx1.shape)\n",
    "\n",
    "plt.plot(w.track.velocity.times, \n",
    "        w.track.velocity.values, \n",
    "         c='red',\n",
    "         linewidth=3,\n",
    "         label='velocity')\n",
    "\n",
    "plt.plot(w.track.velocity.times,\n",
    "         c.F_upphase_bin.sum(0)/100., \n",
    "         c='green',\n",
    "         linewidth=3,\n",
    "         label='mua')\n",
    "\n",
    "plt.scatter(w.track.velocity.times[idx1], \n",
    "            np.zeros(idx1.shape[0]), \n",
    "            s=200,\n",
    "            c='black', label='high sparsity')\n",
    "plt.scatter(w.track.velocity.times[idx2],\n",
    "            np.zeros(idx2.shape[0]), \n",
    "            s=200,\n",
    "            c='blue',\n",
    "            label='low sparsity')\n",
    "\n",
    "\n",
    "\n",
    "\n",
    "plt.legend()\n",
    "plt.show()\n"
   ]
  },
  {
   "cell_type": "code",
   "execution_count": null,
   "id": "ed028ad5",
   "metadata": {},
   "outputs": [],
   "source": []
  },
  {
   "cell_type": "code",
   "execution_count": null,
   "id": "3e56c102",
   "metadata": {},
   "outputs": [],
   "source": []
  },
  {
   "cell_type": "code",
   "execution_count": null,
   "id": "84defc30",
   "metadata": {},
   "outputs": [],
   "source": []
  },
  {
   "cell_type": "code",
   "execution_count": null,
   "id": "d6ebbdf3",
   "metadata": {},
   "outputs": [],
   "source": []
  },
  {
   "cell_type": "code",
   "execution_count": null,
   "id": "5c1e37c2",
   "metadata": {},
   "outputs": [],
   "source": []
  },
  {
   "cell_type": "code",
   "execution_count": null,
   "id": "5957daa6",
   "metadata": {},
   "outputs": [],
   "source": []
  },
  {
   "cell_type": "code",
   "execution_count": null,
   "id": "65ab481a",
   "metadata": {},
   "outputs": [],
   "source": []
  },
  {
   "cell_type": "code",
   "execution_count": null,
   "id": "0a06ae78",
   "metadata": {},
   "outputs": [],
   "source": []
  },
  {
   "cell_type": "code",
   "execution_count": null,
   "id": "3432477e",
   "metadata": {},
   "outputs": [],
   "source": []
  },
  {
   "cell_type": "code",
   "execution_count": null,
   "id": "18ebec46",
   "metadata": {},
   "outputs": [],
   "source": []
  },
  {
   "cell_type": "code",
   "execution_count": null,
   "id": "711495e3",
   "metadata": {},
   "outputs": [],
   "source": []
  }
 ],
 "metadata": {
  "kernelspec": {
   "display_name": "Python 3 (ipykernel)",
   "language": "python",
   "name": "python3"
  },
  "language_info": {
   "codemirror_mode": {
    "name": "ipython",
    "version": 3
   },
   "file_extension": ".py",
   "mimetype": "text/x-python",
   "name": "python",
   "nbconvert_exporter": "python",
   "pygments_lexer": "ipython3",
   "version": "3.8.12"
  }
 },
 "nbformat": 4,
 "nbformat_minor": 5
}
