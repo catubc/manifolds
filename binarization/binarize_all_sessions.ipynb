{
 "cells": [
  {
   "cell_type": "code",
   "execution_count": 1,
   "id": "6668f038",
   "metadata": {},
   "outputs": [
    {
     "data": {
      "application/javascript": [
       "IPython.notebook.set_autosave_interval(180000)"
      ]
     },
     "metadata": {},
     "output_type": "display_data"
    },
    {
     "name": "stdout",
     "output_type": "stream",
     "text": [
      "Autosaving every 180 seconds\n"
     ]
    },
    {
     "data": {
      "text/html": [
       "<style>.container { width:100% !important; }</style>"
      ],
      "text/plain": [
       "<IPython.core.display.HTML object>"
      ]
     },
     "metadata": {},
     "output_type": "display_data"
    }
   ],
   "source": [
    "import matplotlib\n",
    "%matplotlib tk\n",
    "%autosave 180\n",
    "%load_ext autoreload\n",
    "%autoreload 2\n",
    "\n",
    "import nest_asyncio\n",
    "%config Completer.use_jedi = False\n",
    "\n",
    "#\n",
    "import matplotlib.pyplot as plt\n",
    "from IPython.core.display import display, HTML\n",
    "display(HTML(\"<style>.container { width:100% !important; }</style>\"))\n",
    "\n",
    "import scipy\n",
    "import numpy as np\n",
    "import pandas as pd\n",
    "import os\n",
    "\n",
    "import os\n",
    "os.chdir('..')\n",
    "\n",
    "from calcium import calcium\n",
    "from wheel import wheel\n",
    "from visualize import visualize\n",
    "from tqdm import trange\n",
    "\n",
    "\n",
    "from scipy.io import loadmat\n",
    "\n",
    "import umap\n",
    "\n",
    "from sklearn.decomposition import PCA\n",
    "import plotly.express as px\n",
    "from plotly.subplots import make_subplots\n",
    "import plotly.graph_objects as go\n",
    "\n",
    "# \n",
    "np.set_printoptions(suppress=True)\n"
   ]
  },
  {
   "cell_type": "code",
   "execution_count": 6,
   "id": "a0ef1999",
   "metadata": {
    "scrolled": true
   },
   "outputs": [
    {
     "name": "stdout",
     "output_type": "stream",
     "text": [
      "DON-006084 session:  20210519\n",
      "\n",
      "\n",
      "        self.F (fluorescence):  (531, 55740)\n",
      "         self.Fneu (neuropile):  (531, 55740)\n",
      "         self.iscell (cell classifier output):  (616, 2)\n",
      "         # of good cells:  (531,)\n",
      "         self.ops:  ()\n",
      "         self.spks (deconnvoved spikes):  (531, 55740)\n",
      "         self.stat (footprints?):  (531,)\n",
      "         mean std over all cells :  16.0\n"
     ]
    },
    {
     "name": "stderr",
     "output_type": "stream",
     "text": [
      "100%|████████████████████████████████████████████████████████████████████████████████| 531/531 [00:00<00:00, 948.51it/s]\n",
      "100%|████████████████████████████████████████████████████████████████████████████████| 531/531 [00:00<00:00, 604.24it/s]\n",
      "/home/cat/code/manifolds/calcium/calcium.py:366: VisibleDeprecationWarning: Creating an ndarray from ragged nested sequences (which is a list-or-tuple of lists-or-tuples-or ndarrays with different lengths or shapes) is deprecated. If you meant to do this, you must specify 'dtype=object' when creating the ndarray.\n",
      "  \n",
      "100%|████████████████████████████████████████████████████████████████████████████████| 531/531 [00:02<00:00, 225.80it/s]\n",
      "100%|████████████████████████████████████████████████████████████████████████████████| 531/531 [00:04<00:00, 116.44it/s]\n",
      "100%|████████████████████████████████████████████████████████████████████████████████| 531/531 [00:05<00:00, 105.79it/s]\n",
      "100%|█████████████████████████████████████████████████████████████████████████████████| 531/531 [00:07<00:00, 71.82it/s]\n"
     ]
    },
    {
     "name": "stdout",
     "output_type": "stream",
     "text": [
      "DON-006084 session:  20210520\n",
      "\n",
      "\n",
      "        self.F (fluorescence):  (584, 55740)\n",
      "         self.Fneu (neuropile):  (584, 55740)\n",
      "         self.iscell (cell classifier output):  (717, 2)\n",
      "         # of good cells:  (584,)\n",
      "         self.ops:  ()\n",
      "         self.spks (deconnvoved spikes):  (584, 55740)\n",
      "         self.stat (footprints?):  (584,)\n",
      "         mean std over all cells :  19.5\n"
     ]
    },
    {
     "name": "stderr",
     "output_type": "stream",
     "text": [
      "100%|████████████████████████████████████████████████████████████████████████████████| 584/584 [00:00<00:00, 983.05it/s]\n",
      "100%|████████████████████████████████████████████████████████████████████████████████| 584/584 [00:01<00:00, 504.98it/s]\n",
      "100%|████████████████████████████████████████████████████████████████████████████████| 584/584 [00:03<00:00, 176.27it/s]\n",
      "100%|████████████████████████████████████████████████████████████████████████████████| 584/584 [00:02<00:00, 214.61it/s]\n",
      "100%|█████████████████████████████████████████████████████████████████████████████████| 584/584 [00:08<00:00, 65.48it/s]\n",
      "100%|█████████████████████████████████████████████████████████████████████████████████| 584/584 [00:13<00:00, 44.64it/s]\n"
     ]
    },
    {
     "name": "stdout",
     "output_type": "stream",
     "text": [
      "DON-006084 session:  20210521\n",
      "\n",
      "\n",
      "        self.F (fluorescence):  (470, 55740)\n",
      "         self.Fneu (neuropile):  (470, 55740)\n",
      "         self.iscell (cell classifier output):  (643, 2)\n",
      "         # of good cells:  (470,)\n",
      "         self.ops:  ()\n",
      "         self.spks (deconnvoved spikes):  (470, 55740)\n",
      "         self.stat (footprints?):  (470,)\n",
      "         mean std over all cells :  21.0\n"
     ]
    },
    {
     "name": "stderr",
     "output_type": "stream",
     "text": [
      "100%|████████████████████████████████████████████████████████████████████████████████| 470/470 [00:00<00:00, 945.95it/s]\n",
      "100%|████████████████████████████████████████████████████████████████████████████████| 470/470 [00:00<00:00, 613.80it/s]\n",
      "100%|████████████████████████████████████████████████████████████████████████████████| 470/470 [00:02<00:00, 227.79it/s]\n",
      "100%|████████████████████████████████████████████████████████████████████████████████| 470/470 [00:02<00:00, 174.47it/s]\n",
      "100%|█████████████████████████████████████████████████████████████████████████████████| 470/470 [00:06<00:00, 72.81it/s]\n",
      "100%|█████████████████████████████████████████████████████████████████████████████████| 470/470 [00:09<00:00, 50.32it/s]\n"
     ]
    },
    {
     "name": "stdout",
     "output_type": "stream",
     "text": [
      "DON-006084 session:  20210522\n",
      "\n",
      "\n",
      "        self.F (fluorescence):  (503, 55740)\n",
      "         self.Fneu (neuropile):  (503, 55740)\n",
      "         self.iscell (cell classifier output):  (2594, 2)\n",
      "         # of good cells:  (503,)\n",
      "         self.ops:  ()\n",
      "         self.spks (deconnvoved spikes):  (503, 55740)\n",
      "         self.stat (footprints?):  (503,)\n",
      "         mean std over all cells :  15.5\n"
     ]
    },
    {
     "name": "stderr",
     "output_type": "stream",
     "text": [
      "100%|████████████████████████████████████████████████████████████████████████████████| 503/503 [00:00<00:00, 960.78it/s]\n",
      "100%|████████████████████████████████████████████████████████████████████████████████| 503/503 [00:01<00:00, 436.94it/s]\n",
      "100%|████████████████████████████████████████████████████████████████████████████████| 503/503 [00:02<00:00, 167.85it/s]\n",
      "100%|████████████████████████████████████████████████████████████████████████████████| 503/503 [00:03<00:00, 141.01it/s]\n",
      "100%|█████████████████████████████████████████████████████████████████████████████████| 503/503 [00:06<00:00, 75.31it/s]\n",
      "100%|█████████████████████████████████████████████████████████████████████████████████| 503/503 [00:09<00:00, 53.35it/s]\n"
     ]
    },
    {
     "name": "stdout",
     "output_type": "stream",
     "text": [
      "DON-006084 session:  20210523\n",
      "\n",
      "\n",
      "        self.F (fluorescence):  (545, 55740)\n",
      "         self.Fneu (neuropile):  (545, 55740)\n",
      "         self.iscell (cell classifier output):  (2282, 2)\n",
      "         # of good cells:  (545,)\n",
      "         self.ops:  ()\n",
      "         self.spks (deconnvoved spikes):  (545, 55740)\n",
      "         self.stat (footprints?):  (545,)\n",
      "         mean std over all cells :  18.0\n"
     ]
    },
    {
     "name": "stderr",
     "output_type": "stream",
     "text": [
      "100%|████████████████████████████████████████████████████████████████████████████████| 545/545 [00:00<00:00, 957.47it/s]\n",
      "100%|████████████████████████████████████████████████████████████████████████████████| 545/545 [00:00<00:00, 633.47it/s]\n",
      "100%|████████████████████████████████████████████████████████████████████████████████| 545/545 [00:02<00:00, 227.06it/s]\n",
      "100%|████████████████████████████████████████████████████████████████████████████████| 545/545 [00:03<00:00, 138.02it/s]\n",
      "100%|█████████████████████████████████████████████████████████████████████████████████| 545/545 [00:06<00:00, 83.52it/s]\n",
      "100%|█████████████████████████████████████████████████████████████████████████████████| 545/545 [00:09<00:00, 58.53it/s]\n"
     ]
    },
    {
     "name": "stdout",
     "output_type": "stream",
     "text": [
      "DON-006084 session:  20210524\n",
      "\n",
      "\n",
      "        self.F (fluorescence):  (291, 55740)\n",
      "         self.Fneu (neuropile):  (291, 55740)\n",
      "         self.iscell (cell classifier output):  (386, 2)\n",
      "         # of good cells:  (291,)\n",
      "         self.ops:  ()\n",
      "         self.spks (deconnvoved spikes):  (291, 55740)\n",
      "         self.stat (footprints?):  (291,)\n",
      "         mean std over all cells :  14.5\n"
     ]
    },
    {
     "name": "stderr",
     "output_type": "stream",
     "text": [
      "100%|████████████████████████████████████████████████████████████████████████████████| 291/291 [00:00<00:00, 954.28it/s]\n",
      "100%|████████████████████████████████████████████████████████████████████████████████| 291/291 [00:00<00:00, 429.57it/s]\n",
      "100%|████████████████████████████████████████████████████████████████████████████████| 291/291 [00:02<00:00, 137.07it/s]\n",
      "100%|████████████████████████████████████████████████████████████████████████████████| 291/291 [00:02<00:00, 143.26it/s]\n",
      "100%|█████████████████████████████████████████████████████████████████████████████████| 291/291 [00:03<00:00, 90.83it/s]\n",
      "100%|█████████████████████████████████████████████████████████████████████████████████| 291/291 [00:04<00:00, 62.53it/s]\n"
     ]
    },
    {
     "name": "stdout",
     "output_type": "stream",
     "text": [
      "DON-006084 session:  20210525\n",
      "\n",
      "\n",
      "        self.F (fluorescence):  (462, 55740)\n",
      "         self.Fneu (neuropile):  (462, 55740)\n",
      "         self.iscell (cell classifier output):  (2991, 2)\n",
      "         # of good cells:  (462,)\n",
      "         self.ops:  ()\n",
      "         self.spks (deconnvoved spikes):  (462, 55740)\n",
      "         self.stat (footprints?):  (462,)\n",
      "         mean std over all cells :  20.0\n"
     ]
    },
    {
     "name": "stderr",
     "output_type": "stream",
     "text": [
      "100%|████████████████████████████████████████████████████████████████████████████████| 462/462 [00:00<00:00, 976.73it/s]\n",
      "100%|████████████████████████████████████████████████████████████████████████████████| 462/462 [00:00<00:00, 778.47it/s]\n",
      "100%|████████████████████████████████████████████████████████████████████████████████| 462/462 [00:01<00:00, 290.15it/s]\n",
      "100%|████████████████████████████████████████████████████████████████████████████████| 462/462 [00:03<00:00, 135.30it/s]\n",
      "100%|█████████████████████████████████████████████████████████████████████████████████| 462/462 [00:05<00:00, 87.32it/s]\n",
      "100%|█████████████████████████████████████████████████████████████████████████████████| 462/462 [00:07<00:00, 58.93it/s]\n"
     ]
    },
    {
     "name": "stdout",
     "output_type": "stream",
     "text": [
      "DON-006084 session:  20210526\n",
      "\n",
      "\n",
      "        self.F (fluorescence):  (268, 55740)\n",
      "         self.Fneu (neuropile):  (268, 55740)\n",
      "         self.iscell (cell classifier output):  (2399, 2)\n",
      "         # of good cells:  (268,)\n",
      "         self.ops:  ()\n",
      "         self.spks (deconnvoved spikes):  (268, 55740)\n",
      "         self.stat (footprints?):  (268,)\n",
      "         mean std over all cells :  19.5\n"
     ]
    },
    {
     "name": "stderr",
     "output_type": "stream",
     "text": [
      "100%|████████████████████████████████████████████████████████████████████████████████| 268/268 [00:00<00:00, 980.27it/s]\n",
      "100%|████████████████████████████████████████████████████████████████████████████████| 268/268 [00:00<00:00, 479.17it/s]\n",
      "100%|████████████████████████████████████████████████████████████████████████████████| 268/268 [00:01<00:00, 155.30it/s]\n",
      "100%|████████████████████████████████████████████████████████████████████████████████| 268/268 [00:01<00:00, 190.50it/s]\n",
      "100%|█████████████████████████████████████████████████████████████████████████████████| 268/268 [00:04<00:00, 56.91it/s]\n",
      "100%|█████████████████████████████████████████████████████████████████████████████████| 268/268 [00:06<00:00, 39.18it/s]\n"
     ]
    },
    {
     "name": "stdout",
     "output_type": "stream",
     "text": [
      "DON-006084 session:  20210527\n",
      "\n",
      "\n",
      "        self.F (fluorescence):  (480, 55740)\n",
      "         self.Fneu (neuropile):  (480, 55740)\n",
      "         self.iscell (cell classifier output):  (3659, 2)\n",
      "         # of good cells:  (480,)\n",
      "         self.ops:  ()\n",
      "         self.spks (deconnvoved spikes):  (480, 55740)\n",
      "         self.stat (footprints?):  (480,)\n",
      "         mean std over all cells :  27.0\n"
     ]
    },
    {
     "name": "stderr",
     "output_type": "stream",
     "text": [
      "100%|████████████████████████████████████████████████████████████████████████████████| 480/480 [00:00<00:00, 964.69it/s]\n",
      "100%|████████████████████████████████████████████████████████████████████████████████| 480/480 [00:00<00:00, 631.14it/s]\n",
      "100%|████████████████████████████████████████████████████████████████████████████████| 480/480 [00:02<00:00, 199.85it/s]\n",
      "100%|████████████████████████████████████████████████████████████████████████████████| 480/480 [00:02<00:00, 204.29it/s]\n",
      "100%|█████████████████████████████████████████████████████████████████████████████████| 480/480 [00:08<00:00, 54.41it/s]\n",
      "100%|█████████████████████████████████████████████████████████████████████████████████| 480/480 [00:12<00:00, 38.06it/s]\n"
     ]
    },
    {
     "name": "stdout",
     "output_type": "stream",
     "text": [
      "DON-006084 session:  20210528\n",
      "\n",
      "\n",
      "        self.F (fluorescence):  (393, 55740)\n",
      "         self.Fneu (neuropile):  (393, 55740)\n",
      "         self.iscell (cell classifier output):  (2425, 2)\n",
      "         # of good cells:  (393,)\n",
      "         self.ops:  ()\n",
      "         self.spks (deconnvoved spikes):  (393, 55740)\n",
      "         self.stat (footprints?):  (393,)\n",
      "         mean std over all cells :  18.0\n"
     ]
    },
    {
     "name": "stderr",
     "output_type": "stream",
     "text": [
      "100%|████████████████████████████████████████████████████████████████████████████████| 393/393 [00:00<00:00, 944.87it/s]\n",
      "100%|████████████████████████████████████████████████████████████████████████████████| 393/393 [00:00<00:00, 462.12it/s]\n",
      "100%|████████████████████████████████████████████████████████████████████████████████| 393/393 [00:02<00:00, 176.16it/s]\n",
      "100%|████████████████████████████████████████████████████████████████████████████████| 393/393 [00:03<00:00, 123.16it/s]\n",
      "100%|█████████████████████████████████████████████████████████████████████████████████| 393/393 [00:05<00:00, 71.16it/s]\n",
      "100%|█████████████████████████████████████████████████████████████████████████████████| 393/393 [00:08<00:00, 48.69it/s]\n"
     ]
    },
    {
     "name": "stdout",
     "output_type": "stream",
     "text": [
      "\n"
     ]
    }
   ],
   "source": [
    "####################################\n",
    "######### BINARIZE DATA ############\n",
    "####################################\n",
    "root_dir = '/media/cat/4TB/donato/'\n",
    "animal_ids = os.listdir(root_dir)\n",
    "animal_ids = ['DON-006084']\n",
    "\n",
    "# loop over all animals\n",
    "for animal_id in animal_ids:\n",
    "    \n",
    "    # \n",
    "    sessions = np.sort(os.listdir(os.path.join(root_dir,\n",
    "                                      animal_id)))\n",
    "    \n",
    "    # loop over all sessions\n",
    "    for session in sessions:\n",
    "        print (animal_id, \"session: \", session)\n",
    "\n",
    "        #\n",
    "        c = calcium.Calcium()\n",
    "        c.verbose = True\n",
    "        c.recompute = True\n",
    "        c.root_dir = root_dir\n",
    "        c.animal_id = animal_id\n",
    "        c.session = session\n",
    "        c.load_suite2p()\n",
    "\n",
    "        # Oasis/spike parameters\n",
    "        c.oasis_thresh_prefilter = 15                       # min oasis spike value that survives \n",
    "        c.min_thresh_std_oasis = .1                         # upphase binarizatino step: min std for binarization of smoothed oasis curves\n",
    "        c.min_width_event_oasis = 2                         # <--- min width of the window in frame times\n",
    "        c.min_event_amplitude = 1                           # oasis scaled spikes: float point scaling boolean events; minimum amplitude required (removes very small amplitude events)\n",
    "\n",
    "        # Fluorescence parameters\n",
    "        c.min_thresh_std_Fluorescence_onphase = 1.5         # onphase binarization step: min x std for binarization of Fluorescence events\n",
    "        c.min_thresh_std_Fluorescence_upphase = 1.5         # upphase binarization step: min x std for binarization of Fluorescence events\n",
    "        c.min_width_event_Fluorescence = 15                 # <--- min width of the window in frame times\n",
    "\n",
    "        # \n",
    "        c.binarize_fluorescence()\n",
    "\n",
    "    print ('')"
   ]
  },
  {
   "cell_type": "code",
   "execution_count": 2,
   "id": "23e6055c",
   "metadata": {
    "scrolled": true
   },
   "outputs": [
    {
     "name": "stdout",
     "output_type": "stream",
     "text": [
      "(393, 55740) (393, 55740)\n"
     ]
    },
    {
     "ename": "NameError",
     "evalue": "name 'c' is not defined",
     "output_type": "error",
     "traceback": [
      "\u001b[0;31m---------------------------------------------------------------------------\u001b[0m",
      "\u001b[0;31mNameError\u001b[0m                                 Traceback (most recent call last)",
      "\u001b[0;32m/tmp/ipykernel_210202/3496415195.py\u001b[0m in \u001b[0;36m<module>\u001b[0;34m\u001b[0m\n\u001b[1;32m     13\u001b[0m \u001b[0mplt\u001b[0m\u001b[0;34m.\u001b[0m\u001b[0mplot\u001b[0m\u001b[0;34m(\u001b[0m\u001b[0mpeaks\u001b[0m\u001b[0;34m[\u001b[0m\u001b[0mids\u001b[0m\u001b[0;34m]\u001b[0m\u001b[0;34m.\u001b[0m\u001b[0mT\u001b[0m\u001b[0;34m*\u001b[0m\u001b[0;36m1000\u001b[0m\u001b[0;34m)\u001b[0m\u001b[0;34m\u001b[0m\u001b[0;34m\u001b[0m\u001b[0m\n\u001b[1;32m     14\u001b[0m \u001b[0mplt\u001b[0m\u001b[0;34m.\u001b[0m\u001b[0mplot\u001b[0m\u001b[0;34m(\u001b[0m\u001b[0monphase\u001b[0m\u001b[0;34m[\u001b[0m\u001b[0mids\u001b[0m\u001b[0;34m]\u001b[0m\u001b[0;34m.\u001b[0m\u001b[0mT\u001b[0m\u001b[0;34m*\u001b[0m\u001b[0;36m1000\u001b[0m\u001b[0;34m)\u001b[0m\u001b[0;34m\u001b[0m\u001b[0;34m\u001b[0m\u001b[0m\n\u001b[0;32m---> 15\u001b[0;31m \u001b[0mplt\u001b[0m\u001b[0;34m.\u001b[0m\u001b[0mplot\u001b[0m\u001b[0;34m(\u001b[0m\u001b[0mc\u001b[0m\u001b[0;34m.\u001b[0m\u001b[0mF\u001b[0m\u001b[0;34m[\u001b[0m\u001b[0mids\u001b[0m\u001b[0;34m]\u001b[0m\u001b[0;34m.\u001b[0m\u001b[0mT\u001b[0m\u001b[0;34m)\u001b[0m\u001b[0;34m\u001b[0m\u001b[0;34m\u001b[0m\u001b[0m\n\u001b[0m\u001b[1;32m     16\u001b[0m \u001b[0mplt\u001b[0m\u001b[0;34m.\u001b[0m\u001b[0mshow\u001b[0m\u001b[0;34m(\u001b[0m\u001b[0;34m)\u001b[0m\u001b[0;34m\u001b[0m\u001b[0;34m\u001b[0m\u001b[0m\n",
      "\u001b[0;31mNameError\u001b[0m: name 'c' is not defined"
     ]
    }
   ],
   "source": [
    "data = np.load('/media/cat/4TB/donato/DON-006084/20210528/suite2p/plane0/binarized_traces.npz',\n",
    "               allow_pickle=True)\n",
    "\n",
    "onphase = data['binarized_onphase']\n",
    "peaks = data['binarized_peak']\n",
    "print (onphase.shape, peaks.shape)\n",
    "\n",
    "ids = np.arange(0, peaks.shape[0],100)\n",
    "ids = [390]\n",
    "\n",
    "# \n",
    "fig = plt.figure()\n",
    "plt.plot(peaks[ids].T*1000)\n",
    "plt.plot(onphase[ids].T*1000)\n",
    "plt.plot(c.F[ids].T)\n",
    "plt.show()"
   ]
  },
  {
   "cell_type": "code",
   "execution_count": 10,
   "id": "b044b4a4",
   "metadata": {},
   "outputs": [
    {
     "name": "stdout",
     "output_type": "stream",
     "text": [
      "(531, 55740)\n"
     ]
    }
   ],
   "source": [
    "print (c.F.shape)"
   ]
  },
  {
   "cell_type": "code",
   "execution_count": null,
   "id": "3d87dfb0",
   "metadata": {},
   "outputs": [],
   "source": []
  },
  {
   "cell_type": "code",
   "execution_count": null,
   "id": "669aaeda",
   "metadata": {},
   "outputs": [],
   "source": []
  },
  {
   "cell_type": "code",
   "execution_count": null,
   "id": "6b5d2703",
   "metadata": {},
   "outputs": [],
   "source": []
  },
  {
   "cell_type": "code",
   "execution_count": null,
   "id": "957416ea",
   "metadata": {},
   "outputs": [],
   "source": []
  },
  {
   "cell_type": "code",
   "execution_count": null,
   "id": "6d38d39b",
   "metadata": {},
   "outputs": [],
   "source": []
  },
  {
   "cell_type": "code",
   "execution_count": null,
   "id": "31e5542d",
   "metadata": {},
   "outputs": [],
   "source": []
  },
  {
   "cell_type": "code",
   "execution_count": null,
   "id": "d182750e",
   "metadata": {},
   "outputs": [],
   "source": []
  },
  {
   "cell_type": "code",
   "execution_count": null,
   "id": "3167d2f3",
   "metadata": {},
   "outputs": [],
   "source": []
  },
  {
   "cell_type": "code",
   "execution_count": null,
   "id": "9d81402c",
   "metadata": {},
   "outputs": [],
   "source": []
  },
  {
   "cell_type": "code",
   "execution_count": null,
   "id": "f3210817",
   "metadata": {},
   "outputs": [],
   "source": []
  },
  {
   "cell_type": "code",
   "execution_count": null,
   "id": "d11436e3",
   "metadata": {},
   "outputs": [],
   "source": []
  },
  {
   "cell_type": "code",
   "execution_count": null,
   "id": "f1a90c9d",
   "metadata": {},
   "outputs": [],
   "source": []
  },
  {
   "cell_type": "code",
   "execution_count": null,
   "id": "d07efe25",
   "metadata": {},
   "outputs": [],
   "source": []
  },
  {
   "cell_type": "code",
   "execution_count": null,
   "id": "7ba5ccda",
   "metadata": {},
   "outputs": [],
   "source": [
    "\n",
    "    "
   ]
  },
  {
   "cell_type": "code",
   "execution_count": null,
   "id": "3ff2530e",
   "metadata": {},
   "outputs": [],
   "source": []
  },
  {
   "cell_type": "code",
   "execution_count": null,
   "id": "760c05b2",
   "metadata": {},
   "outputs": [],
   "source": []
  },
  {
   "cell_type": "code",
   "execution_count": null,
   "id": "f7080cd6",
   "metadata": {},
   "outputs": [],
   "source": []
  }
 ],
 "metadata": {
  "kernelspec": {
   "display_name": "Python 3 (ipykernel)",
   "language": "python",
   "name": "python3"
  },
  "language_info": {
   "codemirror_mode": {
    "name": "ipython",
    "version": 3
   },
   "file_extension": ".py",
   "mimetype": "text/x-python",
   "name": "python",
   "nbconvert_exporter": "python",
   "pygments_lexer": "ipython3",
   "version": "3.8.12"
  }
 },
 "nbformat": 4,
 "nbformat_minor": 5
}
