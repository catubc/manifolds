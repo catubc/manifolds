{
 "cells": [
  {
   "cell_type": "code",
   "execution_count": 1,
   "id": "6668f038",
   "metadata": {},
   "outputs": [
    {
     "data": {
      "application/javascript": [
       "IPython.notebook.set_autosave_interval(180000)"
      ]
     },
     "metadata": {},
     "output_type": "display_data"
    },
    {
     "name": "stdout",
     "output_type": "stream",
     "text": [
      "Autosaving every 180 seconds\n"
     ]
    },
    {
     "data": {
      "text/html": [
       "<style>.container { width:100% !important; }</style>"
      ],
      "text/plain": [
       "<IPython.core.display.HTML object>"
      ]
     },
     "metadata": {},
     "output_type": "display_data"
    }
   ],
   "source": [
    "import matplotlib\n",
    "%matplotlib tk\n",
    "%autosave 180\n",
    "%load_ext autoreload\n",
    "%autoreload 2\n",
    "\n",
    "import nest_asyncio\n",
    "%config Completer.use_jedi = False\n",
    "\n",
    "#\n",
    "import matplotlib.pyplot as plt\n",
    "from IPython.core.display import display, HTML\n",
    "display(HTML(\"<style>.container { width:100% !important; }</style>\"))\n",
    "\n",
    "import scipy\n",
    "import numpy as np\n",
    "import pandas as pd\n",
    "import os\n",
    "\n",
    "import os\n",
    "os.chdir('..')\n",
    "\n",
    "from calcium import calcium\n",
    "from wheel import wheel\n",
    "from visualize import visualize\n",
    "from tqdm import trange\n",
    "\n",
    "import parmap\n",
    "from scipy.io import loadmat\n",
    "\n",
    "import umap\n",
    "\n",
    "from sklearn.decomposition import PCA\n",
    "import plotly.express as px\n",
    "from plotly.subplots import make_subplots\n",
    "import plotly.graph_objects as go\n",
    "\n",
    "# \n",
    "np.set_printoptions(suppress=True)\n"
   ]
  },
  {
   "cell_type": "code",
   "execution_count": 4,
   "id": "a0ef1999",
   "metadata": {
    "scrolled": true
   },
   "outputs": [
    {
     "name": "stdout",
     "output_type": "stream",
     "text": [
      "DON-006084 session: DON-006085  20210519session: \n",
      " \n",
      "20210519\n",
      "\n",
      "\n",
      "\n",
      "DON-002865DON-006087"
     ]
    },
    {
     "data": {
      "application/vnd.jupyter.widget-view+json": {
       "model_id": "53ae2c7cbc094f56a4deb682988c279d",
       "version_major": 2,
       "version_minor": 0
      },
      "text/plain": [
       "  0%|          | 0/6 [00:00<?, ?it/s]"
      ]
     },
     "metadata": {},
     "output_type": "display_data"
    },
    {
     "name": "stdout",
     "output_type": "stream",
     "text": [
      " session:   session: DON-002865_20210210\n",
      " \n",
      "\n",
      "20210524\n",
      "\n",
      "\n",
      "DON-006087 session:  20210525\n",
      "\n",
      "\n",
      "DON-006084 session:  20210520\n",
      "\n",
      "\n",
      "DON-006087 session:  20210526\n",
      "\n",
      "\n",
      "DON-006084 session:  20210521\n",
      "\n",
      "\n",
      "DON-006087 session:  20210527\n",
      "\n",
      "\n",
      "DON-006084 session:  20210522\n",
      "\n",
      "\n",
      "DON-006085 session:  20210520\n",
      "\n",
      "\n",
      "DON-002865 session:  DON-002865_20210211\n",
      "\n",
      "\n",
      "DON-006087 session:  20210528\n",
      "\n",
      "\n",
      "DON-002865 session:  DON-002865_20210212\n",
      "\n",
      "\n",
      "DON-006087 session:  20210529\n",
      "\n",
      "\n",
      "DON-006084 session:  20210523\n",
      "\n",
      "\n",
      "DON-006085 session:  20210521\n",
      "\n",
      "\n",
      "DON-002865 session:  DON-002865_20210213\n",
      "\n",
      "\n",
      "DON-006085 session:  20210522\n",
      "\n",
      "\n",
      "DON-006087 session:  20210530\n",
      "\n",
      "\n",
      "DON-002865 session:  DON-002865_20210214\n",
      "\n",
      "\n",
      "DON-006084 session:  20210524\n",
      "\n",
      "\n",
      "DON-006084 session:  20210525\n",
      "\n",
      "\n",
      "DON-006087 session:  20210531\n",
      "\n",
      "\n",
      "DON-006085 session:  20210523\n",
      "\n",
      "\n",
      "DON-002865 session:  DON-002865_20210215\n",
      "\n",
      "\n",
      "DON-002865 session:  DON-002865_20210216\n",
      "\n",
      "\n",
      "DON-002865 session:  DON-002865_20210217\n",
      "\n",
      "\n",
      "DON-002865 session:  DON-002865_20210218\n",
      "\n",
      "\n",
      "DON-006087 session:  20210601\n",
      "\n",
      "\n",
      "DON-002865 session:  DON-002865_20210219\n",
      "\n",
      "\n",
      "DON-002865 session:  not_processed\n",
      "\n",
      "\n",
      "\n",
      "DON-003165 session:  DON-003165_20210211\n",
      "\n",
      "\n",
      "DON-006085 session:  20210524\n",
      "\n",
      "\n",
      "DON-006084 session:  20210526\n",
      "\n",
      "\n",
      "DON-006087 session:  20210602\n",
      "\n",
      "\n",
      "\n",
      "DON-003343 session:  DON-003343_20210212\n",
      "\n",
      "\n",
      "DON-003165 session:  DON-003165_20210213\n",
      "\n",
      "\n",
      "DON-003343 session:  DON-003343_20210213\n",
      "\n",
      "\n",
      "DON-003165 session:  DON-003165_20210215\n",
      "\n",
      "\n",
      "DON-003165 session:  DON-003165_20210216\n",
      "\n",
      "\n",
      "DON-003343 session:  DON-003343_20210214\n",
      "\n",
      "\n",
      "DON-006084 session:  20210527\n",
      "\n",
      "\n",
      "DON-006085 session:  20210525\n",
      "\n",
      "\n",
      "DON-003165 session:  DON-003165_20210217\n",
      "\n",
      "\n",
      "DON-003343 session:  DON-003343_20210215\n",
      "\n",
      "\n",
      "DON-003165 session:  DON-003165_20210218\n",
      "\n",
      "\n",
      "DON-003165 session:  DON-003165_20210219\n",
      "\n",
      "\n",
      "DON-003165 session:  DON-003165_20210220\n",
      "\n",
      "\n",
      "DON-003165 session:  DON-003165_20210222\n",
      "\n",
      "\n",
      "DON-003165 session:  DON-003165_20210223\n",
      "\n",
      "\n",
      "DON-003165 session:  Ttracking DON-003165\n",
      "\n",
      "\n",
      "DON-003165 session:  not_cleanedup\n",
      "\n",
      "\n",
      "\n",
      "DON-006085 session:  20210526\n",
      "\n",
      "\n",
      "DON-003343 session:  DON-003343_20210216\n",
      "\n",
      "\n",
      "DON-003343 session:  DON-003343_20210217\n",
      "\n",
      "\n",
      "DON-006084 session:  20210528\n",
      "\n",
      "\n",
      "DON-003343 session:  DON-003343_20210218\n",
      "\n",
      "\n",
      "DON-003343 session:  DON-003343_20210219\n",
      "\n",
      "\n",
      "DON-006085 session:  20210527\n",
      "\n",
      "\n",
      "DON-003343 session:  DON-003343_20210220\n",
      "\n",
      "\n",
      "DON-003343 session:  DON-003343_20210221\n",
      "\n",
      "\n",
      "DON-003343 session:  not_cleanedup\n",
      "\n",
      "\n",
      "\n",
      "\n",
      "DON-006085 session:  20210528\n",
      "\n",
      "\n",
      "\n"
     ]
    },
    {
     "data": {
      "text/plain": [
       "[None, None, None, None, None, None]"
      ]
     },
     "execution_count": 4,
     "metadata": {},
     "output_type": "execute_result"
    }
   ],
   "source": [
    "####################################\n",
    "######### BINARIZE DATA ############\n",
    "####################################\n",
    "root_dir = '/media/cat/4TB/donato/'\n",
    "animal_ids = os.listdir(root_dir)\n",
    "animal_ids = ['DON-006084',\n",
    "              'DON-006085',\n",
    "              'DON-006087',\n",
    "              'DON-002865',\n",
    "              'DON-003165',\n",
    "              'DON-003343'\n",
    "             ]\n",
    "\n",
    "def binarize_animal(animal_id,\n",
    "                   root_dir):\n",
    "\n",
    "    # \n",
    "    sessions = np.sort(os.listdir(os.path.join(root_dir,\n",
    "                                      animal_id)))\n",
    "    \n",
    "    # loop over all sessions\n",
    "    for session in sessions:\n",
    "\n",
    "        # try processing data\n",
    "        try:\n",
    "            c = calcium.Calcium()\n",
    "            c.verbose = False\n",
    "            c.recompute = False\n",
    "            c.root_dir = root_dir\n",
    "            c.animal_id = animal_id\n",
    "            c.session = session\n",
    "            c.load_suite2p()\n",
    "\n",
    "            # Oasis/spike parameters\n",
    "            c.oasis_thresh_prefilter = 15                       # min oasis spike value that survives \n",
    "            c.min_thresh_std_oasis = .1                         # upphase binarizatino step: min std for binarization of smoothed oasis curves\n",
    "            c.min_width_event_oasis = 2                         # <--- min width of the window in frame times\n",
    "            c.min_event_amplitude = 1                           # oasis scaled spikes: float point scaling boolean events; minimum amplitude required (removes very small amplitude events)\n",
    "\n",
    "            # Fluorescence parameters\n",
    "            c.min_thresh_std_Fluorescence_onphase = 1.5         # onphase binarization step: min x std for binarization of Fluorescence events\n",
    "            c.min_thresh_std_Fluorescence_upphase = 1.5         # upphase binarization step: min x std for binarization of Fluorescence events\n",
    "            c.min_width_event_Fluorescence = 15                 # <--- min width of the window in frame times\n",
    "            \n",
    "            # \n",
    "            c.binarize_fluorescence()\n",
    "        except:\n",
    "            pass\n",
    "\n",
    "# \n",
    "parmap.map(binarize_animal, \n",
    "           animal_ids, \n",
    "           root_dir,\n",
    "           pm_processes=4,\n",
    "           pm_pbar=True)\n"
   ]
  },
  {
   "cell_type": "code",
   "execution_count": 2,
   "id": "23e6055c",
   "metadata": {
    "scrolled": true
   },
   "outputs": [
    {
     "name": "stdout",
     "output_type": "stream",
     "text": [
      "(393, 55740) (393, 55740)\n"
     ]
    },
    {
     "ename": "NameError",
     "evalue": "name 'c' is not defined",
     "output_type": "error",
     "traceback": [
      "\u001b[0;31m---------------------------------------------------------------------------\u001b[0m",
      "\u001b[0;31mNameError\u001b[0m                                 Traceback (most recent call last)",
      "\u001b[0;32m/tmp/ipykernel_210202/3496415195.py\u001b[0m in \u001b[0;36m<module>\u001b[0;34m\u001b[0m\n\u001b[1;32m     13\u001b[0m \u001b[0mplt\u001b[0m\u001b[0;34m.\u001b[0m\u001b[0mplot\u001b[0m\u001b[0;34m(\u001b[0m\u001b[0mpeaks\u001b[0m\u001b[0;34m[\u001b[0m\u001b[0mids\u001b[0m\u001b[0;34m]\u001b[0m\u001b[0;34m.\u001b[0m\u001b[0mT\u001b[0m\u001b[0;34m*\u001b[0m\u001b[0;36m1000\u001b[0m\u001b[0;34m)\u001b[0m\u001b[0;34m\u001b[0m\u001b[0;34m\u001b[0m\u001b[0m\n\u001b[1;32m     14\u001b[0m \u001b[0mplt\u001b[0m\u001b[0;34m.\u001b[0m\u001b[0mplot\u001b[0m\u001b[0;34m(\u001b[0m\u001b[0monphase\u001b[0m\u001b[0;34m[\u001b[0m\u001b[0mids\u001b[0m\u001b[0;34m]\u001b[0m\u001b[0;34m.\u001b[0m\u001b[0mT\u001b[0m\u001b[0;34m*\u001b[0m\u001b[0;36m1000\u001b[0m\u001b[0;34m)\u001b[0m\u001b[0;34m\u001b[0m\u001b[0;34m\u001b[0m\u001b[0m\n\u001b[0;32m---> 15\u001b[0;31m \u001b[0mplt\u001b[0m\u001b[0;34m.\u001b[0m\u001b[0mplot\u001b[0m\u001b[0;34m(\u001b[0m\u001b[0mc\u001b[0m\u001b[0;34m.\u001b[0m\u001b[0mF\u001b[0m\u001b[0;34m[\u001b[0m\u001b[0mids\u001b[0m\u001b[0;34m]\u001b[0m\u001b[0;34m.\u001b[0m\u001b[0mT\u001b[0m\u001b[0;34m)\u001b[0m\u001b[0;34m\u001b[0m\u001b[0;34m\u001b[0m\u001b[0m\n\u001b[0m\u001b[1;32m     16\u001b[0m \u001b[0mplt\u001b[0m\u001b[0;34m.\u001b[0m\u001b[0mshow\u001b[0m\u001b[0;34m(\u001b[0m\u001b[0;34m)\u001b[0m\u001b[0;34m\u001b[0m\u001b[0;34m\u001b[0m\u001b[0m\n",
      "\u001b[0;31mNameError\u001b[0m: name 'c' is not defined"
     ]
    }
   ],
   "source": [
    "data = np.load('/media/cat/4TB/donato/DON-006084/20210528/suite2p/plane0/binarized_traces.npz',\n",
    "               allow_pickle=True)\n",
    "\n",
    "onphase = data['binarized_onphase']\n",
    "peaks = data['binarized_peak']\n",
    "print (onphase.shape, peaks.shape)\n",
    "\n",
    "ids = np.arange(0, peaks.shape[0],100)\n",
    "ids = [390]\n",
    "\n",
    "# \n",
    "fig = plt.figure()\n",
    "plt.plot(peaks[ids].T*1000)\n",
    "plt.plot(onphase[ids].T*1000)\n",
    "plt.plot(c.F[ids].T)\n",
    "plt.show()"
   ]
  },
  {
   "cell_type": "code",
   "execution_count": 10,
   "id": "b044b4a4",
   "metadata": {},
   "outputs": [
    {
     "name": "stdout",
     "output_type": "stream",
     "text": [
      "(531, 55740)\n"
     ]
    }
   ],
   "source": [
    "print (c.F.shape)"
   ]
  },
  {
   "cell_type": "code",
   "execution_count": null,
   "id": "3d87dfb0",
   "metadata": {},
   "outputs": [],
   "source": []
  },
  {
   "cell_type": "code",
   "execution_count": null,
   "id": "669aaeda",
   "metadata": {},
   "outputs": [],
   "source": []
  },
  {
   "cell_type": "code",
   "execution_count": null,
   "id": "6b5d2703",
   "metadata": {},
   "outputs": [],
   "source": []
  },
  {
   "cell_type": "code",
   "execution_count": null,
   "id": "957416ea",
   "metadata": {},
   "outputs": [],
   "source": []
  },
  {
   "cell_type": "code",
   "execution_count": null,
   "id": "6d38d39b",
   "metadata": {},
   "outputs": [],
   "source": []
  },
  {
   "cell_type": "code",
   "execution_count": null,
   "id": "31e5542d",
   "metadata": {},
   "outputs": [],
   "source": []
  },
  {
   "cell_type": "code",
   "execution_count": null,
   "id": "d182750e",
   "metadata": {},
   "outputs": [],
   "source": []
  },
  {
   "cell_type": "code",
   "execution_count": null,
   "id": "3167d2f3",
   "metadata": {},
   "outputs": [],
   "source": []
  },
  {
   "cell_type": "code",
   "execution_count": null,
   "id": "9d81402c",
   "metadata": {},
   "outputs": [],
   "source": []
  },
  {
   "cell_type": "code",
   "execution_count": null,
   "id": "f3210817",
   "metadata": {},
   "outputs": [],
   "source": []
  },
  {
   "cell_type": "code",
   "execution_count": null,
   "id": "d11436e3",
   "metadata": {},
   "outputs": [],
   "source": []
  },
  {
   "cell_type": "code",
   "execution_count": null,
   "id": "f1a90c9d",
   "metadata": {},
   "outputs": [],
   "source": []
  },
  {
   "cell_type": "code",
   "execution_count": null,
   "id": "d07efe25",
   "metadata": {},
   "outputs": [],
   "source": []
  },
  {
   "cell_type": "code",
   "execution_count": null,
   "id": "7ba5ccda",
   "metadata": {},
   "outputs": [],
   "source": [
    "\n",
    "    "
   ]
  },
  {
   "cell_type": "code",
   "execution_count": null,
   "id": "3ff2530e",
   "metadata": {},
   "outputs": [],
   "source": []
  },
  {
   "cell_type": "code",
   "execution_count": null,
   "id": "760c05b2",
   "metadata": {},
   "outputs": [],
   "source": []
  },
  {
   "cell_type": "code",
   "execution_count": null,
   "id": "f7080cd6",
   "metadata": {},
   "outputs": [],
   "source": []
  }
 ],
 "metadata": {
  "kernelspec": {
   "display_name": "Python 3 (ipykernel)",
   "language": "python",
   "name": "python3"
  },
  "language_info": {
   "codemirror_mode": {
    "name": "ipython",
    "version": 3
   },
   "file_extension": ".py",
   "mimetype": "text/x-python",
   "name": "python",
   "nbconvert_exporter": "python",
   "pygments_lexer": "ipython3",
   "version": "3.8.12"
  }
 },
 "nbformat": 4,
 "nbformat_minor": 5
}
