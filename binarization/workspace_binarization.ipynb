{
 "cells": [
  {
   "cell_type": "code",
   "execution_count": 1,
   "id": "6668f038",
   "metadata": {},
   "outputs": [
    {
     "data": {
      "application/javascript": [
       "IPython.notebook.set_autosave_interval(180000)"
      ]
     },
     "metadata": {},
     "output_type": "display_data"
    },
    {
     "name": "stdout",
     "output_type": "stream",
     "text": [
      "Autosaving every 180 seconds\n"
     ]
    },
    {
     "data": {
      "text/html": [
       "<style>.container { width:100% !important; }</style>"
      ],
      "text/plain": [
       "<IPython.core.display.HTML object>"
      ]
     },
     "metadata": {},
     "output_type": "display_data"
    }
   ],
   "source": [
    "import matplotlib\n",
    "%matplotlib tk\n",
    "%autosave 180\n",
    "%load_ext autoreload\n",
    "%autoreload 2\n",
    "\n",
    "import nest_asyncio\n",
    "%config Completer.use_jedi = False\n",
    "\n",
    "#\n",
    "import matplotlib.pyplot as plt\n",
    "from IPython.core.display import display, HTML\n",
    "display(HTML(\"<style>.container { width:100% !important; }</style>\"))\n",
    "\n",
    "import scipy\n",
    "import numpy as np\n",
    "import pandas as pd\n",
    "import os\n",
    "\n",
    "import os\n",
    "os.chdir('..')\n",
    "\n",
    "from calcium import calcium\n",
    "from wheel import wheel\n",
    "from visualize import visualize\n",
    "from tqdm import trange\n",
    "\n",
    "from scipy.io import loadmat\n",
    "\n",
    "import umap\n",
    "\n",
    "from sklearn.decomposition import PCA\n",
    "import plotly.express as px\n",
    "from plotly.subplots import make_subplots\n",
    "import plotly.graph_objects as go\n",
    "\n",
    "\n",
    "#\n",
    "from sklearn.cluster import DBSCAN\n",
    "from sklearn import metrics\n",
    "from sklearn.datasets import make_blobs\n",
    "from sklearn.preprocessing import StandardScaler\n",
    "\n",
    "\n",
    "#\n",
    "from tsnecuda import TSNE\n",
    "\n",
    "# \n",
    "np.set_printoptions(suppress=True)\n"
   ]
  },
  {
   "cell_type": "code",
   "execution_count": 25,
   "id": "9634fc06",
   "metadata": {
    "scrolled": true
   },
   "outputs": [
    {
     "name": "stdout",
     "output_type": "stream",
     "text": [
      "\n",
      "\n",
      "        self.F (fluorescence):  (751, 55740)\n",
      "         self.Fneu (neuropile):  (751, 55740)\n",
      "         self.iscell (cell classifier output):  (965, 2)\n",
      "         # of good cells:  (751,)\n",
      "         self.ops:  ()\n",
      "         self.spks (deconnvoved spikes):  (751, 55740)\n",
      "         self.stat (footprints?):  (751,)\n",
      "         mean std over all cells :  8.5\n"
     ]
    },
    {
     "name": "stderr",
     "output_type": "stream",
     "text": [
      "low pass filter: 100%|████████████████████████████████████████████████████████████████████████| 751/751 [00:00<00:00, 908.07it/s]\n",
      "binarizing continuous traces: 100%|███████████████████████████████████████████████████████████| 751/751 [00:02<00:00, 323.05it/s]\n",
      "/home/cat/code/manifolds/calcium/calcium.py:428: VisibleDeprecationWarning: Creating an ndarray from ragged nested sequences (which is a list-or-tuple of lists-or-tuples-or ndarrays with different lengths or shapes) is deprecated. If you meant to do this, you must specify 'dtype=object' when creating the ndarray.\n",
      "  locs = np.array(locs)\n",
      "binarizing continuous traces: 100%|████████████████████████████████████████████████████████████| 751/751 [00:10<00:00, 73.45it/s]\n",
      "convolving oasis with exponentional and filtering: 100%|██████████████████████████████████████| 751/751 [00:04<00:00, 175.56it/s]\n",
      "/home/cat/anaconda3/envs/manifolds/lib/python3.8/site-packages/numpy/lib/nanfunctions.py:1670: RuntimeWarning: Degrees of freedom <= 0 for slice.\n",
      "  var = nanvar(a, axis=axis, dtype=dtype, out=out, ddof=ddof,\n",
      "binarizing continuous traces: 100%|████████████████████████████████████████████████████████████| 751/751 [00:14<00:00, 52.61it/s]\n",
      "scaling binarized data: 100%|██████████████████████████████████████████████████████████████████| 751/751 [00:20<00:00, 36.35it/s]\n"
     ]
    }
   ],
   "source": [
    "####################################\n",
    "######### BINARIZE DATA ############\n",
    "###################################\n",
    "\n",
    "scale = 100\n",
    "\n",
    "# root_dir = '/media/cat/4TB/donato/laurenz/'\n",
    "# animal_id = 'DON-005099'\n",
    "# session = '20210609'\n",
    "\n",
    "# root_dir = '/media/cat/4TB/donato/steffen/'\n",
    "# animal_id = 'DON-004366'\n",
    "# session = '20210228'\n",
    "\n",
    "# root_dir = '/media/cat/4TB/donato/'\n",
    "# animal_id = 'DON-006084'\n",
    "# session = '20210519'\n",
    "\n",
    "root_dir = '/media/cat/4TB/donato/'\n",
    "animal_id = 'DON-003343'\n",
    "session = 'DON-003343_20210222'\n",
    "\n",
    "\n",
    "################################################## \n",
    "##################################################\n",
    "##################################################\n",
    "session_dir = os.path.join(root_dir, \n",
    "                           animal_id, \n",
    "                           session, 'suite2p','plane0')\n",
    "\n",
    "#\n",
    "c = calcium.Calcium()\n",
    "c.verbose = True\n",
    "c.recompute = True\n",
    "c.root_dir = root_dir\n",
    "c.animal_id = animal_id\n",
    "c.session = session\n",
    "c.load_suite2p()\n",
    "\n",
    "# Oasis/spike parameters\n",
    "c.oasis_thresh_prefilter = 5                       # min oasis spike value that survives \n",
    "c.min_thresh_std_oasis = .02                          # upphase binarizatino step: min std for binarization of smoothed oasis curves\n",
    "c.min_width_event_oasis = 2                              # <--- min width of the window in frame times\n",
    "c.min_event_amplitude = 1                           # oasis scaled spikes: float point scaling boolean events; minimum amplitude required (removes very small amplitude events)\n",
    "\n",
    "# Fluorescence parameters\n",
    "c.min_thresh_std_Fluorescence_onphase = 1.5         # onphase binarization step: min x std for binarization of Fluorescence events\n",
    "c.min_thresh_std_Fluorescence_upphase = 1.5         # upphase binarization step: min x std for binarization of Fluorescence events\n",
    "c.min_width_event_Fluorescence = 15                              # <--- min width of the window in frame times\n",
    "\n",
    "\n",
    "# select a cell\n",
    "selected_cell = np.arange(c.F.shape[0])\n",
    "selected_cell = 0\n",
    "c.cell_name = animal_id+\" \" +session + \" cell: \"+ str(selected_cell)\n",
    "\n",
    "c.load_binarization()\n",
    "\n",
    "# if c.recompute==True:\n",
    "#     c.F = c.F[selected_cell][None]\n",
    "#     c.F_filtered = c.F_filtered[selected_cell][None]\n",
    "#     c.spks = c.spks[selected_cell][None]\n",
    "#     selected_cell = 0\n",
    "\n",
    "#     # run binarization\n",
    "#     c.binarize_fluorescence()\n",
    "\n",
    "\n",
    "    \n",
    "##################################################\n",
    "############### START PLOTTING ###################\n",
    "##################################################\n",
    "fig = plt.figure()\n",
    "plt.style.use(\"dark_background\")\n",
    "\n",
    "\n",
    "##################################################\n",
    "############ PLOT RAW FLUORESCENCE ###############\n",
    "##################################################\n",
    "c.plot_traces(c.F - np.median(c.F,axis=1)[None].T, \n",
    "              [selected_cell], \n",
    "              'raw F',\n",
    "              'cyan',\n",
    "              .3,\n",
    "              1\n",
    "                 )\n",
    "\n",
    "####################################################\n",
    "########## PLOTFILTERED FLUORESCENCE ###############\n",
    "####################################################\n",
    "if True:\n",
    "    c.plot_traces(c.F_filtered, \n",
    "                  [selected_cell], \n",
    "                  'filtered F ',\n",
    "                  'cyan',\n",
    "                  1,\n",
    "                  2\n",
    "                 )\n",
    "\n",
    "####################################################\n",
    "######## PLOT BINARIZED FLUORESCENCE ###############\n",
    "####################################################\n",
    "if True:\n",
    "    c.plot_traces(c.F_onphase_bin*40,\n",
    "                  [selected_cell], 'Fluoresence ONPHASE',\n",
    "                 'red',\n",
    "                  0.5,\n",
    "                  6)\n",
    "    # \n",
    "    c.plot_traces(c.F_onphase_bin*50,\n",
    "              [selected_cell], 'Fluorescence UPPPHASE',\n",
    "             'mistyrose',\n",
    "              0.5,\n",
    "              6)\n",
    "\n",
    "\n",
    "#################################################\n",
    "############### PLOT RAW OASIS ##################\n",
    "#################################################\n",
    "if True:\n",
    "    c.plot_traces(c.spks*1,\n",
    "              [selected_cell],\n",
    "              'spikes (excluding prob < '+str(c.oasis_thresh_prefilter)+ \")\",\n",
    "              'white',\n",
    "              .9,\n",
    "              5\n",
    "    )\n",
    "\n",
    "\n",
    "#################################################\n",
    "####### PLOT OASIS X FLUORESCENCE ###############\n",
    "#################################################\n",
    "if True:\n",
    "    c.plot_traces(c.spks_x_F*.002,\n",
    "                  [selected_cell], \n",
    "                  'spikes * Fluorescence',\n",
    "                 'lightgreen',\n",
    "                 1,\n",
    "                 3)\n",
    "\n",
    "###################################################################\n",
    "########### PLOT BINARIZED + SCALED OASIS x FLUROESCENCE ##########\n",
    "###################################################################\n",
    "if True:\n",
    "    c.plot_traces(c.spks_smooth_bin*.5,\n",
    "                  [selected_cell], \n",
    "                  'binarized spikes (upphase)',\n",
    "                  'gold',\n",
    "                 .9,\n",
    "                 6)\n",
    "\n",
    "############################################ \n",
    "plt.legend(fontsize=20, ncol=3)\n",
    "#plt.xlim(1480,1500)\n",
    "plt.suptitle(c.cell_name)\n",
    "plt.show()\n",
    "\n",
    "\n"
   ]
  },
  {
   "cell_type": "code",
   "execution_count": 15,
   "id": "deee936c",
   "metadata": {},
   "outputs": [
    {
     "name": "stdout",
     "output_type": "stream",
     "text": [
      "(882, 55740)\n",
      "(882,)\n"
     ]
    }
   ],
   "source": [
    "############################################\n",
    "############################################\n",
    "############################################\n",
    "print (c.F.shape)\n",
    "stds = np.std(c.F,axis=1)\n",
    "print (stds.shape)\n",
    "y = np.histogram(stds, bins = np.arange(0,100,2))\n",
    "\n",
    "fig=plt.figure()\n",
    "plt.plot(y[1][:-1], y[0])\n",
    "plt.xlabel(\"Standard deviation of Fluorescence signal\")\n",
    "plt.ylabel(\"# of cells\")\n",
    "plt.suptitle(animal_id + \" - session: \"+session)\n",
    "plt.show()"
   ]
  },
  {
   "cell_type": "code",
   "execution_count": 141,
   "id": "4ff691fa",
   "metadata": {},
   "outputs": [
    {
     "name": "stdout",
     "output_type": "stream",
     "text": [
      "[938.6306  896.4506  888.8514  ... 894.6404  878.8259  857.12463]\n"
     ]
    }
   ],
   "source": [
    "###########################################################\n",
    "###########################################################\n",
    "###########################################################\n",
    "data = c.F[0]\n",
    "print (data)\n",
    "\n",
    "width = 5\n",
    "bins = np.arange(-1000,1000,width)\n",
    "#\n",
    "y = np.histogram(data, bins)\n",
    "\n",
    "argmax = np.argmax(y[0])\n",
    "data = data-(y[1][argmax])\n",
    "\n",
    "\n",
    "mean = np.mean(data)\n",
    "#data = data-mean\n",
    "std = np.std(data)\n",
    "\n",
    "\n",
    "\n",
    "fig = plt.figure()\n",
    "plt.plot([std,std],[0,1],'--')\n",
    "plt.plot([-std,-std],[0,1],'--')\n",
    "per = np.percentile(data, 95)\n",
    "plt.plot([per,per],[0,1],'--')\n",
    "\n",
    "\n",
    "\n",
    "\n",
    "############################\n",
    "plt.plot(y[1][:-1],y[0]/np.max(y[0]), c='cyan')\n",
    "\n",
    "#\n",
    "mu, sigma = scipy.stats.norm.fit(data)\n",
    "best_fit_line = scipy.stats.norm.pdf(bins, mu, sigma)\n",
    "best_fit_line = best_fit_line/np.max(best_fit_line)\n",
    "argmax1 = np.argmax(y[0])\n",
    "argmax2 = np.argmax(best_fit_line)\n",
    "shift = argmax1-argmax2\n",
    "plt.plot(bins, np.roll(best_fit_line,shift), c='red')\n",
    "#plt.semilogy()\n",
    "plt.ylim(bottom=0.001)\n",
    "plt.show()\n"
   ]
  },
  {
   "cell_type": "code",
   "execution_count": 57,
   "id": "ba80d9b5",
   "metadata": {},
   "outputs": [
    {
     "name": "stdout",
     "output_type": "stream",
     "text": [
      "(2, 1788)\n"
     ]
    }
   ],
   "source": [
    "     self.F (fluorescence):  (2131, 55740)\n",
    "         self.Fneu (neuropile):  (2131, 55740)\n",
    "         self.iscell (cell classifier output):  (2131, 2)\n",
    "         self.ops:  ()\n",
    "         self.spks (deconnvoved spikes):  (2131, 55740)\n",
    "         self.stat (footprints?):  (2131,)\n",
    "Number of cells:  (1316, 55740)\n",
    "    \n",
    "    \n",
    "data = np.load('/media/cat/4TB/donato/steffen/DON-004366/20210228/suite2p/plane0/iscell.npy')\n",
    "print (data.shape)\n"
   ]
  },
  {
   "cell_type": "code",
   "execution_count": 3,
   "id": "90b9db47",
   "metadata": {},
   "outputs": [
    {
     "name": "stdout",
     "output_type": "stream",
     "text": [
      "(36003, 43)\n",
      "[['scorer' 'DLC_resnet50_open_arena_white_floorSep8shuffle1_200000'\n",
      "  'DLC_resnet50_open_arena_white_floorSep8shuffle1_200000' ...\n",
      "  'DLC_resnet50_open_arena_white_floorSep8shuffle1_200000'\n",
      "  'DLC_resnet50_open_arena_white_floorSep8shuffle1_200000'\n",
      "  'DLC_resnet50_open_arena_white_floorSep8shuffle1_200000']\n",
      " ['bodyparts' 'snout' 'snout' ... 'tail_tip' 'tail_tip' 'tail_tip']\n",
      " ['coords' 'x' 'y' ... 'x' 'y' 'likelihood']\n",
      " ...\n",
      " ['35997' '1929.4710693359375' '1526.892822265625' ... '1547.64892578125'\n",
      "  '1165.356689453125' '0.9995512366294861']\n",
      " ['35998' '1929.422607421875' '1524.6185302734375' ...\n",
      "  '1547.0325927734375' '1169.79541015625' '0.999924898147583']\n",
      " ['35999' '1929.53369140625' '1525.818603515625' ... '1547.0889892578125'\n",
      "  '1175.59375' '0.9989499449729919']]\n",
      "(36000, 2)\n"
     ]
    }
   ],
   "source": [
    "####################################################################\n",
    "####################################################################\n",
    "####################################################################\n",
    "\n",
    "import csv\n",
    "\n",
    "fname = '/media/cat/4TB/donato/laurenz/DON-005099_20210609_TR-BSL_S1-ACQ_DLC.csv'\n",
    "\n",
    "def load_csv(fname):\n",
    "\n",
    "    from numpy import genfromtxt\n",
    "    locs = genfromtxt(fname, delimiter=',', dtype='str')\n",
    "\n",
    "    print (locs.shape)\n",
    "    print (locs)\n",
    "    \n",
    "    return locs\n",
    "\n",
    "\n",
    "locs = load_csv(fname)\n",
    "snout = np.float32(locs[3:,1:3])\n",
    "print (snout.shape)\n",
    "\n",
    "\n"
   ]
  },
  {
   "cell_type": "code",
   "execution_count": 42,
   "id": "620f03e8",
   "metadata": {},
   "outputs": [
    {
     "name": "stdout",
     "output_type": "stream",
     "text": [
      "F cells:  (203, 36026) times:  (36026,)\n"
     ]
    }
   ],
   "source": [
    "####################################################################\n",
    "####################################################################\n",
    "####################################################################\n",
    "fname = '/media/cat/4TB/donato/laurenz/DON-005099_20210609_TRACES_ACQ.csv'\n",
    "\n",
    "def load_traces(fname):\n",
    "    \n",
    "    from tqdm import tqdm, trange\n",
    "    \n",
    "    from numpy import genfromtxt\n",
    "    data = genfromtxt(fname, delimiter=',', dtype='str')\n",
    "\n",
    "    cells = np.float32(data[2:,1:]).T\n",
    "    times = np.float32(data[2:,0])\n",
    "    \n",
    "    \n",
    "    print (\"F cells: \", cells.shape, \"times: \", times.shape)\n",
    "    return cells, times\n",
    "\n",
    "F, F_times = load_traces(fname)\n"
   ]
  },
  {
   "cell_type": "code",
   "execution_count": 43,
   "id": "6848223b",
   "metadata": {},
   "outputs": [
    {
     "name": "stdout",
     "output_type": "stream",
     "text": [
      "[['Time (s)' ' Cell Name' ' Value']\n",
      " ['0.049961' ' C000' ' 0.713386']\n",
      " ['1.149103' ' C000' ' 0.4412095']\n",
      " ...\n",
      " ['1799.295454' ' C202' ' 3.850622']\n",
      " ['1799.445337' ' C202' ' 0.6576414']\n",
      " ['1799.59522' ' C202' ' 4.768372e-07']]\n"
     ]
    },
    {
     "name": "stderr",
     "output_type": "stream",
     "text": [
      "100%|███████████████████████████████████████████████████████████████████████████████████████████████████████████| 203/203 [01:20<00:00,  2.53it/s]"
     ]
    },
    {
     "name": "stdout",
     "output_type": "stream",
     "text": [
      "(203, 36026) [0.         0.00693464 0.1320609  0.1387267  0.1695642  0.1888984\n",
      " 0.2106581  0.2265217  0.2395024  0.2434065  0.2796097  0.3222035\n",
      " 0.3739147  0.3852084  0.4074621  0.4396152  0.4541229  0.458006\n",
      " 0.4976826  0.51337    0.52635    0.5421739  0.5680515  0.6075989\n",
      " 0.6173973  0.6930106  0.6932306  0.6969218  0.713386   0.7638311\n",
      " 0.7791519  0.7878394  0.8276944  0.8984568  0.9195459  0.9230608\n",
      " 0.9605875  0.9806085  1.008928   1.018462   1.112808   1.156048\n",
      " 1.158649   1.320862   1.532392   1.534408   1.68098    1.769603\n",
      " 1.769874   2.134558   2.252327   2.400465   2.607677   2.639043\n",
      " 2.705891   2.829987   3.891121   4.240234   4.389292   5.944993\n",
      " 7.084787   7.231406   9.448754  ]\n"
     ]
    },
    {
     "name": "stderr",
     "output_type": "stream",
     "text": [
      "\n"
     ]
    }
   ],
   "source": [
    "# \n",
    "\n",
    "def find_nearest_times(times1, times2):\n",
    "    \n",
    "    idx3 = []\n",
    "    for k in range(times2.shape[0]):\n",
    "        spk = times2[k]\n",
    "        time = np.argmin(np.abs(times1-spk))\n",
    "        idx3.append(time)\n",
    "        \n",
    "    return idx3\n",
    "    \n",
    "\n",
    "def load_spks(fname, F, F_times):\n",
    "    \n",
    "    from tqdm import tqdm, trange\n",
    "    \n",
    "    from numpy import genfromtxt\n",
    "    data = genfromtxt(fname, delimiter=',', dtype='str')\n",
    "    print (data)\n",
    "    \n",
    "    # \n",
    "    times = np.float32(data[1:,0])\n",
    "    cells = data[1:,1]\n",
    "    probs = np.float32(data[1:,2])\n",
    "    \n",
    "    #\n",
    "    cell_ids = np.sort(np.unique(cells))\n",
    "    \n",
    "    \n",
    "    spks = np.zeros((F.shape[0], F.shape[1]),'float32')\n",
    "    ctr=0\n",
    "    for cell_id in tqdm(cell_ids):\n",
    "\n",
    "        # find cell indexes\n",
    "        idx = np.where(cells==cell_id)[0]\n",
    "    \n",
    "        # grab probabilities at indexes\n",
    "        temp_probs = probs[idx]\n",
    "    \n",
    "        # get cell times\n",
    "        temp_time = times[idx]\n",
    "        \n",
    "        # convert cell times to \n",
    "        times_idx = find_nearest_times(F_times, temp_time)\n",
    "        \n",
    "        # insert probabilities\n",
    "        spks[ctr,times_idx] = temp_probs\n",
    "        \n",
    "        #\n",
    "        ctr+=1       \n",
    "    \n",
    "    return spks\n",
    "\n",
    "#\n",
    "fname = '/media/cat/4TB/donato/laurenz/DON-005099_20210609_DECSPK_ACQ.csv'\n",
    "spks = load_spks(fname, F, F_times)\n",
    "print (spks.shape)\n",
    "\n"
   ]
  },
  {
   "cell_type": "code",
   "execution_count": 46,
   "id": "7f48061d",
   "metadata": {},
   "outputs": [],
   "source": [
    "np.save('/media/cat/4TB/donato/laurenz/F.npy',F)\n",
    "np.save('/media/cat/4TB/donato/laurenz/spks.npy',F)\n"
   ]
  },
  {
   "cell_type": "code",
   "execution_count": 45,
   "id": "54ada86f",
   "metadata": {},
   "outputs": [],
   "source": [
    "#######################################################\n",
    "#######################################################\n",
    "#######################################################\n",
    "plt.plot(spks[0], label='oasis spikes')\n",
    "plt.plot(F[0], label='raw fluorescence')\n",
    "plt.legend()\n",
    "plt.show()"
   ]
  },
  {
   "cell_type": "code",
   "execution_count": 38,
   "id": "d22a1005",
   "metadata": {},
   "outputs": [
    {
     "name": "stdout",
     "output_type": "stream",
     "text": [
      "(6545,)\n",
      "(6545,)\n",
      "(36026,)\n"
     ]
    }
   ],
   "source": [
    "unit=0\n",
    "idx = np.where(spks[:,1]==unit)[0]\n",
    "print (idx.shape)\n",
    "print (spks[idx,0].shape)\n",
    "\n",
    "print (times.shape)"
   ]
  },
  {
   "cell_type": "code",
   "execution_count": null,
   "id": "5a04a7af",
   "metadata": {},
   "outputs": [],
   "source": []
  },
  {
   "cell_type": "code",
   "execution_count": 18,
   "id": "9eeef058",
   "metadata": {},
   "outputs": [
    {
     "name": "stdout",
     "output_type": "stream",
     "text": [
      "(1290907, 3) [  0.   1.   2.   3.   4.   5.   6.   7.   8.   9.  10.  11.  12.  13.\n",
      "  14.  15.  16.  17.  18.  19.  20.  21.  22.  23.  24.  25.  26.  27.\n",
      "  28.  29.  30.  31.  32.  33.  34.  35.  36.  37.  38.  39.  40.  41.\n",
      "  42.  43.  44.  45.  46.  47.  48.  49.  50.  51.  52.  53.  54.  55.\n",
      "  56.  57.  58.  59.  60.  61.  62.  63.  64.  65.  66.  67.  68.  69.\n",
      "  70.  71.  72.  73.  74.  75.  76.  77.  78.  79.  80.  81.  82.  83.\n",
      "  84.  85.  86.  87.  88.  89.  90.  91.  92.  93.  94.  95.  96.  97.\n",
      "  98.  99. 100. 101. 102. 103. 104. 105. 106. 107. 108. 109. 110. 111.\n",
      " 112. 113. 114. 115. 116. 117. 118. 119. 120. 121. 122. 123. 124. 125.\n",
      " 126. 127. 128. 129. 130. 131. 132. 133. 134. 135. 136. 137. 138. 139.\n",
      " 140. 141. 142. 143. 144. 145. 146. 147. 148. 149. 150. 151. 152. 153.\n",
      " 154. 155. 156. 157. 158. 159. 160. 161. 162. 163. 164. 165. 166. 167.\n",
      " 168. 169. 170. 171. 172. 173. 174. 175. 176. 177. 178. 179. 180. 181.\n",
      " 182. 183. 184. 185. 186. 187. 188. 189. 190. 191. 192. 193. 194. 195.\n",
      " 196. 197. 198. 199. 200. 201. 202.]\n"
     ]
    }
   ],
   "source": []
  },
  {
   "cell_type": "code",
   "execution_count": null,
   "id": "435dd77b",
   "metadata": {},
   "outputs": [],
   "source": []
  },
  {
   "cell_type": "code",
   "execution_count": null,
   "id": "62a8d329",
   "metadata": {},
   "outputs": [],
   "source": []
  },
  {
   "cell_type": "code",
   "execution_count": null,
   "id": "cfe8f03d",
   "metadata": {},
   "outputs": [],
   "source": []
  },
  {
   "cell_type": "code",
   "execution_count": null,
   "id": "4c66f8f2",
   "metadata": {},
   "outputs": [],
   "source": []
  },
  {
   "cell_type": "code",
   "execution_count": 63,
   "id": "05b22463",
   "metadata": {},
   "outputs": [
    {
     "name": "stdout",
     "output_type": "stream",
     "text": [
      "(584, 55740)\n",
      "(584, 55740)\n",
      "(584, 55740)\n",
      "(584, 55740)\n"
     ]
    }
   ],
   "source": [
    "#############################################\n",
    "####### COMPARE STEFFEN TO CAT METHOD #######\n",
    "#############################################\n",
    "\n",
    "from scipy.signal import butter, lfilter, freqz, filtfilt\n",
    "\n",
    "def butter_lowpass(cutoff, fs, order=5):\n",
    "    nyq = 0.5 * fs\n",
    "    normal_cutoff = cutoff / nyq\n",
    "    b, a = butter(order, normal_cutoff, btype='low', analog=False)\n",
    "    return b, a\n",
    "\n",
    "#\n",
    "def butter_lowpass_filter(data, cutoff, fs, order=5):\n",
    "    b, a = butter_lowpass(cutoff, fs, order=order)\n",
    "    y = filtfilt(b, a, data)\n",
    "    return y\n",
    "\n",
    "\n",
    "\n",
    "iscell = np.load('/media/cat/4TB/donato/DON-006084/20210520/suite2p/plane0/iscell.npy')\n",
    "idx = np.where(iscell[:,0])[0]\n",
    "\n",
    "#\n",
    "oasis = np.load('/media/cat/4TB/donato/DON-006084/20210520/suite2p/plane0/spks.npy')[idx]\n",
    "print (oasis.shape)\n",
    "\n",
    "#\n",
    "F = np.load('/media/cat/4TB/donato/DON-006084/20210520/suite2p/plane0/F.npy')\n",
    "F = F[idx]\n",
    "print (F.shape)\n",
    "\n",
    "steffen = np.load('/media/cat/4TB/donato/DON-006084/20210520/suite2p/plane0/20210520_steffen_binary.npy').T\n",
    "steffen = steffen[idx]\n",
    "print (steffen.shape)\n",
    "\n",
    "\n",
    "cat = np.load('/media/cat/4TB/donato/DON-006084/20210520/suite2p/plane0/binarized_traces.npz',allow_pickle=True)\n",
    "peaks = cat['binarized_peak']\n",
    "print (peaks.shape)\n",
    "\n",
    "cell = 500\n",
    "scale = 100\n",
    "fig=plt.figure()\n",
    "c.high_cutoff = 1\n",
    "t = np.arange(steffen.shape[1])/30.\n",
    "f = F[cell]-np.mean(F[cell])\n",
    "plt.plot(t, f,label='fluorescence', c='cyan')\n",
    "plt.plot(t, butter_lowpass_filter(f, 1, 30), label='fluorescence - filtered', c='cyan',\n",
    "        linewidth=2)\n",
    "\n",
    "#\n",
    "plt.plot(t, oasis[cell],label='oasis', c='white')\n",
    "plt.plot(t, butter_lowpass_filter(oasis[cell], 1, 30)*10,label='oasis-filtered', c='white',\n",
    "        linewidth=2)\n",
    "\n",
    "#\n",
    "plt.plot(t,steffen[cell]*scale*1.1, label='steffen', c='yellow', linewidth=2)\n",
    "plt.plot(t,peaks[cell]*scale, label='cat-peaks', c='pink', linewidth=2)\n",
    "plt.legend()\n",
    "plt.show()\n"
   ]
  },
  {
   "cell_type": "code",
   "execution_count": null,
   "id": "31e5542d",
   "metadata": {},
   "outputs": [],
   "source": []
  },
  {
   "cell_type": "code",
   "execution_count": null,
   "id": "d182750e",
   "metadata": {},
   "outputs": [],
   "source": []
  },
  {
   "cell_type": "code",
   "execution_count": null,
   "id": "3167d2f3",
   "metadata": {},
   "outputs": [],
   "source": []
  },
  {
   "cell_type": "code",
   "execution_count": null,
   "id": "9d81402c",
   "metadata": {},
   "outputs": [],
   "source": []
  },
  {
   "cell_type": "code",
   "execution_count": null,
   "id": "f3210817",
   "metadata": {},
   "outputs": [],
   "source": []
  },
  {
   "cell_type": "code",
   "execution_count": null,
   "id": "d11436e3",
   "metadata": {},
   "outputs": [],
   "source": []
  },
  {
   "cell_type": "code",
   "execution_count": null,
   "id": "f1a90c9d",
   "metadata": {},
   "outputs": [],
   "source": []
  },
  {
   "cell_type": "code",
   "execution_count": null,
   "id": "d07efe25",
   "metadata": {},
   "outputs": [],
   "source": []
  },
  {
   "cell_type": "code",
   "execution_count": null,
   "id": "a67b2975",
   "metadata": {},
   "outputs": [],
   "source": []
  },
  {
   "cell_type": "code",
   "execution_count": null,
   "id": "05111432",
   "metadata": {},
   "outputs": [],
   "source": []
  },
  {
   "cell_type": "code",
   "execution_count": null,
   "id": "1f8a4c8d",
   "metadata": {},
   "outputs": [],
   "source": []
  },
  {
   "cell_type": "code",
   "execution_count": null,
   "id": "8334a7d4",
   "metadata": {},
   "outputs": [],
   "source": []
  },
  {
   "cell_type": "code",
   "execution_count": null,
   "id": "3ff2530e",
   "metadata": {},
   "outputs": [],
   "source": []
  },
  {
   "cell_type": "code",
   "execution_count": null,
   "id": "760c05b2",
   "metadata": {},
   "outputs": [],
   "source": []
  },
  {
   "cell_type": "code",
   "execution_count": null,
   "id": "f7080cd6",
   "metadata": {},
   "outputs": [],
   "source": []
  }
 ],
 "metadata": {
  "kernelspec": {
   "display_name": "Python 3 (ipykernel)",
   "language": "python",
   "name": "python3"
  },
  "language_info": {
   "codemirror_mode": {
    "name": "ipython",
    "version": 3
   },
   "file_extension": ".py",
   "mimetype": "text/x-python",
   "name": "python",
   "nbconvert_exporter": "python",
   "pygments_lexer": "ipython3",
   "version": "3.8.12"
  }
 },
 "nbformat": 4,
 "nbformat_minor": 5
}
