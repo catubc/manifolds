{
 "cells": [
  {
   "cell_type": "code",
   "execution_count": 37,
   "id": "3e572e3b",
   "metadata": {},
   "outputs": [
    {
     "data": {
      "application/javascript": [
       "IPython.notebook.set_autosave_interval(180000)"
      ]
     },
     "metadata": {},
     "output_type": "display_data"
    },
    {
     "name": "stdout",
     "output_type": "stream",
     "text": [
      "Autosaving every 180 seconds\n",
      "The autoreload extension is already loaded. To reload it, use:\n",
      "  %reload_ext autoreload\n"
     ]
    },
    {
     "data": {
      "text/html": [
       "<style>.container { width:100% !important; }</style>"
      ],
      "text/plain": [
       "<IPython.core.display.HTML object>"
      ]
     },
     "metadata": {},
     "output_type": "display_data"
    }
   ],
   "source": [
    "import matplotlib\n",
    "%matplotlib tk\n",
    "%autosave 180\n",
    "%load_ext autoreload\n",
    "%autoreload 2\n",
    "\n",
    "import nest_asyncio\n",
    "%config Completer.use_jedi = False\n",
    "\n",
    "#\n",
    "import matplotlib.pyplot as plt\n",
    "from IPython.core.display import display, HTML\n",
    "display(HTML(\"<style>.container { width:100% !important; }</style>\"))\n",
    "\n",
    "\n",
    "from cuml.cluster import HDBSCAN\n",
    "\n",
    "import numpy as np\n",
    "from sklearn.decomposition import PCA\n",
    "import matplotlib.pyplot as plt\n",
    "\n",
    "\n",
    "from visualize import visualize\n",
    "import os"
   ]
  },
  {
   "cell_type": "code",
   "execution_count": 38,
   "id": "d1d90cd0",
   "metadata": {},
   "outputs": [
    {
     "name": "stdout",
     "output_type": "stream",
     "text": [
      "(55740, 3)\n"
     ]
    }
   ],
   "source": [
    "root_dir = '/media/cat/4TB/donato/'\n",
    "animal_id = 'DON-006084'\n",
    "session = '20210519'\n",
    "\n",
    "data = np.load(os.path.join(root_dir, \n",
    "                            animal_id,\n",
    "                            session,\n",
    "                            'suite2p',\n",
    "                            'plane0',\n",
    "                            'binarized_traces.npz'))\n",
    "X = data['binarized_peak'].T\n",
    "\n",
    "# \n",
    "pca = PCA(n_components=100)\n",
    "X_pca = pca.fit_transform(X)\n",
    "\n",
    "pc1 = 0\n",
    "pcs = np.arange(pc1,pc1+3,1)\n",
    "#pcs = np.arange(9,1)\n",
    "X_pca = X_pca[:,pcs]\n",
    "print (X_pca.shape)\n"
   ]
  },
  {
   "cell_type": "code",
   "execution_count": 26,
   "id": "dbad5d07",
   "metadata": {},
   "outputs": [
    {
     "name": "stdout",
     "output_type": "stream",
     "text": [
      "Label prop iterations: 20\n",
      "Label prop iterations: 9\n",
      "Label prop iterations: 11\n",
      "Label prop iterations: 6\n",
      "Label prop iterations: 2\n",
      "Iterations: 5\n",
      "13614,162,2539,25,294,2056\n",
      "Label prop iterations: 3\n",
      "Iterations: 1\n",
      "1862,52,302,8,55,102\n",
      "[-1  0  1  2  3  4  5  6  7  8  9 10 11 12]\n",
      "Noise shape:  (3216,)\n"
     ]
    }
   ],
   "source": [
    "###########################################\n",
    "############ RUN GPU DBSCAN ###############\n",
    "###########################################\n",
    "\n",
    "min_duration = 30\n",
    "model = HDBSCAN(\n",
    "                min_cluster_size=min_duration, \n",
    "                gen_min_span_tree=True,\n",
    "                cluster_selection_epsilon=0.05,\n",
    "               )\n",
    "\n",
    "# \n",
    "db = model.fit_predict(X_pca)\n",
    "\n",
    "print (np.unique(db))\n",
    "X_clean = X_pca.copy()\n",
    "\n",
    "db_clean = db.copy()\n",
    "for k in range(np.max(db_clean)):\n",
    "    idx = np.where(db_clean==k)[0]\n",
    "    #print (k, idx.shape)\n",
    "    # min duration \n",
    "    if idx.shape[0]<min_duration:\n",
    "        \n",
    "        X_clean = np.delete(X_clean, idx, axis=0)\n",
    "        db_clean = np.delete(db_clean, idx, axis=0)\n",
    "\n",
    "        \n",
    "# remove noise clusters\n",
    "idx = np.where(db_clean==-1)[0]\n",
    "print (\"Noise shape: \", idx.shape)\n",
    "X_clean = np.delete(X_clean, idx, axis=0)\n",
    "db_clean = np.delete(db_clean, idx, axis=0)\n",
    "\n",
    "# \n",
    "db_ordered = db_clean.copy()\n",
    "ctr=0\n",
    "rdn = np.arange(np.unique(db_clean).shape[0])\n",
    "rdn = np.random.choice(rdn,rdn.shape[0],replace=False)\n",
    "for k in np.unique(db_clean):\n",
    "    idx = np.where(db_clean==k)[0]\n",
    "    db_ordered[idx] = rdn[ctr]\n",
    "    ctr+=1"
   ]
  },
  {
   "cell_type": "code",
   "execution_count": 45,
   "id": "0be14474",
   "metadata": {},
   "outputs": [
    {
     "name": "stdout",
     "output_type": "stream",
     "text": [
      "(52524, 3) (55740,)\n"
     ]
    }
   ],
   "source": [
    "###########################################\n",
    "############ RUN GPU DBSCAN ###############\n",
    "###########################################\n",
    "\n",
    "print (X_clean.shape, db.shape)\n",
    "v = visualize.Visualize()\n",
    "\n",
    "size = 1\n",
    "fig = v.plot_scatter_3d( \n",
    "                       X_pca[:,:3], \n",
    "                       np.ones(X_pca.shape[0]), \n",
    "                       'clusters',\n",
    "                        'Greys',\n",
    "                       1,\n",
    "                       1,\n",
    "                       None,\n",
    "                       size)\n",
    "\n",
    "# \n",
    "size = 3\n",
    "fig = v.plot_scatter_3d( \n",
    "                       X_clean[:,:3], \n",
    "                       db_ordered, \n",
    "                       'clusters',\n",
    "                        'Edge',\n",
    "                        1,1,\n",
    "                        fig,\n",
    "                        size)\n",
    "#fig.show()\n",
    "fig.update_layout(\n",
    "#     font_family=\"Courier New\",\n",
    "#     font_color=\"blue\",\n",
    "#     title_font_family=\"Times New Roman\",\n",
    "#     title_font_color=\"red\",\n",
    "#     legend_title_font_color=\"green\",\n",
    "    title = animal_id + \" \" + session + \";  PCs: \"+str(pcs)+ \n",
    "    \";  allpoints (grey): \"+ str(X_pca.shape[0])+ \n",
    "    \";  clustered points (colors): \"+str(X_clean.shape[0])\n",
    ")\n",
    "#fig.show()\n",
    "import plotly.io as pio\n",
    "fname_out = \"/home/cat/code/manifolds/docs/pca_\"+animal_id + \"_\" + session + \"_PCs_\"+str(pcs)+\".html\"\n",
    "pio.write_html(fig, file=fname_out, auto_open=True)\n",
    "\n",
    "#fig.write_html(\")"
   ]
  },
  {
   "cell_type": "code",
   "execution_count": null,
   "id": "d60cbf5a",
   "metadata": {},
   "outputs": [],
   "source": []
  },
  {
   "cell_type": "code",
   "execution_count": null,
   "id": "a911f0cd",
   "metadata": {},
   "outputs": [],
   "source": []
  },
  {
   "cell_type": "code",
   "execution_count": null,
   "id": "37031b97",
   "metadata": {},
   "outputs": [],
   "source": []
  },
  {
   "cell_type": "code",
   "execution_count": null,
   "id": "683877ef",
   "metadata": {},
   "outputs": [],
   "source": []
  },
  {
   "cell_type": "code",
   "execution_count": null,
   "id": "a2ca0235",
   "metadata": {},
   "outputs": [],
   "source": []
  },
  {
   "cell_type": "code",
   "execution_count": null,
   "id": "6ca427c8",
   "metadata": {},
   "outputs": [],
   "source": []
  }
 ],
 "metadata": {
  "kernelspec": {
   "display_name": "Python 3 (ipykernel)",
   "language": "python",
   "name": "python3"
  },
  "language_info": {
   "codemirror_mode": {
    "name": "ipython",
    "version": 3
   },
   "file_extension": ".py",
   "mimetype": "text/x-python",
   "name": "python",
   "nbconvert_exporter": "python",
   "pygments_lexer": "ipython3",
   "version": "3.8.12"
  }
 },
 "nbformat": 4,
 "nbformat_minor": 5
}
