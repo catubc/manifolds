{
 "cells": [
  {
   "cell_type": "code",
   "execution_count": 270,
   "id": "6391f679",
   "metadata": {},
   "outputs": [
    {
     "data": {
      "application/javascript": [
       "IPython.notebook.set_autosave_interval(180000)"
      ]
     },
     "metadata": {},
     "output_type": "display_data"
    },
    {
     "name": "stdout",
     "output_type": "stream",
     "text": [
      "Autosaving every 180 seconds\n",
      "The autoreload extension is already loaded. To reload it, use:\n",
      "  %reload_ext autoreload\n"
     ]
    },
    {
     "data": {
      "text/html": [
       "<style>.container { width:100% !important; }</style>"
      ],
      "text/plain": [
       "<IPython.core.display.HTML object>"
      ]
     },
     "metadata": {},
     "output_type": "display_data"
    }
   ],
   "source": [
    "import matplotlib\n",
    "%matplotlib tk\n",
    "%autosave 180\n",
    "%load_ext autoreload\n",
    "%autoreload 2\n",
    "\n",
    "import nest_asyncio\n",
    "%config Completer.use_jedi = False\n",
    "\n",
    "#\n",
    "import matplotlib.pyplot as plt\n",
    "from IPython.core.display import display, HTML\n",
    "display(HTML(\"<style>.container { width:100% !important; }</style>\"))\n",
    "\n",
    "import scipy\n",
    "import numpy as np\n",
    "import pandas as pd\n",
    "import os\n",
    "import os\n",
    "os.chdir('..')\n",
    "\n",
    "from calcium import calcium\n",
    "from wheel import wheel\n",
    "from visualize import visualize\n",
    "from tqdm import trange\n",
    "\n",
    "\n",
    "from scipy.io import loadmat\n",
    "\n",
    "import umap\n",
    "\n",
    "from sklearn.decomposition import PCA\n",
    "import plotly.express as px\n",
    "from plotly.subplots import make_subplots\n",
    "import plotly.graph_objects as go\n",
    "\n",
    "# \n",
    "np.set_printoptions(suppress=True)\n"
   ]
  },
  {
   "cell_type": "code",
   "execution_count": 285,
   "id": "87472120",
   "metadata": {},
   "outputs": [
    {
     "name": "stdout",
     "output_type": "stream",
     "text": [
      "<KeysViewHDF5 ['pos']>\n",
      "(37160,)\n"
     ]
    }
   ],
   "source": [
    "import h5py\n",
    "fname = '/media/cat/4TB/donato/steffen/DON-004366/20210228/suite2p/plane0/pos.mat'\n",
    "with h5py.File(fname, 'r') as f:\n",
    "    print (f.keys())\n",
    "    \n",
    "    pos = np.array(f['pos']).squeeze()\n",
    "print (pos.shape)\n"
   ]
  },
  {
   "cell_type": "code",
   "execution_count": 338,
   "id": "a6c4ed3b",
   "metadata": {},
   "outputs": [
    {
     "name": "stdout",
     "output_type": "stream",
     "text": [
      "(1028, 37160)\n"
     ]
    }
   ],
   "source": [
    "#################################################\n",
    "#################################################\n",
    "#################################################\n",
    "from scipy.ndimage import gaussian_filter1d\n",
    "from matplotlib.gridspec import  GridSpec\n",
    "\n",
    "#\n",
    "fname = '/media/cat/4TB/donato/steffen/DON-004366/20210228/suite2p/plane0/binarized_traces.npz'\n",
    "d = np.load(fname,\n",
    "              allow_pickle=True)\n",
    "\n",
    "# \n",
    "F_thresholded = d['events_F_threshold_upphase']\n",
    "oasis_smooth = d['events_Oasis_smooth_upphase']\n",
    "spikes= d['spikes']\n",
    "\n",
    "# \n",
    "print (spikes.shape)\n"
   ]
  },
  {
   "cell_type": "code",
   "execution_count": 339,
   "id": "5aa17eeb",
   "metadata": {},
   "outputs": [
    {
     "name": "stderr",
     "output_type": "stream",
     "text": [
      "100%|███████████████████████████████████████████████████████████████████████████████████████████████████████| 1028/1028 [00:00<00:00, 5015.87it/s]\n",
      "100%|███████████████████████████████████████████████████████████████████████████████████████████████████████| 1028/1028 [00:00<00:00, 3496.99it/s]\n",
      "100%|███████████████████████████████████████████████████████████████████████████████████████████████████████| 1028/1028 [00:00<00:00, 4831.12it/s]\n"
     ]
    }
   ],
   "source": [
    "# \n",
    "y_f = []\n",
    "y_oasis = []\n",
    "\n",
    "fig=plt.figure()\n",
    "imgs=[]\n",
    "for k in range(3):\n",
    "    \n",
    "    if k==0:\n",
    "        data_in = F_thresholded.copy()\n",
    "        label = 'F_thresholded'\n",
    "\n",
    "    elif k==1:\n",
    "        data_in = oasis_smooth.copy()\n",
    "        label = 'Oasis smoothed x F scaled'\n",
    "        \n",
    "    elif k==2: \n",
    "        data_in = spikes.copy()\n",
    "        label = 'spikes'\n",
    "\n",
    "    ax = plt.subplot(3,1,k+1)\n",
    "    img = []\n",
    "    width=1\n",
    "    for unit in trange(data_in.shape[0]):\n",
    "    #for unit in np.random.randint(0,data_in.shape[0]):\n",
    "        #unit=57\n",
    "        idx = np.where(data_in[unit]>0)[0]\n",
    "        #print (np.unique(pos[idx]).shape, idx.shape)\n",
    "        if False:\n",
    "            y = np.histogram(pos[idx],bins=np.arange(0,180,width))\n",
    "        else:\n",
    "            y = np.histogram(pos[idx], weights = data_in[unit][idx],\n",
    "                             bins=np.arange(0,180,width))\n",
    "\n",
    "        yy=y[0]/(np.max(y[0])+0.0001)\n",
    "            \n",
    "        if k == 0:\n",
    "            y_f.append(yy)\n",
    "        elif k==1:\n",
    "            y_oasis.append(yy)\n",
    "        img.append(yy)\n",
    "\n",
    "    # \n",
    "    img=np.vstack(img)\n",
    "    if k==0:\n",
    "        idx2 = np.argsort(np.argmax(img,axis=1))\n",
    "        \n",
    "    img=img[idx2]\n",
    "\n",
    "    vmax = np.max(img)*.8\n",
    "    plt.imshow(img,\n",
    "              aspect='auto',\n",
    "              cmap='magma',\n",
    "              vmin=0,\n",
    "              extent=[0,180,0,data_in.shape[0]],\n",
    "              vmax=vmax)\n",
    "    \n",
    "    plt.ylabel(label + \"\\nNeuron Ids (ordered by peak time)\")\n",
    "    imgs.append(img)\n",
    "    \n",
    "# \n",
    "plt.show()\n",
    "\n",
    "\n"
   ]
  },
  {
   "cell_type": "code",
   "execution_count": 340,
   "id": "cf8a1ace",
   "metadata": {},
   "outputs": [],
   "source": [
    "#y_f = []\n",
    "units = [1,43,54,268,272,416,678,820, 500]\n",
    "ctr=0\n",
    "fig=plt.figure()\n",
    "for unit in units:\n",
    "    ax=plt.subplot(3,3,ctr+1)\n",
    "    labels = ['F','oasis','0.01cm']\n",
    "    #clrs = ['lightblue', 'royalblue','blue','lightcoral','pink','red']\n",
    "    clrs='blue', 'red'\n",
    "    #for k in range(len(y_f)):\n",
    "    t=np.linspace(0, 180, y_f[unit].shape[0])\n",
    "    if False:\n",
    "        plt.plot(t, y_f[unit]/np.max(y_f[unit]), label=labels[0],c=clrs[0])\n",
    "        plt.plot(t, y_oasis[unit]/np.max(y_oasis[unit]),label=labels[1],c=clrs[1])\n",
    "    else:\n",
    "        plt.plot(t, y_f[unit], label=labels[0],c=clrs[0])\n",
    "        plt.plot(t, y_oasis[unit],label=labels[1],c=clrs[1])\n",
    "    plt.legend(fontsize=20)\n",
    "    #plt.title(\"Spatial footprint as a function of time bin\", fontsize=20)\n",
    "    #plt.xlabel(\"Location on track (cm)\", fontsize=20)\n",
    "    plt.xlim(0,180)\n",
    "    plt.ylim(bottom=0)\n",
    "    ctr+=1\n",
    "plt.show()"
   ]
  },
  {
   "cell_type": "code",
   "execution_count": 333,
   "id": "869f47f9",
   "metadata": {},
   "outputs": [],
   "source": [
    "fig=plt.figure()\n",
    "ctr=0\n",
    "k=0\n",
    "while True:\n",
    "#for ctr, k in enumerate(range(20,100,1)):\n",
    "   \n",
    "    temp1 = y_f[k]\n",
    "    temp2 = y_oasis[k]\n",
    "\n",
    "    if np.max(temp1)==0 and np.max(temp2)==0:\n",
    "        k+=1\n",
    "        continue\n",
    "    \n",
    "    ax=plt.subplot(20,4,ctr+1)\n",
    "    plt.ylabel(str(k),fontsize=6)\n",
    "    \n",
    "    plt.plot(temp1/np.max(temp1),label=\"F_thresh\",c='blue')\n",
    "    plt.plot(temp2/np.max(temp2), label = \"Oasis x F x rolling window\",c='red')\n",
    "    #plt.plot(temp2/np.max(temp2), c='magenta', \n",
    "    #         label = \"raw spikes\")\n",
    "    #plt.plot(imgs[2][k]/100., label = \"spikes\")\n",
    "    plt.xlim(0,180)\n",
    "    #plt.ylim(bottom=0)\n",
    "\n",
    "    if ctr==0:\n",
    "        plt.legend(fontsize=6)\n",
    "    plt.xticks([])\n",
    "    plt.yticks([])\n",
    "    \n",
    "    \n",
    "    ctr+=1\n",
    "    k+=1\n",
    "    if ctr==80:\n",
    "        break\n",
    "        \n",
    "plt.show()"
   ]
  },
  {
   "cell_type": "code",
   "execution_count": null,
   "id": "dc1bbc66",
   "metadata": {},
   "outputs": [],
   "source": []
  },
  {
   "cell_type": "code",
   "execution_count": null,
   "id": "5833aa9b",
   "metadata": {},
   "outputs": [],
   "source": []
  },
  {
   "cell_type": "code",
   "execution_count": null,
   "id": "beb8cb3b",
   "metadata": {},
   "outputs": [],
   "source": []
  },
  {
   "cell_type": "code",
   "execution_count": null,
   "id": "55b46e24",
   "metadata": {},
   "outputs": [],
   "source": []
  },
  {
   "cell_type": "code",
   "execution_count": null,
   "id": "436e1a16",
   "metadata": {},
   "outputs": [],
   "source": []
  },
  {
   "cell_type": "code",
   "execution_count": null,
   "id": "53449590",
   "metadata": {},
   "outputs": [],
   "source": []
  },
  {
   "cell_type": "code",
   "execution_count": null,
   "id": "33b36f1f",
   "metadata": {},
   "outputs": [],
   "source": []
  }
 ],
 "metadata": {
  "kernelspec": {
   "display_name": "Python 3 (ipykernel)",
   "language": "python",
   "name": "python3"
  },
  "language_info": {
   "codemirror_mode": {
    "name": "ipython",
    "version": 3
   },
   "file_extension": ".py",
   "mimetype": "text/x-python",
   "name": "python",
   "nbconvert_exporter": "python",
   "pygments_lexer": "ipython3",
   "version": "3.8.12"
  }
 },
 "nbformat": 4,
 "nbformat_minor": 5
}
