{
 "cells": [
  {
   "cell_type": "code",
   "execution_count": 1,
   "id": "6668f038",
   "metadata": {},
   "outputs": [
    {
     "data": {
      "application/javascript": [
       "IPython.notebook.set_autosave_interval(180000)"
      ]
     },
     "metadata": {},
     "output_type": "display_data"
    },
    {
     "name": "stdout",
     "output_type": "stream",
     "text": [
      "Autosaving every 180 seconds\n"
     ]
    },
    {
     "data": {
      "text/html": [
       "<style>.container { width:100% !important; }</style>"
      ],
      "text/plain": [
       "<IPython.core.display.HTML object>"
      ]
     },
     "metadata": {},
     "output_type": "display_data"
    }
   ],
   "source": [
    "import matplotlib\n",
    "%matplotlib tk\n",
    "%autosave 180\n",
    "%load_ext autoreload\n",
    "%autoreload 2\n",
    "\n",
    "import nest_asyncio\n",
    "%config Completer.use_jedi = False\n",
    "\n",
    "#\n",
    "import matplotlib.pyplot as plt\n",
    "from IPython.core.display import display, HTML\n",
    "display(HTML(\"<style>.container { width:100% !important; }</style>\"))\n",
    "\n",
    "import scipy\n",
    "import numpy as np\n",
    "import pandas as pd\n",
    "import os\n",
    "\n",
    "import os\n",
    "os.chdir('/home/cat/code/manifolds/')\n",
    "\n",
    "from calcium import calcium\n",
    "from wheel import wheel\n",
    "from visualize import visualize\n",
    "from tqdm import trange\n",
    "\n",
    "from scipy.io import loadmat\n",
    "\n",
    "import umap\n",
    "\n",
    "from sklearn.decomposition import PCA\n",
    "import plotly.express as px\n",
    "from plotly.subplots import make_subplots\n",
    "import plotly.graph_objects as go\n",
    "\n",
    "\n",
    "#\n",
    "from sklearn.cluster import DBSCAN\n",
    "from sklearn import metrics\n",
    "from sklearn.datasets import make_blobs\n",
    "from sklearn.preprocessing import StandardScaler\n",
    "\n",
    "\n",
    "#\n",
    "from tsnecuda import TSNE\n",
    "\n",
    "# \n",
    "np.set_printoptions(suppress=True)\n"
   ]
  },
  {
   "cell_type": "code",
   "execution_count": 5,
   "id": "90b9db47",
   "metadata": {},
   "outputs": [
    {
     "name": "stdout",
     "output_type": "stream",
     "text": [
      "(36003, 43)\n",
      "[['scorer' 'DLC_resnet50_open_arena_white_floorSep8shuffle1_200000'\n",
      "  'DLC_resnet50_open_arena_white_floorSep8shuffle1_200000' ...\n",
      "  'DLC_resnet50_open_arena_white_floorSep8shuffle1_200000'\n",
      "  'DLC_resnet50_open_arena_white_floorSep8shuffle1_200000'\n",
      "  'DLC_resnet50_open_arena_white_floorSep8shuffle1_200000']\n",
      " ['bodyparts' 'snout' 'snout' ... 'tail_tip' 'tail_tip' 'tail_tip']\n",
      " ['coords' 'x' 'y' ... 'x' 'y' 'likelihood']\n",
      " ...\n",
      " ['35997' '1929.4710693359375' '1526.892822265625' ... '1547.64892578125'\n",
      "  '1165.356689453125' '0.9995512366294861']\n",
      " ['35998' '1929.422607421875' '1524.6185302734375' ...\n",
      "  '1547.0325927734375' '1169.79541015625' '0.999924898147583']\n",
      " ['35999' '1929.53369140625' '1525.818603515625' ... '1547.0889892578125'\n",
      "  '1175.59375' '0.9989499449729919']]\n",
      "Body feature index [16 17]\n",
      "(36000, 2)\n"
     ]
    }
   ],
   "source": [
    "####################################################################\n",
    "#################### LOAD DLC BODY COORDINATES #####################\n",
    "####################################################################\n",
    "\n",
    "import csv\n",
    "\n",
    "fname = '/media/cat/4TB/donato/laurenz/DON-005099/20210609/suite2p/plane0/DON-005099_20210609_TR-BSL_S1-ACQ_DLC.csv'\n",
    "\n",
    "def load_csv(fname):\n",
    "\n",
    "    from numpy import genfromtxt\n",
    "    locs = genfromtxt(fname, \n",
    "                      delimiter=',', \n",
    "                      dtype='str')\n",
    "\n",
    "    print (locs.shape)\n",
    "    print (locs)\n",
    "    \n",
    "    return locs\n",
    "\n",
    "\n",
    "locs = load_csv(fname)\n",
    "body_feature_idx = 5*3+1\n",
    "print (\"Body feature index\", np.arange(body_feature_idx,body_feature_idx+2,1))\n",
    "neck = np.float32(locs[3:,body_feature_idx:body_feature_idx+2])\n",
    "print (neck.shape)\n",
    "\n",
    "np.save('/media/cat/4TB/donato/laurenz/DON-005099/20210609/suite2p/plane0/locs.npy', neck)"
   ]
  },
  {
   "cell_type": "code",
   "execution_count": 6,
   "id": "44c4c104",
   "metadata": {},
   "outputs": [
    {
     "name": "stdout",
     "output_type": "stream",
     "text": [
      "[[1935.7167      -1.1136727]\n",
      " [1935.6301      -0.8825569]\n",
      " [1936.2708      -0.5595889]\n",
      " ...\n",
      " [1483.8932    1211.9296   ]\n",
      " [1485.0629    1211.3875   ]\n",
      " [1486.7317    1211.2448   ]]\n"
     ]
    }
   ],
   "source": [
    "print (neck)"
   ]
  },
  {
   "cell_type": "code",
   "execution_count": 7,
   "id": "645178fc",
   "metadata": {},
   "outputs": [
    {
     "name": "stdout",
     "output_type": "stream",
     "text": [
      "F cells:  (203, 36026) times:  (36026,)\n"
     ]
    }
   ],
   "source": [
    "####################################################################\n",
    "################### LOAD FLUORESCENCE TRACES #######################\n",
    "####################################################################\n",
    "fname = '/media/cat/4TB/donato/laurenz/DON-005099/20210609/suite2p/plane0/DON-005099_20210609_TRACES_ACQ.csv'\n",
    "\n",
    "def load_traces(fname):\n",
    "    \n",
    "    from tqdm import tqdm, trange\n",
    "    \n",
    "    from numpy import genfromtxt\n",
    "    data = genfromtxt(fname, delimiter=',', dtype='str')\n",
    "\n",
    "    cells = np.float32(data[2:,1:]).T\n",
    "    times = np.float32(data[2:,0])\n",
    "    \n",
    "    \n",
    "    print (\"F cells: \", cells.shape, \"times: \", times.shape)\n",
    "    return cells, times\n",
    "\n",
    "F, F_times = load_traces(fname)\n"
   ]
  },
  {
   "cell_type": "code",
   "execution_count": 9,
   "id": "ea56446a",
   "metadata": {},
   "outputs": [
    {
     "name": "stdout",
     "output_type": "stream",
     "text": [
      "[['Time (s)' ' Cell Name' ' Value']\n",
      " ['0.049961' ' C000' ' 0.713386']\n",
      " ['1.149103' ' C000' ' 0.4412095']\n",
      " ...\n",
      " ['1799.295454' ' C202' ' 3.850622']\n",
      " ['1799.445337' ' C202' ' 0.6576414']\n",
      " ['1799.59522' ' C202' ' 4.768372e-07']]\n"
     ]
    },
    {
     "name": "stderr",
     "output_type": "stream",
     "text": [
      "100%|███████████████████████████████████████████████████████████████████████████████████████████████████████████| 203/203 [01:17<00:00,  2.62it/s]"
     ]
    },
    {
     "name": "stdout",
     "output_type": "stream",
     "text": [
      "(203, 36026)\n"
     ]
    },
    {
     "name": "stderr",
     "output_type": "stream",
     "text": [
      "\n"
     ]
    }
   ],
   "source": [
    "####################################################################\n",
    "################## LOAD DECONVOLVES SPIKES #########################\n",
    "####################################################################\n",
    "\n",
    "def find_nearest_times(times1, times2):\n",
    "\n",
    "    # \n",
    "    idx3 = []\n",
    "    for k in range(times2.shape[0]):\n",
    "        spk = times2[k]\n",
    "        time = np.argmin(np.abs(times1-spk))\n",
    "        idx3.append(time)\n",
    "        \n",
    "    return idx3\n",
    "    \n",
    "#\n",
    "def load_spks(fname, F, F_times):\n",
    "    \n",
    "    from tqdm import tqdm, trange\n",
    "    \n",
    "    from numpy import genfromtxt\n",
    "    data = genfromtxt(fname, delimiter=',', dtype='str')\n",
    "    print (data)\n",
    "    \n",
    "    # \n",
    "    times = np.float32(data[1:,0])\n",
    "    cells = data[1:,1]\n",
    "    probs = np.float32(data[1:,2])\n",
    "    \n",
    "    #\n",
    "    cell_ids = np.sort(np.unique(cells))\n",
    "    \n",
    "    \n",
    "    spks = np.zeros((F.shape[0], F.shape[1]),'float32')\n",
    "    ctr=0\n",
    "    for cell_id in tqdm(cell_ids):\n",
    "\n",
    "        # find cell indexes\n",
    "        idx = np.where(cells==cell_id)[0]\n",
    "    \n",
    "        # grab probabilities at indexes\n",
    "        temp_probs = probs[idx]\n",
    "    \n",
    "        # get cell times\n",
    "        temp_time = times[idx]\n",
    "        \n",
    "        # convert cell times to \n",
    "        times_idx = find_nearest_times(F_times, temp_time)\n",
    "        \n",
    "        # insert probabilities\n",
    "        spks[ctr,times_idx] = temp_probs\n",
    "        \n",
    "        #\n",
    "        ctr+=1       \n",
    "    \n",
    "    return spks\n",
    "\n",
    "#\n",
    "fname = '/media/cat/4TB/donato/laurenz/DON-005099/20210609/suite2p/plane0/DON-005099_20210609_DECSPK_ACQ.csv'\n",
    "spks = load_spks(fname, F, F_times)\n",
    "print (spks.shape)\n",
    "\n"
   ]
  },
  {
   "cell_type": "code",
   "execution_count": null,
   "id": "f02c4ecb",
   "metadata": {},
   "outputs": [],
   "source": []
  },
  {
   "cell_type": "code",
   "execution_count": 10,
   "id": "b0046ce1",
   "metadata": {},
   "outputs": [],
   "source": [
    "# np.save('/media/cat/4TB/donato/laurenz/F.npy',F)\n",
    "# np.save('/media/cat/4TB/donato/laurenz/spks.npy',F)\n",
    "\n",
    "iscell = np.ones((F.shape[0],2))\n",
    "np.save('/media/cat/4TB/donato/laurenz/DON-005099/20210609/suite2p/plane0/iscell.npy',iscell)"
   ]
  },
  {
   "cell_type": "code",
   "execution_count": 11,
   "id": "8db1e238",
   "metadata": {},
   "outputs": [],
   "source": [
    "#######################################################\n",
    "#######################################################\n",
    "#######################################################\n",
    "plt.plot(spks[0], label='oasis spikes')\n",
    "plt.plot(F[0], label='raw fluorescence')\n",
    "plt.legend()\n",
    "plt.show()"
   ]
  },
  {
   "cell_type": "code",
   "execution_count": null,
   "id": "5ddeac03",
   "metadata": {},
   "outputs": [],
   "source": []
  },
  {
   "cell_type": "code",
   "execution_count": null,
   "id": "fc504400",
   "metadata": {},
   "outputs": [],
   "source": []
  },
  {
   "cell_type": "code",
   "execution_count": null,
   "id": "3e9456eb",
   "metadata": {},
   "outputs": [],
   "source": []
  },
  {
   "cell_type": "code",
   "execution_count": null,
   "id": "4c66f8f2",
   "metadata": {},
   "outputs": [],
   "source": []
  },
  {
   "cell_type": "code",
   "execution_count": null,
   "id": "31e5542d",
   "metadata": {},
   "outputs": [],
   "source": []
  },
  {
   "cell_type": "code",
   "execution_count": null,
   "id": "d182750e",
   "metadata": {},
   "outputs": [],
   "source": []
  },
  {
   "cell_type": "code",
   "execution_count": null,
   "id": "3167d2f3",
   "metadata": {},
   "outputs": [],
   "source": []
  },
  {
   "cell_type": "code",
   "execution_count": null,
   "id": "9d81402c",
   "metadata": {},
   "outputs": [],
   "source": []
  },
  {
   "cell_type": "code",
   "execution_count": null,
   "id": "f3210817",
   "metadata": {},
   "outputs": [],
   "source": []
  },
  {
   "cell_type": "code",
   "execution_count": null,
   "id": "d11436e3",
   "metadata": {},
   "outputs": [],
   "source": []
  },
  {
   "cell_type": "code",
   "execution_count": null,
   "id": "f1a90c9d",
   "metadata": {},
   "outputs": [],
   "source": []
  },
  {
   "cell_type": "code",
   "execution_count": null,
   "id": "d07efe25",
   "metadata": {},
   "outputs": [],
   "source": []
  },
  {
   "cell_type": "code",
   "execution_count": null,
   "id": "a67b2975",
   "metadata": {},
   "outputs": [],
   "source": []
  },
  {
   "cell_type": "code",
   "execution_count": null,
   "id": "05111432",
   "metadata": {},
   "outputs": [],
   "source": []
  },
  {
   "cell_type": "code",
   "execution_count": null,
   "id": "1f8a4c8d",
   "metadata": {},
   "outputs": [],
   "source": []
  },
  {
   "cell_type": "code",
   "execution_count": null,
   "id": "8334a7d4",
   "metadata": {},
   "outputs": [],
   "source": []
  },
  {
   "cell_type": "code",
   "execution_count": null,
   "id": "3ff2530e",
   "metadata": {},
   "outputs": [],
   "source": []
  },
  {
   "cell_type": "code",
   "execution_count": null,
   "id": "760c05b2",
   "metadata": {},
   "outputs": [],
   "source": []
  },
  {
   "cell_type": "code",
   "execution_count": null,
   "id": "f7080cd6",
   "metadata": {},
   "outputs": [],
   "source": []
  }
 ],
 "metadata": {
  "kernelspec": {
   "display_name": "Python 3 (ipykernel)",
   "language": "python",
   "name": "python3"
  },
  "language_info": {
   "codemirror_mode": {
    "name": "ipython",
    "version": 3
   },
   "file_extension": ".py",
   "mimetype": "text/x-python",
   "name": "python",
   "nbconvert_exporter": "python",
   "pygments_lexer": "ipython3",
   "version": "3.8.12"
  }
 },
 "nbformat": 4,
 "nbformat_minor": 5
}
