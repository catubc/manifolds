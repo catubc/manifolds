{
 "cells": [
  {
   "cell_type": "code",
   "execution_count": 2,
   "id": "6391f679",
   "metadata": {},
   "outputs": [
    {
     "data": {
      "application/javascript": [
       "IPython.notebook.set_autosave_interval(180000)"
      ]
     },
     "metadata": {},
     "output_type": "display_data"
    },
    {
     "name": "stdout",
     "output_type": "stream",
     "text": [
      "Autosaving every 180 seconds\n",
      "The autoreload extension is already loaded. To reload it, use:\n",
      "  %reload_ext autoreload\n"
     ]
    },
    {
     "data": {
      "text/html": [
       "<style>.container { width:100% !important; }</style>"
      ],
      "text/plain": [
       "<IPython.core.display.HTML object>"
      ]
     },
     "metadata": {},
     "output_type": "display_data"
    }
   ],
   "source": [
    "import matplotlib\n",
    "%matplotlib tk\n",
    "%autosave 180\n",
    "%load_ext autoreload\n",
    "%autoreload 2\n",
    "\n",
    "import nest_asyncio\n",
    "%config Completer.use_jedi = False\n",
    "\n",
    "#\n",
    "import matplotlib.pyplot as plt\n",
    "from IPython.core.display import display, HTML\n",
    "display(HTML(\"<style>.container { width:100% !important; }</style>\"))\n",
    "\n",
    "import scipy\n",
    "import numpy as np\n",
    "import pandas as pd\n",
    "import os\n",
    "import os\n",
    "os.chdir('..')\n",
    "\n",
    "from calcium import calcium\n",
    "from wheel import wheel\n",
    "from visualize import visualize\n",
    "from tqdm import trange\n",
    "\n",
    "\n",
    "from scipy.io import loadmat\n",
    "\n",
    "import umap\n",
    "\n",
    "from sklearn.decomposition import PCA\n",
    "import plotly.express as px\n",
    "from plotly.subplots import make_subplots\n",
    "import plotly.graph_objects as go\n",
    "\n",
    "# \n",
    "np.set_printoptions(suppress=True)\n"
   ]
  },
  {
   "cell_type": "code",
   "execution_count": 3,
   "id": "a6c4ed3b",
   "metadata": {},
   "outputs": [
    {
     "name": "stdout",
     "output_type": "stream",
     "text": [
      "Cell spikes:  (203, 36026)\n",
      "Cell F:  (203, 36026)\n",
      "(36000, 2)\n"
     ]
    }
   ],
   "source": [
    "#################################################\n",
    "####### LOAD DLC AND NEURAL ACTIVITY ############\n",
    "#################################################\n",
    "from scipy.ndimage import gaussian_filter1d\n",
    "from matplotlib.gridspec import  GridSpec\n",
    "\n",
    "#\n",
    "fname = '/media/cat/4TB/donato/laurenz/DON-005099/20210609/suite2p/plane0/binarized_traces.npz'\n",
    "d = np.load(fname,\n",
    "              allow_pickle=True)\n",
    "\n",
    "# \n",
    "F_thresholded = d['events_F_threshold_upphase']\n",
    "oasis_smooth = d['events_Oasis_smooth_upphase']\n",
    "spikes= d['spikes']\n",
    "\n",
    "# \n",
    "print (\"Cell spikes: \", spikes.shape)\n",
    "print (\"Cell F: \", F_thresholded.shape)\n",
    "\n",
    "#\n",
    "locs = np.load('/media/cat/4TB/donato/laurenz/DON-005099/20210609/suite2p/plane0/locs.npy')\n",
    "print (locs.shape)\n",
    "plt.scatter(locs[:, 0], locs[:, 1],\n",
    "           alpha=.4)\n",
    "plt.show()"
   ]
  },
  {
   "cell_type": "code",
   "execution_count": 4,
   "id": "2a5a8d1d",
   "metadata": {},
   "outputs": [
    {
     "name": "stderr",
     "output_type": "stream",
     "text": [
      "100%|███████████████████████████████████████████████████████████████████████████████████████████████████████████| 100/100 [00:54<00:00,  1.82it/s]\n"
     ]
    }
   ],
   "source": [
    "###########################################################\n",
    "################# GENERATE CELL MAPS ######################\n",
    "###########################################################\n",
    "from tqdm import tqdm\n",
    "\n",
    "# make gaussian kernel\n",
    "width=300\n",
    "x, y = np.meshgrid(np.linspace(-1,1,width), np.linspace(-1,1,width))\n",
    "dst = np.sqrt(x*x+y*y)\n",
    "sigma = .2\n",
    "muu = 0.000  \n",
    "scaler = 10\n",
    "gauss = np.exp(-( (dst-muu)**2 / ( scaler * sigma**2 ) ) )\n",
    "\n",
    "\n",
    "\n",
    "###############################################################\n",
    "###############################################################\n",
    "###############################################################\n",
    "fig=plt.figure()\n",
    "units=np.arange(0,100,1)\n",
    "scaled=True\n",
    "ctr=0\n",
    "imgs = []\n",
    "for unit in tqdm(units):\n",
    "    ax=plt.subplot(10,10,ctr+1)\n",
    "    #ax=plt.subplot(2,5,ctr+1)\n",
    "    spks = oasis_smooth[unit]\n",
    "    spks = spikes[unit]\n",
    "    idx = np.where(spks>0)[0]\n",
    "    \n",
    "    if False:\n",
    "        #idx += np.random.randint(-100,1E3,idx.shape[0])\n",
    "        idx += 5000\n",
    "\n",
    "    # \n",
    "    img = np.zeros((2000,1600),'float32')\n",
    "    for id_ in idx:\n",
    "        #\n",
    "        try:\n",
    "            temp_loc = np.int32(locs[id_])\n",
    "        except:\n",
    "            continue\n",
    "\n",
    "        #\n",
    "        scale=1.0\n",
    "        if scaled:\n",
    "            scale=spks[id_]\n",
    "\n",
    "        try:\n",
    "            img[temp_loc[0]-width//2:temp_loc[0]+width//2,\n",
    "                temp_loc[1]-width//2:temp_loc[1]+width//2]+= gauss*scale\n",
    "        except:\n",
    "            pass\n",
    "\n",
    "    img = img[350:1800,100:1400]\n",
    "    plt.ylabel(str(unit))\n",
    "    plt.imshow(img,\n",
    "              vmin=0,\n",
    "              vmax=np.max(img),\n",
    "              cmap='jet')\n",
    "    plt.xticks([])\n",
    "    plt.yticks([])\n",
    "    imgs.append(img)\n",
    "    \n",
    "    ctr+=1\n",
    "plt.show()\n",
    "\n"
   ]
  },
  {
   "cell_type": "code",
   "execution_count": 13,
   "id": "32700fd1",
   "metadata": {},
   "outputs": [
    {
     "name": "stderr",
     "output_type": "stream",
     "text": [
      "100%|███████████████████████████████████████████████████████████████████████████████████████████████████████████████| 3/3 [00:01<00:00,  2.75it/s]\n"
     ]
    }
   ],
   "source": [
    "##################################################################\n",
    "##################################################################\n",
    "##################################################################\n",
    "from tqdm import tqdm\n",
    "\n",
    "# make gaussian kernel\n",
    "width=200\n",
    "x, y = np.meshgrid(np.linspace(-1,1,width), \n",
    "                   np.linspace(-1,1,width))\n",
    "\n",
    "# \n",
    "dst = np.sqrt(x*x+y*y)\n",
    "sigma = .2\n",
    "muu = 0.001\n",
    "scaler = 10\n",
    "gauss = np.exp(-( (dst-muu)**2 / ( scaler * sigma**2 ) ) )\n",
    "\n",
    "fig=plt.figure()\n",
    "# units=np.arange(100)\n",
    "units = [31,39,97]\n",
    "ctr=0\n",
    "labels=['F_upphase','Oasis_smooth','Oasis spikes']\n",
    "scaled=False\n",
    "for unit in tqdm(units):\n",
    "\n",
    "    # \n",
    "    for p in range(3):\n",
    "        ax=plt.subplot(3,len(units),ctr+1+p*3)\n",
    "        if p==0:\n",
    "            spks = F_thresholded[unit]\n",
    "        elif p==1:\n",
    "            spks = oasis_smooth[unit]\n",
    "        elif p==2:\n",
    "            spks = spikes[unit]\n",
    "            \n",
    "        if ctr==0:\n",
    "            plt.ylabel(labels[p])\n",
    "        \n",
    "        # \n",
    "        idx = np.where(spks>0)[0]\n",
    "        #idx = np.arange(spks.shape[0])\n",
    "\n",
    "        if False:\n",
    "            #idx += np.random.randint(-100,1E3,idx.shape[0])\n",
    "            idx += 5000\n",
    "\n",
    "        # \n",
    "        img = np.zeros((2000,1600),'float32')\n",
    "        for id_ in idx:\n",
    "\n",
    "            #\n",
    "            try:\n",
    "                temp_loc = np.int32(locs[id_])\n",
    "            except:\n",
    "                continue\n",
    "\n",
    "            #\n",
    "            scale=1.0\n",
    "            if scaled:\n",
    "                scale=spks[id_]\n",
    "                \n",
    "            try:\n",
    "                img[temp_loc[0]-width//2:temp_loc[0]+width//2,\n",
    "                    temp_loc[1]-width//2:temp_loc[1]+width//2]+= gauss*scale\n",
    "            except:\n",
    "                pass\n",
    "\n",
    "        img = img[500:1700,200:1300]\n",
    "        plt.title(\"cell : \"+ str(unit))\n",
    "        plt.imshow(img,\n",
    "                  vmin=0,\n",
    "                  vmax=np.max(img),\n",
    "                  cmap='jet')\n",
    "        plt.xticks([])\n",
    "        plt.yticks([])\n",
    "        \n",
    "    ctr+=1\n",
    "plt.show()\n",
    "\n",
    "\n",
    "\n",
    "\n",
    "\n",
    "\n"
   ]
  },
  {
   "cell_type": "code",
   "execution_count": null,
   "id": "0ee2f83f",
   "metadata": {},
   "outputs": [],
   "source": []
  },
  {
   "cell_type": "code",
   "execution_count": null,
   "id": "7848c891",
   "metadata": {},
   "outputs": [],
   "source": []
  },
  {
   "cell_type": "code",
   "execution_count": null,
   "id": "48ecea14",
   "metadata": {},
   "outputs": [],
   "source": []
  },
  {
   "cell_type": "code",
   "execution_count": null,
   "id": "515f35f0",
   "metadata": {},
   "outputs": [],
   "source": []
  },
  {
   "cell_type": "code",
   "execution_count": null,
   "id": "9359da02",
   "metadata": {},
   "outputs": [],
   "source": []
  },
  {
   "cell_type": "code",
   "execution_count": null,
   "id": "33b36f1f",
   "metadata": {},
   "outputs": [],
   "source": []
  }
 ],
 "metadata": {
  "kernelspec": {
   "display_name": "Python 3 (ipykernel)",
   "language": "python",
   "name": "python3"
  },
  "language_info": {
   "codemirror_mode": {
    "name": "ipython",
    "version": 3
   },
   "file_extension": ".py",
   "mimetype": "text/x-python",
   "name": "python",
   "nbconvert_exporter": "python",
   "pygments_lexer": "ipython3",
   "version": "3.8.12"
  }
 },
 "nbformat": 4,
 "nbformat_minor": 5
}
